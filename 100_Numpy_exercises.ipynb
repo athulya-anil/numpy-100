{
 "cells": [
  {
   "cell_type": "markdown",
   "id": "86d7d90d",
   "metadata": {},
   "source": [
    "# 100 numpy exercises\n",
    "\n",
    "This is a collection of exercises that have been collected in the numpy mailing list, on stack overflow\n",
    "and in the numpy documentation. The goal of this collection is to offer a quick reference for both old\n",
    "and new users but also to provide a set of exercises for those who teach.\n",
    "\n",
    "\n",
    "If you find an error or think you've a better way to solve some of them, feel\n",
    "free to open an issue at <https://github.com/rougier/numpy-100>."
   ]
  },
  {
   "cell_type": "markdown",
   "id": "23c3de32",
   "metadata": {},
   "source": [
    "File automatically generated. See the documentation to update questions/answers/hints programmatically."
   ]
  },
  {
   "cell_type": "markdown",
   "id": "71eb9a4d",
   "metadata": {},
   "source": [
    "Run the `initialize.py` module, then for each question you can query the\n",
    "answer or an hint with `hint(n)` or `answer(n)` for `n` question number."
   ]
  },
  {
   "cell_type": "code",
   "execution_count": 1,
   "id": "f752b0f7",
   "metadata": {},
   "outputs": [],
   "source": [
    "%run initialise.py"
   ]
  },
  {
   "cell_type": "markdown",
   "id": "4f870b6b",
   "metadata": {},
   "source": [
    "#### 1. Import the numpy package under the name `np` (★☆☆)"
   ]
  },
  {
   "cell_type": "code",
   "execution_count": 1,
   "id": "62928f13",
   "metadata": {},
   "outputs": [],
   "source": [
    "import numpy as np"
   ]
  },
  {
   "cell_type": "markdown",
   "id": "edadb91f",
   "metadata": {},
   "source": [
    "#### 2. Print the numpy version and the configuration (★☆☆)"
   ]
  },
  {
   "cell_type": "code",
   "execution_count": 4,
   "id": "81886061",
   "metadata": {},
   "outputs": [
    {
     "name": "stdout",
     "output_type": "stream",
     "text": [
      "2.3.1\n"
     ]
    }
   ],
   "source": [
    "print(np.__version__)"
   ]
  },
  {
   "cell_type": "markdown",
   "id": "68fc6d4e",
   "metadata": {},
   "source": [
    "#### 3. Create a null vector of size 10 (★☆☆)"
   ]
  },
  {
   "cell_type": "code",
   "execution_count": 8,
   "id": "49109360",
   "metadata": {},
   "outputs": [
    {
     "name": "stdout",
     "output_type": "stream",
     "text": [
      "[0. 0. 0. 0. 0. 0. 0. 0. 0. 0.]\n"
     ]
    }
   ],
   "source": [
    "z=np.zeros(10) \n",
    "print(z)"
   ]
  },
  {
   "cell_type": "markdown",
   "id": "0b1d0ac2",
   "metadata": {},
   "source": [
    "#### 4. How to find the memory size of any array (★☆☆)"
   ]
  },
  {
   "cell_type": "code",
   "execution_count": 9,
   "id": "73b370a4",
   "metadata": {},
   "outputs": [
    {
     "name": "stdout",
     "output_type": "stream",
     "text": [
      "8\n"
     ]
    }
   ],
   "source": [
    "print(z.itemsize)"
   ]
  },
  {
   "cell_type": "markdown",
   "id": "56876d69",
   "metadata": {},
   "source": [
    "#### 5. How to get the documentation of the numpy add function from the command line? (★☆☆)"
   ]
  },
  {
   "cell_type": "code",
   "execution_count": 12,
   "id": "95294b19",
   "metadata": {},
   "outputs": [
    {
     "name": "stdout",
     "output_type": "stream",
     "text": [
      "Help on ufunc in module numpy:\n",
      "\n",
      "add = <ufunc 'add'>\n",
      "    add(x1, x2, /, out=None, *, where=True, casting='same_kind', order='K', dtype=None, subok=True[, signature])\n",
      "    \n",
      "    Add arguments element-wise.\n",
      "    \n",
      "    Parameters\n",
      "    ----------\n",
      "    x1, x2 : array_like\n",
      "        The arrays to be added.\n",
      "        If ``x1.shape != x2.shape``, they must be broadcastable to a common\n",
      "        shape (which becomes the shape of the output).\n",
      "    out : ndarray, None, or tuple of ndarray and None, optional\n",
      "        A location into which the result is stored. If provided, it must have\n",
      "        a shape that the inputs broadcast to. If not provided or None,\n",
      "        a freshly-allocated array is returned. A tuple (possible only as a\n",
      "        keyword argument) must have length equal to the number of outputs.\n",
      "    where : array_like, optional\n",
      "        This condition is broadcast over the input. At locations where the\n",
      "        condition is True, the `out` array will be set to the ufunc result.\n",
      "        Elsewhere, the `out` array will retain its original value.\n",
      "        Note that if an uninitialized `out` array is created via the default\n",
      "        ``out=None``, locations within it where the condition is False will\n",
      "        remain uninitialized.\n",
      "    **kwargs\n",
      "        For other keyword-only arguments, see the\n",
      "        :ref:`ufunc docs <ufuncs.kwargs>`.\n",
      "    \n",
      "    Returns\n",
      "    -------\n",
      "    add : ndarray or scalar\n",
      "        The sum of `x1` and `x2`, element-wise.\n",
      "        This is a scalar if both `x1` and `x2` are scalars.\n",
      "    \n",
      "    Notes\n",
      "    -----\n",
      "    Equivalent to `x1` + `x2` in terms of array broadcasting.\n",
      "    \n",
      "    Examples\n",
      "    --------\n",
      "    >>> import numpy as np\n",
      "    >>> np.add(1.0, 4.0)\n",
      "    5.0\n",
      "    >>> x1 = np.arange(9.0).reshape((3, 3))\n",
      "    >>> x2 = np.arange(3.0)\n",
      "    >>> np.add(x1, x2)\n",
      "    array([[  0.,   2.,   4.],\n",
      "           [  3.,   5.,   7.],\n",
      "           [  6.,   8.,  10.]])\n",
      "    \n",
      "    The ``+`` operator can be used as a shorthand for ``np.add`` on ndarrays.\n",
      "    \n",
      "    >>> x1 = np.arange(9.0).reshape((3, 3))\n",
      "    >>> x2 = np.arange(3.0)\n",
      "    >>> x1 + x2\n",
      "    array([[ 0.,  2.,  4.],\n",
      "           [ 3.,  5.,  7.],\n",
      "           [ 6.,  8., 10.]])\n",
      "\n"
     ]
    }
   ],
   "source": [
    "help(np.add)"
   ]
  },
  {
   "cell_type": "markdown",
   "id": "ee618a7b",
   "metadata": {},
   "source": [
    "#### 6. Create a null vector of size 10 but the fifth value which is 1 (★☆☆)"
   ]
  },
  {
   "cell_type": "code",
   "execution_count": 13,
   "id": "ce78fafd",
   "metadata": {},
   "outputs": [
    {
     "name": "stdout",
     "output_type": "stream",
     "text": [
      "[0. 0. 0. 0. 1. 0. 0. 0. 0. 0.]\n"
     ]
    }
   ],
   "source": [
    "z=np.zeros(10)\n",
    "z[4]=1\n",
    "print(z)"
   ]
  },
  {
   "cell_type": "markdown",
   "id": "fd391587",
   "metadata": {},
   "source": [
    "#### 7. Create a vector with values ranging from 10 to 49 (★☆☆)"
   ]
  },
  {
   "cell_type": "code",
   "execution_count": 15,
   "id": "327d872f",
   "metadata": {},
   "outputs": [
    {
     "name": "stdout",
     "output_type": "stream",
     "text": [
      "[10 11 12 13 14 15 16 17 18 19 20 21 22 23 24 25 26 27 28 29 30 31 32 33\n",
      " 34 35 36 37 38 39 40 41 42 43 44 45 46 47 48 49]\n"
     ]
    }
   ],
   "source": [
    "x=np.arange(10,50)\n",
    "print(x)"
   ]
  },
  {
   "cell_type": "markdown",
   "id": "74e245ac",
   "metadata": {},
   "source": [
    "#### 8. Reverse a vector (first element becomes last) (★☆☆)"
   ]
  },
  {
   "cell_type": "code",
   "execution_count": 16,
   "id": "d1dd2da1",
   "metadata": {},
   "outputs": [
    {
     "name": "stdout",
     "output_type": "stream",
     "text": [
      "[49 48 47 46 45 44 43 42 41 40 39 38 37 36 35 34 33 32 31 30 29 28 27 26\n",
      " 25 24 23 22 21 20 19 18 17 16 15 14 13 12 11 10]\n"
     ]
    }
   ],
   "source": [
    "flipped_x=np.flip(x)\n",
    "print(flipped_x)"
   ]
  },
  {
   "cell_type": "markdown",
   "id": "330064b1",
   "metadata": {},
   "source": [
    "#### 9. Create a 3x3 matrix with values ranging from 0 to 8 (★☆☆)"
   ]
  },
  {
   "cell_type": "code",
   "execution_count": 19,
   "id": "ad5a2a6e",
   "metadata": {},
   "outputs": [
    {
     "name": "stdout",
     "output_type": "stream",
     "text": [
      "[[0 1 2]\n",
      " [3 4 5]\n",
      " [6 7 8]]\n"
     ]
    }
   ],
   "source": [
    "matrix_a=np.arange(0,9).reshape(3,3)\n",
    "print(matrix_a)"
   ]
  },
  {
   "cell_type": "markdown",
   "id": "51a32c95",
   "metadata": {},
   "source": [
    "#### 10. Find indices of non-zero elements from [1,2,0,0,4,0] (★☆☆)"
   ]
  },
  {
   "cell_type": "code",
   "execution_count": 24,
   "id": "9d820628",
   "metadata": {},
   "outputs": [
    {
     "name": "stdout",
     "output_type": "stream",
     "text": [
      "[0 1 4]\n"
     ]
    }
   ],
   "source": [
    "arr=np.array([1,2,0,0,4,0])\n",
    "arr=np.nonzero(arr)[0]\n",
    "print(arr)"
   ]
  },
  {
   "cell_type": "markdown",
   "id": "bcc28d4e",
   "metadata": {},
   "source": [
    "#### 11. Create a 3x3 identity matrix (★☆☆)"
   ]
  },
  {
   "cell_type": "code",
   "execution_count": 6,
   "id": "eb504454",
   "metadata": {},
   "outputs": [
    {
     "name": "stdout",
     "output_type": "stream",
     "text": [
      "[[4. 0. 0.]\n",
      " [0. 4. 0.]\n",
      " [0. 0. 4.]]\n"
     ]
    }
   ],
   "source": [
    "identity_matrix = np.eye(3)\n",
    "print(identity_matrix)"
   ]
  },
  {
   "cell_type": "markdown",
   "id": "3adc02f3",
   "metadata": {},
   "source": [
    "#### 12. Create a 3x3x3 array with random values (★☆☆)"
   ]
  },
  {
   "cell_type": "code",
   "execution_count": 8,
   "id": "8b91d489",
   "metadata": {},
   "outputs": [
    {
     "name": "stdout",
     "output_type": "stream",
     "text": [
      "[[[0.43435274 0.53238109 0.66457568]\n",
      "  [0.76983113 0.35553705 0.20950918]\n",
      "  [0.49196771 0.99923216 0.9926786 ]]\n",
      "\n",
      " [[0.13205455 0.56212119 0.07725512]\n",
      "  [0.9384941  0.81028985 0.52160127]\n",
      "  [0.59824516 0.67801372 0.0152967 ]]\n",
      "\n",
      " [[0.65111153 0.60161659 0.92660568]\n",
      "  [0.7270223  0.91151203 0.95509577]\n",
      "  [0.68764067 0.99111805 0.45409011]]]\n"
     ]
    }
   ],
   "source": [
    "matrix_3=np.random.rand(3,3,3)\n",
    "print(matrix_3)"
   ]
  },
  {
   "cell_type": "markdown",
   "id": "a7cd9e02",
   "metadata": {},
   "source": [
    "#### 13. Create a 10x10 array with random values and find the minimum and maximum values (★☆☆)"
   ]
  },
  {
   "cell_type": "code",
   "execution_count": 12,
   "id": "a9871150",
   "metadata": {},
   "outputs": [
    {
     "name": "stdout",
     "output_type": "stream",
     "text": [
      "0.02972124119093067\n",
      "0.9940181415483806\n"
     ]
    }
   ],
   "source": [
    "matrix_10=np.random.rand(10,10)\n",
    "print(np.min(matrix_10))\n",
    "print(np.max(matrix_10))"
   ]
  },
  {
   "cell_type": "markdown",
   "id": "9c007df3",
   "metadata": {},
   "source": [
    "#### 14. Create a random vector of size 30 and find the mean value (★☆☆)"
   ]
  },
  {
   "cell_type": "code",
   "execution_count": 15,
   "id": "2ee43ca7",
   "metadata": {},
   "outputs": [
    {
     "name": "stdout",
     "output_type": "stream",
     "text": [
      "0.537085078257171\n"
     ]
    }
   ],
   "source": [
    "y=np.random.rand(30)\n",
    "print(np.mean(y))"
   ]
  },
  {
   "cell_type": "markdown",
   "id": "290aab6f",
   "metadata": {},
   "source": [
    "#### 15. Create a 2d array with 1 on the border and 0 inside (★☆☆)"
   ]
  },
  {
   "cell_type": "code",
   "execution_count": 23,
   "id": "def020fc",
   "metadata": {},
   "outputs": [
    {
     "name": "stdout",
     "output_type": "stream",
     "text": [
      "[[1. 1. 1. 1.]\n",
      " [1. 0. 0. 1.]\n",
      " [1. 0. 0. 1.]\n",
      " [1. 1. 1. 1.]]\n"
     ]
    }
   ],
   "source": [
    "z=np.ones((4,4))\n",
    "z[1:-1,1:-1]=0\n",
    "print(z)"
   ]
  },
  {
   "cell_type": "markdown",
   "id": "d5949ccd",
   "metadata": {},
   "source": [
    "#### 16. How to add a border (filled with 0's) around an existing array? (★☆☆)"
   ]
  },
  {
   "cell_type": "code",
   "execution_count": 24,
   "id": "47aa6e9b",
   "metadata": {},
   "outputs": [
    {
     "name": "stdout",
     "output_type": "stream",
     "text": [
      "[[0. 0. 0. 0. 0.]\n",
      " [0. 1. 1. 1. 0.]\n",
      " [0. 1. 1. 1. 0.]\n",
      " [0. 1. 1. 1. 0.]\n",
      " [0. 0. 0. 0. 0.]]\n"
     ]
    }
   ],
   "source": [
    "arr = np.ones((3, 3))\n",
    "bordered = np.pad(arr, pad_width=1, mode='constant', constant_values=0)\n",
    "print(bordered)"
   ]
  },
  {
   "cell_type": "markdown",
   "id": "da6ea764",
   "metadata": {},
   "source": [
    "#### 17. What is the result of the following expression? (★☆☆)\n",
    "```python\n",
    "0 * np.nan\n",
    "np.nan == np.nan\n",
    "np.inf > np.nan\n",
    "np.nan - np.nan\n",
    "np.nan in set([np.nan])\n",
    "0.3 == 3 * 0.1\n",
    "```"
   ]
  },
  {
   "cell_type": "code",
   "execution_count": 26,
   "id": "047bf4c4",
   "metadata": {},
   "outputs": [
    {
     "name": "stdout",
     "output_type": "stream",
     "text": [
      "0 * np.nan: nan\n",
      "np.nan == np.nan: False\n",
      "np.inf > np.nan: False\n",
      "np.nan - np.nan: nan\n",
      "np.nan in set([np.nan]): True\n",
      "0.3 == 3 * 0.1: False\n"
     ]
    }
   ],
   "source": [
    "print(\"0 * np.nan:\", 0 * np.nan)                        # nan\n",
    "print(\"np.nan == np.nan:\", np.nan == np.nan)            # False\n",
    "print(\"np.inf > np.nan:\", np.inf > np.nan)              # False\n",
    "print(\"np.nan - np.nan:\", np.nan - np.nan)              # nan\n",
    "print(\"np.nan in set([np.nan]):\", np.nan in set([np.nan]))  # True!\n",
    "print(\"0.3 == 3 * 0.1:\", 0.3 == 3 * 0.1)    "
   ]
  },
  {
   "cell_type": "markdown",
   "id": "e0b25bf8",
   "metadata": {},
   "source": [
    "#### 18. Create a 5x5 matrix with values 1,2,3,4 just below the diagonal (★☆☆)"
   ]
  },
  {
   "cell_type": "code",
   "execution_count": 30,
   "id": "9392a2cc",
   "metadata": {},
   "outputs": [
    {
     "name": "stdout",
     "output_type": "stream",
     "text": [
      "[[0. 0. 0. 0. 0.]\n",
      " [1. 0. 0. 0. 0.]\n",
      " [0. 2. 0. 0. 0.]\n",
      " [0. 0. 3. 0. 0.]\n",
      " [0. 0. 0. 4. 0.]]\n"
     ]
    }
   ],
   "source": [
    "five=np.zeros((5,5))\n",
    "np.fill_diagonal(five[1:], [1, 2, 3, 4])\n",
    "print(five)"
   ]
  },
  {
   "cell_type": "markdown",
   "id": "ffc7e714",
   "metadata": {},
   "source": [
    "#### 19. Create a 8x8 matrix and fill it with a checkerboard pattern (★☆☆)"
   ]
  },
  {
   "cell_type": "code",
   "execution_count": 39,
   "id": "1892d23a",
   "metadata": {},
   "outputs": [
    {
     "name": "stdout",
     "output_type": "stream",
     "text": [
      "[[0. 1. 0. 1. 0. 1. 0. 1.]\n",
      " [1. 0. 1. 0. 1. 0. 1. 0.]\n",
      " [0. 1. 0. 1. 0. 1. 0. 1.]\n",
      " [1. 0. 1. 0. 1. 0. 1. 0.]\n",
      " [0. 1. 0. 1. 0. 1. 0. 1.]\n",
      " [1. 0. 1. 0. 1. 0. 1. 0.]\n",
      " [0. 1. 0. 1. 0. 1. 0. 1.]\n",
      " [1. 0. 1. 0. 1. 0. 1. 0.]]\n"
     ]
    }
   ],
   "source": [
    "checkerboard = np.zeros((8, 8))\n",
    "checkerboard[1::2, ::2] = 1\n",
    "checkerboard[::2, 1::2] = 1\n",
    "print(checkerboard)"
   ]
  },
  {
   "cell_type": "markdown",
   "id": "42412361",
   "metadata": {},
   "source": [
    "#### 20. Consider a (6,7,8) shape array, what is the index (x,y,z) of the 100th element? (★☆☆)"
   ]
  },
  {
   "cell_type": "code",
   "execution_count": 40,
   "id": "c4060dee",
   "metadata": {},
   "outputs": [
    {
     "name": "stdout",
     "output_type": "stream",
     "text": [
      "(np.int64(1), np.int64(5), np.int64(4))\n"
     ]
    }
   ],
   "source": [
    "print(np.unravel_index(100, (6, 7, 8)))"
   ]
  },
  {
   "cell_type": "markdown",
   "id": "fec7cacf",
   "metadata": {},
   "source": [
    "#### 21. Create a checkerboard 8x8 matrix using the tile function (★☆☆)"
   ]
  },
  {
   "cell_type": "code",
   "execution_count": 5,
   "id": "b94338bc",
   "metadata": {},
   "outputs": [
    {
     "name": "stdout",
     "output_type": "stream",
     "text": [
      "[[0 1 0 1 0 1 0 1]\n",
      " [1 0 1 0 1 0 1 0]\n",
      " [0 1 0 1 0 1 0 1]\n",
      " [1 0 1 0 1 0 1 0]\n",
      " [0 1 0 1 0 1 0 1]\n",
      " [1 0 1 0 1 0 1 0]\n",
      " [0 1 0 1 0 1 0 1]\n",
      " [1 0 1 0 1 0 1 0]]\n"
     ]
    }
   ],
   "source": [
    "Z = np.tile( np.array([[0,1],[1,0]]), (4,4))\n",
    "print(Z)"
   ]
  },
  {
   "cell_type": "markdown",
   "id": "e3bb989c",
   "metadata": {},
   "source": [
    "#### 22. Normalize a 5x5 random matrix (★☆☆)"
   ]
  },
  {
   "cell_type": "code",
   "execution_count": 6,
   "id": "95b73cf2",
   "metadata": {},
   "outputs": [
    {
     "name": "stdout",
     "output_type": "stream",
     "text": [
      "[[ 0.79684388  0.59587027  1.20586105 -0.87988516  1.5873952 ]\n",
      " [-0.6522117   0.77666066 -1.41182699  0.73401637  0.53463298]\n",
      " [-1.23271979  0.54578093 -0.91957894  0.84966242  1.22847383]\n",
      " [-1.04823637  1.01155711 -0.93279331 -1.60949114  1.20030678]\n",
      " [-1.44448886 -0.7461224  -0.04843959  0.57833164 -0.71959887]]\n"
     ]
    }
   ],
   "source": [
    "Z = np.random.random((5,5))\n",
    "Z = (Z - np.mean (Z)) / (np.std (Z))\n",
    "print(Z)"
   ]
  },
  {
   "cell_type": "markdown",
   "id": "9bf6610b",
   "metadata": {},
   "source": [
    "#### 23. Create a custom dtype that describes a color as four unsigned bytes (RGBA) (★☆☆)"
   ]
  },
  {
   "cell_type": "code",
   "execution_count": 8,
   "id": "0f45e6b5",
   "metadata": {},
   "outputs": [],
   "source": [
    "color = np.dtype([(\"r\", np.ubyte),\n",
    "                  (\"g\", np.ubyte),\n",
    "                  (\"b\", np.ubyte),\n",
    "                  (\"a\", np.ubyte)])"
   ]
  },
  {
   "cell_type": "markdown",
   "id": "0c4834ae",
   "metadata": {},
   "source": [
    "#### 24. Multiply a 5x3 matrix by a 3x2 matrix (real matrix product) (★☆☆)"
   ]
  },
  {
   "cell_type": "code",
   "execution_count": 9,
   "id": "7b4bbf2b",
   "metadata": {},
   "outputs": [
    {
     "name": "stdout",
     "output_type": "stream",
     "text": [
      "[[3. 3.]\n",
      " [3. 3.]\n",
      " [3. 3.]\n",
      " [3. 3.]\n",
      " [3. 3.]]\n"
     ]
    }
   ],
   "source": [
    "Z = np.matmul(np.ones((5, 3)), np.ones((3, 2)))\n",
    "print(Z)"
   ]
  },
  {
   "cell_type": "markdown",
   "id": "c7b74399",
   "metadata": {},
   "source": [
    "#### 25. Given a 1D array, negate all elements which are between 3 and 8, in place. (★☆☆)"
   ]
  },
  {
   "cell_type": "code",
   "execution_count": 10,
   "id": "30f35110",
   "metadata": {},
   "outputs": [
    {
     "name": "stdout",
     "output_type": "stream",
     "text": [
      "[ 0  1  2  3 -4 -5 -6 -7  8  9 10]\n"
     ]
    }
   ],
   "source": [
    "Z = np.arange(11)\n",
    "Z[(3 < Z) & (Z < 8)] *= -1\n",
    "print(Z)"
   ]
  },
  {
   "cell_type": "markdown",
   "id": "da225b07",
   "metadata": {},
   "source": [
    "#### 26. What is the output of the following script? (★☆☆)\n",
    "```python\n",
    "# Author: Jake VanderPlas\n",
    "\n",
    "print(sum(range(5),-1))\n",
    "from numpy import *\n",
    "print(sum(range(5),-1))\n",
    "```"
   ]
  },
  {
   "cell_type": "code",
   "execution_count": 11,
   "id": "1c55040f",
   "metadata": {},
   "outputs": [
    {
     "name": "stdout",
     "output_type": "stream",
     "text": [
      "9\n",
      "10\n"
     ]
    }
   ],
   "source": [
    "print(sum(range(5),-1))\n",
    "from numpy import *\n",
    "print(sum(range(5),-1))"
   ]
  },
  {
   "cell_type": "markdown",
   "id": "60e2d14c",
   "metadata": {},
   "source": [
    "#### 27. Consider an integer vector Z, which of these expressions are legal? (★☆☆)\n",
    "```python\n",
    "Z**Z\n",
    "2 << Z >> 2\n",
    "Z <- Z\n",
    "1j*Z\n",
    "Z/1/1\n",
    "Z<Z>Z\n",
    "```"
   ]
  },
  {
   "cell_type": "code",
   "execution_count": 4,
   "id": "cb463c42",
   "metadata": {},
   "outputs": [
    {
     "name": "stdout",
     "output_type": "stream",
     "text": [
      "[ 1  4 27]\n",
      "[1 2 4]\n",
      "[False False False]\n",
      "[0.+1.j 0.+2.j 0.+3.j]\n",
      "[1. 2. 3.]\n"
     ]
    }
   ],
   "source": [
    "Z = np.array([1, 2, 3])\n",
    "\n",
    "print(Z**Z)           # [ 1  4 27]\n",
    "print(2 << Z >> 2)    # [0 0 0]\n",
    "print(Z < -Z)         # [False False False]\n",
    "print(1j * Z)         # [0.+1.j 0.+2.j 0.+3.j]\n",
    "print(Z / 1 / 1)      # [1. 2. 3.]\n"
   ]
  },
  {
   "cell_type": "markdown",
   "id": "aa45d8b5",
   "metadata": {},
   "source": [
    "#### 28. What are the result of the following expressions? (★☆☆)\n",
    "```python\n",
    "np.array(0) / np.array(0)\n",
    "np.array(0) // np.array(0)\n",
    "np.array([np.nan]).astype(int).astype(float)\n",
    "```"
   ]
  },
  {
   "cell_type": "code",
   "execution_count": 7,
   "id": "ff3500c8",
   "metadata": {},
   "outputs": [
    {
     "name": "stdout",
     "output_type": "stream",
     "text": [
      "nan\n",
      "0\n",
      "[-9.22337204e+18]\n"
     ]
    }
   ],
   "source": [
    "import warnings\n",
    "warnings.filterwarnings('ignore')\n",
    "\n",
    "print(np.array(0) / np.array(0))\n",
    "\n",
    "print(np.array(0) // np.array(0))\n",
    "\n",
    "print(np.array([np.nan]).astype(int).astype(float))\n"
   ]
  },
  {
   "cell_type": "markdown",
   "id": "0b6acccc",
   "metadata": {},
   "source": [
    "#### 29. How to round away from zero a float array ? (★☆☆)"
   ]
  },
  {
   "cell_type": "code",
   "execution_count": 16,
   "id": "f0d27652",
   "metadata": {},
   "outputs": [
    {
     "name": "stdout",
     "output_type": "stream",
     "text": [
      "[  3.   5.  -6. -10.   2.   2.  -6.   5.   8.  -6.]\n"
     ]
    }
   ],
   "source": [
    "Z = np.random.uniform(-10,+10,10)\n",
    "print(np.copysign(np.ceil(np.abs(Z)), Z))"
   ]
  },
  {
   "cell_type": "markdown",
   "id": "87fb3166",
   "metadata": {},
   "source": [
    "#### 30. How to find common values between two arrays? (★☆☆)"
   ]
  },
  {
   "cell_type": "code",
   "execution_count": 17,
   "id": "e76b28fc",
   "metadata": {},
   "outputs": [
    {
     "name": "stdout",
     "output_type": "stream",
     "text": [
      "[3 5 7 8]\n"
     ]
    }
   ],
   "source": [
    "Z1 = np.random.randint(0,10,10)\n",
    "Z2 = np.random.randint(0,10,10)\n",
    "print(np.intersect1d(Z1,Z2))"
   ]
  },
  {
   "cell_type": "markdown",
   "id": "7182fca7",
   "metadata": {},
   "source": [
    "#### 31. How to ignore all numpy warnings (not recommended)? (★☆☆)"
   ]
  },
  {
   "cell_type": "code",
   "execution_count": 3,
   "id": "652def1c",
   "metadata": {},
   "outputs": [
    {
     "name": "stdout",
     "output_type": "stream",
     "text": [
      "59\n"
     ]
    }
   ],
   "source": [
    "Z = np.arange(100)\n",
    "v = np.random.uniform(0, 100)\n",
    "index = (np.abs(Z - v)).argmin()\n",
    "print(Z[index])"
   ]
  },
  {
   "cell_type": "markdown",
   "id": "115e0e2a",
   "metadata": {},
   "source": [
    "#### 32. Is the following expressions true? (★☆☆)\n",
    "```python\n",
    "np.sqrt(-1) == np.emath.sqrt(-1)\n",
    "```"
   ]
  },
  {
   "cell_type": "code",
   "execution_count": 9,
   "id": "d0573d89",
   "metadata": {},
   "outputs": [
    {
     "name": "stdout",
     "output_type": "stream",
     "text": [
      "[0 1 2 3 4 5 6 7 8 9]\n"
     ]
    }
   ],
   "source": [
    "def generate():\n",
    "    for x in range(10):\n",
    "        yield x\n",
    "Z = np.fromiter(generate(), dtype=int, count=-1)\n",
    "print(Z)"
   ]
  },
  {
   "cell_type": "markdown",
   "id": "96c9777e",
   "metadata": {},
   "source": [
    "#### 33. How to get the dates of yesterday, today and tomorrow? (★☆☆)"
   ]
  },
  {
   "cell_type": "code",
   "execution_count": 6,
   "id": "fc0f2ec9",
   "metadata": {},
   "outputs": [
    {
     "name": "stdout",
     "output_type": "stream",
     "text": [
      "[0.09090909 0.18181818 0.27272727 0.36363636 0.45454545 0.54545455\n",
      " 0.63636364 0.72727273 0.81818182 0.90909091]\n"
     ]
    }
   ],
   "source": [
    "Z = np.linspace(0, 1, 11, endpoint=False)[1:]\n",
    "print(Z)"
   ]
  },
  {
   "cell_type": "markdown",
   "id": "85237768",
   "metadata": {},
   "source": [
    "#### 34. How to get all the dates corresponding to the month of July 2016? (★★☆)"
   ]
  },
  {
   "cell_type": "code",
   "execution_count": 7,
   "id": "baf7883b",
   "metadata": {},
   "outputs": [
    {
     "name": "stdout",
     "output_type": "stream",
     "text": [
      "[0.10983279 0.12188144 0.4449678  0.50593491 0.60047886 0.67940939\n",
      " 0.69675539 0.71105239 0.77551316 0.77562817]\n"
     ]
    }
   ],
   "source": [
    "Z = np.random.random(10)\n",
    "Z.sort()\n",
    "print(Z)"
   ]
  },
  {
   "cell_type": "markdown",
   "id": "7873c566",
   "metadata": {},
   "source": [
    "#### 35. How to compute ((A+B)*(-A/2)) in place (without copy)? (★★☆)"
   ]
  },
  {
   "cell_type": "code",
   "execution_count": 8,
   "id": "a454d2c4",
   "metadata": {},
   "outputs": [
    {
     "name": "stdout",
     "output_type": "stream",
     "text": [
      "[0.54857201 0.         0.39551265 0.79973282 0.05798344 0.14092975\n",
      " 0.38586413 0.61985467 0.48030379 0.19717805]\n"
     ]
    }
   ],
   "source": [
    "Z = np.random.random(10)\n",
    "Z[Z.argmax()] = 0\n",
    "print(Z)"
   ]
  },
  {
   "cell_type": "markdown",
   "id": "f4f87f16",
   "metadata": {},
   "source": [
    "#### 36. Extract the integer part of a random array of positive numbers using 4 different methods (★★☆)"
   ]
  },
  {
   "cell_type": "code",
   "execution_count": 10,
   "id": "11fd9724",
   "metadata": {},
   "outputs": [
    {
     "name": "stdout",
     "output_type": "stream",
     "text": [
      "[[(0.  , 0.  ) (0.25, 0.  ) (0.5 , 0.  ) (0.75, 0.  ) (1.  , 0.  )]\n",
      " [(0.  , 0.25) (0.25, 0.25) (0.5 , 0.25) (0.75, 0.25) (1.  , 0.25)]\n",
      " [(0.  , 0.5 ) (0.25, 0.5 ) (0.5 , 0.5 ) (0.75, 0.5 ) (1.  , 0.5 )]\n",
      " [(0.  , 0.75) (0.25, 0.75) (0.5 , 0.75) (0.75, 0.75) (1.  , 0.75)]\n",
      " [(0.  , 1.  ) (0.25, 1.  ) (0.5 , 1.  ) (0.75, 1.  ) (1.  , 1.  )]]\n"
     ]
    }
   ],
   "source": [
    "Z = np.zeros((5,5), [('x',float),('y',float)])\n",
    "Z['x'], Z['y'] = np.meshgrid(np.linspace(0,1,5), np.linspace(0,1,5))\n",
    "print(Z)"
   ]
  },
  {
   "cell_type": "markdown",
   "id": "c8c3ac99",
   "metadata": {},
   "source": [
    "#### 37. Create a 5x5 matrix with row values ranging from 0 to 4 (★★☆)"
   ]
  },
  {
   "cell_type": "code",
   "execution_count": 11,
   "id": "be466890",
   "metadata": {},
   "outputs": [
    {
     "name": "stdout",
     "output_type": "stream",
     "text": [
      "[[-2.    -0.667 -0.4   -0.286 -0.222 -0.182 -0.154 -0.133]\n",
      " [ 2.    -2.    -0.667 -0.4   -0.286 -0.222 -0.182 -0.154]\n",
      " [ 0.667  2.    -2.    -0.667 -0.4   -0.286 -0.222 -0.182]\n",
      " [ 0.4    0.667  2.    -2.    -0.667 -0.4   -0.286 -0.222]\n",
      " [ 0.286  0.4    0.667  2.    -2.    -0.667 -0.4   -0.286]\n",
      " [ 0.222  0.286  0.4    0.667  2.    -2.    -0.667 -0.4  ]\n",
      " [ 0.182  0.222  0.286  0.4    0.667  2.    -2.    -0.667]\n",
      " [ 0.154  0.182  0.222  0.286  0.4    0.667  2.    -2.   ]]\n"
     ]
    }
   ],
   "source": [
    "X = np.arange(8)\n",
    "Y = X + 0.5\n",
    "C = 1.0 / np.subtract.outer(X, Y)\n",
    "print(np.round(C, 3))"
   ]
  },
  {
   "cell_type": "markdown",
   "id": "f8a91990",
   "metadata": {},
   "source": [
    "#### 38. Consider a generator function that generates 10 integers and use it to build an array (★☆☆)"
   ]
  },
  {
   "cell_type": "code",
   "execution_count": 12,
   "id": "58568088",
   "metadata": {},
   "outputs": [
    {
     "name": "stdout",
     "output_type": "stream",
     "text": [
      "-128\n",
      "127\n",
      "-2147483648\n",
      "2147483647\n",
      "-9223372036854775808\n",
      "9223372036854775807\n",
      "-3.4028235e+38\n",
      "3.4028235e+38\n",
      "1.1920929e-07\n",
      "-1.7976931348623157e+308\n",
      "1.7976931348623157e+308\n",
      "2.220446049250313e-16\n"
     ]
    }
   ],
   "source": [
    "for dtype in [np.int8, np.int32, np.int64]:\n",
    "    print(np.iinfo(dtype).min)\n",
    "    print(np.iinfo(dtype).max)\n",
    "\n",
    "for dtype in [np.float32, np.float64]:\n",
    "    print(np.finfo(dtype).min)\n",
    "    print(np.finfo(dtype).max)\n",
    "    print(np.finfo(dtype).eps)"
   ]
  },
  {
   "cell_type": "markdown",
   "id": "a4a6c98c",
   "metadata": {},
   "source": [
    "#### 39. Create a vector of size 10 with values ranging from 0 to 1, both excluded (★★☆)"
   ]
  },
  {
   "cell_type": "code",
   "execution_count": 13,
   "id": "4faf8ebb",
   "metadata": {},
   "outputs": [
    {
     "name": "stdout",
     "output_type": "stream",
     "text": [
      "[[0. 0. 0. 0. 0. 0. 0. 0. 0. 0. 0. 0. 0. 0. 0. 0. 0. 0. 0. 0. 0. 0. 0. 0.\n",
      "  0. 0. 0. 0. 0. 0. 0. 0. 0. 0. 0. 0. 0. 0. 0. 0.]\n",
      " [0. 0. 0. 0. 0. 0. 0. 0. 0. 0. 0. 0. 0. 0. 0. 0. 0. 0. 0. 0. 0. 0. 0. 0.\n",
      "  0. 0. 0. 0. 0. 0. 0. 0. 0. 0. 0. 0. 0. 0. 0. 0.]\n",
      " [0. 0. 0. 0. 0. 0. 0. 0. 0. 0. 0. 0. 0. 0. 0. 0. 0. 0. 0. 0. 0. 0. 0. 0.\n",
      "  0. 0. 0. 0. 0. 0. 0. 0. 0. 0. 0. 0. 0. 0. 0. 0.]\n",
      " [0. 0. 0. 0. 0. 0. 0. 0. 0. 0. 0. 0. 0. 0. 0. 0. 0. 0. 0. 0. 0. 0. 0. 0.\n",
      "  0. 0. 0. 0. 0. 0. 0. 0. 0. 0. 0. 0. 0. 0. 0. 0.]\n",
      " [0. 0. 0. 0. 0. 0. 0. 0. 0. 0. 0. 0. 0. 0. 0. 0. 0. 0. 0. 0. 0. 0. 0. 0.\n",
      "  0. 0. 0. 0. 0. 0. 0. 0. 0. 0. 0. 0. 0. 0. 0. 0.]\n",
      " [0. 0. 0. 0. 0. 0. 0. 0. 0. 0. 0. 0. 0. 0. 0. 0. 0. 0. 0. 0. 0. 0. 0. 0.\n",
      "  0. 0. 0. 0. 0. 0. 0. 0. 0. 0. 0. 0. 0. 0. 0. 0.]\n",
      " [0. 0. 0. 0. 0. 0. 0. 0. 0. 0. 0. 0. 0. 0. 0. 0. 0. 0. 0. 0. 0. 0. 0. 0.\n",
      "  0. 0. 0. 0. 0. 0. 0. 0. 0. 0. 0. 0. 0. 0. 0. 0.]\n",
      " [0. 0. 0. 0. 0. 0. 0. 0. 0. 0. 0. 0. 0. 0. 0. 0. 0. 0. 0. 0. 0. 0. 0. 0.\n",
      "  0. 0. 0. 0. 0. 0. 0. 0. 0. 0. 0. 0. 0. 0. 0. 0.]\n",
      " [0. 0. 0. 0. 0. 0. 0. 0. 0. 0. 0. 0. 0. 0. 0. 0. 0. 0. 0. 0. 0. 0. 0. 0.\n",
      "  0. 0. 0. 0. 0. 0. 0. 0. 0. 0. 0. 0. 0. 0. 0. 0.]\n",
      " [0. 0. 0. 0. 0. 0. 0. 0. 0. 0. 0. 0. 0. 0. 0. 0. 0. 0. 0. 0. 0. 0. 0. 0.\n",
      "  0. 0. 0. 0. 0. 0. 0. 0. 0. 0. 0. 0. 0. 0. 0. 0.]\n",
      " [0. 0. 0. 0. 0. 0. 0. 0. 0. 0. 0. 0. 0. 0. 0. 0. 0. 0. 0. 0. 0. 0. 0. 0.\n",
      "  0. 0. 0. 0. 0. 0. 0. 0. 0. 0. 0. 0. 0. 0. 0. 0.]\n",
      " [0. 0. 0. 0. 0. 0. 0. 0. 0. 0. 0. 0. 0. 0. 0. 0. 0. 0. 0. 0. 0. 0. 0. 0.\n",
      "  0. 0. 0. 0. 0. 0. 0. 0. 0. 0. 0. 0. 0. 0. 0. 0.]\n",
      " [0. 0. 0. 0. 0. 0. 0. 0. 0. 0. 0. 0. 0. 0. 0. 0. 0. 0. 0. 0. 0. 0. 0. 0.\n",
      "  0. 0. 0. 0. 0. 0. 0. 0. 0. 0. 0. 0. 0. 0. 0. 0.]\n",
      " [0. 0. 0. 0. 0. 0. 0. 0. 0. 0. 0. 0. 0. 0. 0. 0. 0. 0. 0. 0. 0. 0. 0. 0.\n",
      "  0. 0. 0. 0. 0. 0. 0. 0. 0. 0. 0. 0. 0. 0. 0. 0.]\n",
      " [0. 0. 0. 0. 0. 0. 0. 0. 0. 0. 0. 0. 0. 0. 0. 0. 0. 0. 0. 0. 0. 0. 0. 0.\n",
      "  0. 0. 0. 0. 0. 0. 0. 0. 0. 0. 0. 0. 0. 0. 0. 0.]\n",
      " [0. 0. 0. 0. 0. 0. 0. 0. 0. 0. 0. 0. 0. 0. 0. 0. 0. 0. 0. 0. 0. 0. 0. 0.\n",
      "  0. 0. 0. 0. 0. 0. 0. 0. 0. 0. 0. 0. 0. 0. 0. 0.]\n",
      " [0. 0. 0. 0. 0. 0. 0. 0. 0. 0. 0. 0. 0. 0. 0. 0. 0. 0. 0. 0. 0. 0. 0. 0.\n",
      "  0. 0. 0. 0. 0. 0. 0. 0. 0. 0. 0. 0. 0. 0. 0. 0.]\n",
      " [0. 0. 0. 0. 0. 0. 0. 0. 0. 0. 0. 0. 0. 0. 0. 0. 0. 0. 0. 0. 0. 0. 0. 0.\n",
      "  0. 0. 0. 0. 0. 0. 0. 0. 0. 0. 0. 0. 0. 0. 0. 0.]\n",
      " [0. 0. 0. 0. 0. 0. 0. 0. 0. 0. 0. 0. 0. 0. 0. 0. 0. 0. 0. 0. 0. 0. 0. 0.\n",
      "  0. 0. 0. 0. 0. 0. 0. 0. 0. 0. 0. 0. 0. 0. 0. 0.]\n",
      " [0. 0. 0. 0. 0. 0. 0. 0. 0. 0. 0. 0. 0. 0. 0. 0. 0. 0. 0. 0. 0. 0. 0. 0.\n",
      "  0. 0. 0. 0. 0. 0. 0. 0. 0. 0. 0. 0. 0. 0. 0. 0.]\n",
      " [0. 0. 0. 0. 0. 0. 0. 0. 0. 0. 0. 0. 0. 0. 0. 0. 0. 0. 0. 0. 0. 0. 0. 0.\n",
      "  0. 0. 0. 0. 0. 0. 0. 0. 0. 0. 0. 0. 0. 0. 0. 0.]\n",
      " [0. 0. 0. 0. 0. 0. 0. 0. 0. 0. 0. 0. 0. 0. 0. 0. 0. 0. 0. 0. 0. 0. 0. 0.\n",
      "  0. 0. 0. 0. 0. 0. 0. 0. 0. 0. 0. 0. 0. 0. 0. 0.]\n",
      " [0. 0. 0. 0. 0. 0. 0. 0. 0. 0. 0. 0. 0. 0. 0. 0. 0. 0. 0. 0. 0. 0. 0. 0.\n",
      "  0. 0. 0. 0. 0. 0. 0. 0. 0. 0. 0. 0. 0. 0. 0. 0.]\n",
      " [0. 0. 0. 0. 0. 0. 0. 0. 0. 0. 0. 0. 0. 0. 0. 0. 0. 0. 0. 0. 0. 0. 0. 0.\n",
      "  0. 0. 0. 0. 0. 0. 0. 0. 0. 0. 0. 0. 0. 0. 0. 0.]\n",
      " [0. 0. 0. 0. 0. 0. 0. 0. 0. 0. 0. 0. 0. 0. 0. 0. 0. 0. 0. 0. 0. 0. 0. 0.\n",
      "  0. 0. 0. 0. 0. 0. 0. 0. 0. 0. 0. 0. 0. 0. 0. 0.]\n",
      " [0. 0. 0. 0. 0. 0. 0. 0. 0. 0. 0. 0. 0. 0. 0. 0. 0. 0. 0. 0. 0. 0. 0. 0.\n",
      "  0. 0. 0. 0. 0. 0. 0. 0. 0. 0. 0. 0. 0. 0. 0. 0.]\n",
      " [0. 0. 0. 0. 0. 0. 0. 0. 0. 0. 0. 0. 0. 0. 0. 0. 0. 0. 0. 0. 0. 0. 0. 0.\n",
      "  0. 0. 0. 0. 0. 0. 0. 0. 0. 0. 0. 0. 0. 0. 0. 0.]\n",
      " [0. 0. 0. 0. 0. 0. 0. 0. 0. 0. 0. 0. 0. 0. 0. 0. 0. 0. 0. 0. 0. 0. 0. 0.\n",
      "  0. 0. 0. 0. 0. 0. 0. 0. 0. 0. 0. 0. 0. 0. 0. 0.]\n",
      " [0. 0. 0. 0. 0. 0. 0. 0. 0. 0. 0. 0. 0. 0. 0. 0. 0. 0. 0. 0. 0. 0. 0. 0.\n",
      "  0. 0. 0. 0. 0. 0. 0. 0. 0. 0. 0. 0. 0. 0. 0. 0.]\n",
      " [0. 0. 0. 0. 0. 0. 0. 0. 0. 0. 0. 0. 0. 0. 0. 0. 0. 0. 0. 0. 0. 0. 0. 0.\n",
      "  0. 0. 0. 0. 0. 0. 0. 0. 0. 0. 0. 0. 0. 0. 0. 0.]\n",
      " [0. 0. 0. 0. 0. 0. 0. 0. 0. 0. 0. 0. 0. 0. 0. 0. 0. 0. 0. 0. 0. 0. 0. 0.\n",
      "  0. 0. 0. 0. 0. 0. 0. 0. 0. 0. 0. 0. 0. 0. 0. 0.]\n",
      " [0. 0. 0. 0. 0. 0. 0. 0. 0. 0. 0. 0. 0. 0. 0. 0. 0. 0. 0. 0. 0. 0. 0. 0.\n",
      "  0. 0. 0. 0. 0. 0. 0. 0. 0. 0. 0. 0. 0. 0. 0. 0.]\n",
      " [0. 0. 0. 0. 0. 0. 0. 0. 0. 0. 0. 0. 0. 0. 0. 0. 0. 0. 0. 0. 0. 0. 0. 0.\n",
      "  0. 0. 0. 0. 0. 0. 0. 0. 0. 0. 0. 0. 0. 0. 0. 0.]\n",
      " [0. 0. 0. 0. 0. 0. 0. 0. 0. 0. 0. 0. 0. 0. 0. 0. 0. 0. 0. 0. 0. 0. 0. 0.\n",
      "  0. 0. 0. 0. 0. 0. 0. 0. 0. 0. 0. 0. 0. 0. 0. 0.]\n",
      " [0. 0. 0. 0. 0. 0. 0. 0. 0. 0. 0. 0. 0. 0. 0. 0. 0. 0. 0. 0. 0. 0. 0. 0.\n",
      "  0. 0. 0. 0. 0. 0. 0. 0. 0. 0. 0. 0. 0. 0. 0. 0.]\n",
      " [0. 0. 0. 0. 0. 0. 0. 0. 0. 0. 0. 0. 0. 0. 0. 0. 0. 0. 0. 0. 0. 0. 0. 0.\n",
      "  0. 0. 0. 0. 0. 0. 0. 0. 0. 0. 0. 0. 0. 0. 0. 0.]\n",
      " [0. 0. 0. 0. 0. 0. 0. 0. 0. 0. 0. 0. 0. 0. 0. 0. 0. 0. 0. 0. 0. 0. 0. 0.\n",
      "  0. 0. 0. 0. 0. 0. 0. 0. 0. 0. 0. 0. 0. 0. 0. 0.]\n",
      " [0. 0. 0. 0. 0. 0. 0. 0. 0. 0. 0. 0. 0. 0. 0. 0. 0. 0. 0. 0. 0. 0. 0. 0.\n",
      "  0. 0. 0. 0. 0. 0. 0. 0. 0. 0. 0. 0. 0. 0. 0. 0.]\n",
      " [0. 0. 0. 0. 0. 0. 0. 0. 0. 0. 0. 0. 0. 0. 0. 0. 0. 0. 0. 0. 0. 0. 0. 0.\n",
      "  0. 0. 0. 0. 0. 0. 0. 0. 0. 0. 0. 0. 0. 0. 0. 0.]\n",
      " [0. 0. 0. 0. 0. 0. 0. 0. 0. 0. 0. 0. 0. 0. 0. 0. 0. 0. 0. 0. 0. 0. 0. 0.\n",
      "  0. 0. 0. 0. 0. 0. 0. 0. 0. 0. 0. 0. 0. 0. 0. 0.]]\n"
     ]
    }
   ],
   "source": [
    "np.set_printoptions(threshold=np.inf)\n",
    "Z = np.zeros((40,40))\n",
    "print(Z)"
   ]
  },
  {
   "cell_type": "markdown",
   "id": "76b7ccb5",
   "metadata": {},
   "source": [
    "#### 40. Create a random vector of size 10 and sort it (★★☆)"
   ]
  },
  {
   "cell_type": "code",
   "execution_count": 14,
   "id": "03f7e0a0",
   "metadata": {},
   "outputs": [
    {
     "name": "stdout",
     "output_type": "stream",
     "text": [
      "[[5322.94080846  219.88388056]\n",
      " [3233.83063523  496.02201315]]\n"
     ]
    }
   ],
   "source": [
    "np.set_printoptions(suppress=True)\n",
    "Z = np.random.random((2,2)) * 1e4\n",
    "print(Z)"
   ]
  },
  {
   "cell_type": "markdown",
   "id": "f1d3571d",
   "metadata": {},
   "source": [
    "#### 41. How to sum a small array faster than np.sum? (★★☆)"
   ]
  },
  {
   "cell_type": "code",
   "execution_count": 15,
   "id": "6a9e7a0f",
   "metadata": {},
   "outputs": [
    {
     "name": "stdout",
     "output_type": "stream",
     "text": [
      "[[ 5  6  7  8  9]\n",
      " [ 0  1  2  3  4]\n",
      " [10 11 12 13 14]\n",
      " [15 16 17 18 19]\n",
      " [20 21 22 23 24]]\n"
     ]
    }
   ],
   "source": [
    "Z = np.arange(25).reshape(5,5)\n",
    "Z[[0,1]] = Z[[1,0]]\n",
    "print(Z)"
   ]
  },
  {
   "cell_type": "markdown",
   "id": "5f2e7f1d",
   "metadata": {},
   "source": [
    "#### 42. Consider two random arrays A and B, check if they are equal (★★☆)"
   ]
  },
  {
   "cell_type": "code",
   "execution_count": 16,
   "id": "fea071d5",
   "metadata": {},
   "outputs": [
    {
     "name": "stdout",
     "output_type": "stream",
     "text": [
      "[[ 1  0  2  3  4]\n",
      " [ 6  5  7  8  9]\n",
      " [11 10 12 13 14]\n",
      " [16 15 17 18 19]\n",
      " [21 20 22 23 24]]\n"
     ]
    }
   ],
   "source": [
    "Z = np.arange(25).reshape(5,5)\n",
    "Z[:, [0,1]] = Z[:, [1,0]]\n",
    "print(Z)"
   ]
  },
  {
   "cell_type": "markdown",
   "id": "25089569",
   "metadata": {},
   "source": [
    "#### 43. Make an array immutable (read-only) (★★☆)"
   ]
  },
  {
   "cell_type": "code",
   "execution_count": 17,
   "id": "b39c64fd",
   "metadata": {},
   "outputs": [
    {
     "name": "stdout",
     "output_type": "stream",
     "text": [
      "(3, 5, 4)\n"
     ]
    }
   ],
   "source": [
    "Z = np.random.random((3,4,5))\n",
    "Z = Z.swapaxes(1,2)\n",
    "print(Z.shape)"
   ]
  },
  {
   "cell_type": "markdown",
   "id": "8e0a92a1",
   "metadata": {},
   "source": [
    "#### 44. Consider a random 10x2 matrix representing cartesian coordinates, convert them to polar coordinates (★★☆)"
   ]
  },
  {
   "cell_type": "code",
   "execution_count": 18,
   "id": "5dbb04dc",
   "metadata": {},
   "outputs": [
    {
     "name": "stdout",
     "output_type": "stream",
     "text": [
      "[0.         0.01010101 0.02020202 0.03030303 0.04040404 0.05050505\n",
      " 0.06060606 0.07070707 0.08080808 0.09090909 0.1010101  0.11111111\n",
      " 0.12121212 0.13131313 0.14141414 0.15151515 0.16161616 0.17171717\n",
      " 0.18181818 0.19191919 0.2020202  0.21212121 0.22222222 0.23232323\n",
      " 0.24242424 0.25252525 0.26262626 0.27272727 0.28282828 0.29292929\n",
      " 0.3030303  0.31313131 0.32323232 0.33333333 0.34343434 0.35353535\n",
      " 0.36363636 0.37373737 0.38383838 0.39393939 0.4040404  0.41414141\n",
      " 0.42424242 0.43434343 0.44444444 0.45454545 0.46464646 0.47474747\n",
      " 0.48484848 0.49494949 0.50505051 0.51515152 0.52525253 0.53535354\n",
      " 0.54545455 0.55555556 0.56565657 0.57575758 0.58585859 0.5959596\n",
      " 0.60606061 0.61616162 0.62626263 0.63636364 0.64646465 0.65656566\n",
      " 0.66666667 0.67676768 0.68686869 0.6969697  0.70707071 0.71717172\n",
      " 0.72727273 0.73737374 0.74747475 0.75757576 0.76767677 0.77777778\n",
      " 0.78787879 0.7979798  0.80808081 0.81818182 0.82828283 0.83838384\n",
      " 0.84848485 0.85858586 0.86868687 0.87878788 0.88888889 0.8989899\n",
      " 0.90909091 0.91919192 0.92929293 0.93939394 0.94949495 0.95959596\n",
      " 0.96969697 0.97979798 0.98989899 1.        ]\n"
     ]
    }
   ],
   "source": [
    "Z = np.linspace(0, 1, 100)\n",
    "print(Z)"
   ]
  },
  {
   "cell_type": "markdown",
   "id": "be171fc3",
   "metadata": {},
   "source": [
    "#### 45. Create random vector of size 10 and replace the maximum value by 0 (★★☆)"
   ]
  },
  {
   "cell_type": "code",
   "execution_count": 19,
   "id": "29050d57",
   "metadata": {},
   "outputs": [
    {
     "name": "stdout",
     "output_type": "stream",
     "text": [
      "[[ 0  1  2  3  4  5  6]\n",
      " [ 7  8  9 10 11 12 13]\n",
      " [14 15 16 17 18 19 20]\n",
      " [21 22 23 24 25 26 27]\n",
      " [28 29 30 31 32 33 34]\n",
      " [35 36 37 38 39 40 41]]\n"
     ]
    }
   ],
   "source": [
    "Z = np.arange(42).reshape(6,7)\n",
    "print(Z)"
   ]
  },
  {
   "cell_type": "markdown",
   "id": "ec8169df",
   "metadata": {},
   "source": [
    "#### 46. Create a structured array with `x` and `y` coordinates covering the [0,1]x[0,1] area (★★☆)"
   ]
  },
  {
   "cell_type": "code",
   "execution_count": 20,
   "id": "e1d5811b",
   "metadata": {},
   "outputs": [
    {
     "name": "stdout",
     "output_type": "stream",
     "text": [
      "[[ 0  1  2  3  4  5  6]\n",
      " [ 7  8  9 10 11 12 13]\n",
      " [14 15 16 17 18 19 20]\n",
      " [21 22 23 24 25 26 27]\n",
      " [28 29 30 31 32 33 34]\n",
      " [35 36 37 38 39 40 41]]\n"
     ]
    }
   ],
   "source": [
    "Z = np.arange(42).reshape(6,7)\n",
    "print(Z)"
   ]
  },
  {
   "cell_type": "markdown",
   "id": "6edcee5a",
   "metadata": {},
   "source": [
    "#### 47. Given two arrays, X and Y, construct the Cauchy matrix C (Cij =1/(xi - yj)) (★★☆)"
   ]
  },
  {
   "cell_type": "code",
   "execution_count": 21,
   "id": "72ce5000",
   "metadata": {},
   "outputs": [
    {
     "name": "stdout",
     "output_type": "stream",
     "text": [
      "[[-2.    -0.667 -0.4   -0.286 -0.222 -0.182 -0.154 -0.133]\n",
      " [ 2.    -2.    -0.667 -0.4   -0.286 -0.222 -0.182 -0.154]\n",
      " [ 0.667  2.    -2.    -0.667 -0.4   -0.286 -0.222 -0.182]\n",
      " [ 0.4    0.667  2.    -2.    -0.667 -0.4   -0.286 -0.222]\n",
      " [ 0.286  0.4    0.667  2.    -2.    -0.667 -0.4   -0.286]\n",
      " [ 0.222  0.286  0.4    0.667  2.    -2.    -0.667 -0.4  ]\n",
      " [ 0.182  0.222  0.286  0.4    0.667  2.    -2.    -0.667]\n",
      " [ 0.154  0.182  0.222  0.286  0.4    0.667  2.    -2.   ]]\n"
     ]
    }
   ],
   "source": [
    "X = np.arange(8)\n",
    "Y = X + 0.5\n",
    "C = 1.0 / np.subtract.outer(X, Y)\n",
    "print(np.round(C, 3))"
   ]
  },
  {
   "cell_type": "markdown",
   "id": "e792c9d8",
   "metadata": {},
   "source": [
    "#### 48. Print the minimum and maximum representable values for each numpy scalar type (★★☆)"
   ]
  },
  {
   "cell_type": "code",
   "execution_count": 22,
   "id": "57f92e12",
   "metadata": {},
   "outputs": [
    {
     "name": "stdout",
     "output_type": "stream",
     "text": [
      "<class 'numpy.int8'> : -128 127\n",
      "<class 'numpy.int32'> : -2147483648 2147483647\n",
      "<class 'numpy.int64'> : -9223372036854775808 9223372036854775807\n",
      "<class 'numpy.float32'> : -3.4028235e+38 3.4028235e+38\n",
      "<class 'numpy.float64'> : -1.7976931348623157e+308 1.7976931348623157e+308\n"
     ]
    }
   ],
   "source": [
    "for dtype in [np.int8, np.int32, np.int64]:\n",
    "    print(dtype, \":\", np.iinfo(dtype).min, np.iinfo(dtype).max)\n",
    "\n",
    "for dtype in [np.float32, np.float64]:\n",
    "    print(dtype, \":\", np.finfo(dtype).min, np.finfo(dtype).max)"
   ]
  },
  {
   "cell_type": "markdown",
   "id": "eca7651c",
   "metadata": {},
   "source": [
    "#### 49. How to print all the values of an array? (★★☆)"
   ]
  },
  {
   "cell_type": "code",
   "execution_count": 23,
   "id": "9fea21ff",
   "metadata": {},
   "outputs": [
    {
     "name": "stdout",
     "output_type": "stream",
     "text": [
      "[[0. 0. 0. 0. 0. 0. 0. 0. 0. 0. 0. 0. 0. 0. 0. 0.]\n",
      " [0. 0. 0. 0. 0. 0. 0. 0. 0. 0. 0. 0. 0. 0. 0. 0.]\n",
      " [0. 0. 0. 0. 0. 0. 0. 0. 0. 0. 0. 0. 0. 0. 0. 0.]\n",
      " [0. 0. 0. 0. 0. 0. 0. 0. 0. 0. 0. 0. 0. 0. 0. 0.]\n",
      " [0. 0. 0. 0. 0. 0. 0. 0. 0. 0. 0. 0. 0. 0. 0. 0.]\n",
      " [0. 0. 0. 0. 0. 0. 0. 0. 0. 0. 0. 0. 0. 0. 0. 0.]\n",
      " [0. 0. 0. 0. 0. 0. 0. 0. 0. 0. 0. 0. 0. 0. 0. 0.]\n",
      " [0. 0. 0. 0. 0. 0. 0. 0. 0. 0. 0. 0. 0. 0. 0. 0.]\n",
      " [0. 0. 0. 0. 0. 0. 0. 0. 0. 0. 0. 0. 0. 0. 0. 0.]\n",
      " [0. 0. 0. 0. 0. 0. 0. 0. 0. 0. 0. 0. 0. 0. 0. 0.]\n",
      " [0. 0. 0. 0. 0. 0. 0. 0. 0. 0. 0. 0. 0. 0. 0. 0.]\n",
      " [0. 0. 0. 0. 0. 0. 0. 0. 0. 0. 0. 0. 0. 0. 0. 0.]\n",
      " [0. 0. 0. 0. 0. 0. 0. 0. 0. 0. 0. 0. 0. 0. 0. 0.]\n",
      " [0. 0. 0. 0. 0. 0. 0. 0. 0. 0. 0. 0. 0. 0. 0. 0.]\n",
      " [0. 0. 0. 0. 0. 0. 0. 0. 0. 0. 0. 0. 0. 0. 0. 0.]\n",
      " [0. 0. 0. 0. 0. 0. 0. 0. 0. 0. 0. 0. 0. 0. 0. 0.]]\n"
     ]
    }
   ],
   "source": [
    "np.set_printoptions(threshold=np.inf)\n",
    "Z = np.zeros((16,16))\n",
    "print(Z)"
   ]
  },
  {
   "cell_type": "markdown",
   "id": "b2527d57",
   "metadata": {},
   "source": [
    "#### 50. How to find the closest value (to a given scalar) in a vector? (★★☆)"
   ]
  },
  {
   "cell_type": "code",
   "execution_count": 24,
   "id": "1f94b185",
   "metadata": {},
   "outputs": [
    {
     "name": "stdout",
     "output_type": "stream",
     "text": [
      "57\n"
     ]
    }
   ],
   "source": [
    "Z = np.arange(100)\n",
    "v = 56.7\n",
    "index = (np.abs(Z - v)).argmin()\n",
    "print(Z[index])"
   ]
  },
  {
   "cell_type": "markdown",
   "id": "42580cd7",
   "metadata": {},
   "source": [
    "#### 51. Create a structured array representing a position (x,y) and a color (r,g,b) (★★☆)"
   ]
  },
  {
   "cell_type": "code",
   "execution_count": 25,
   "id": "c280e178",
   "metadata": {},
   "outputs": [
    {
     "name": "stdout",
     "output_type": "stream",
     "text": [
      "[((0., 0.), (0., 0., 0.)) ((0., 0.), (0., 0., 0.))\n",
      " ((0., 0.), (0., 0., 0.)) ((0., 0.), (0., 0., 0.))\n",
      " ((0., 0.), (0., 0., 0.)) ((0., 0.), (0., 0., 0.))\n",
      " ((0., 0.), (0., 0., 0.)) ((0., 0.), (0., 0., 0.))\n",
      " ((0., 0.), (0., 0., 0.)) ((0., 0.), (0., 0., 0.))]\n"
     ]
    }
   ],
   "source": [
    "Z = np.zeros(10, dtype=[('position', [('x', float), ('y', float)]),\n",
    "                        ('color',    [('r', float), ('g', float), ('b', float)])])\n",
    "print(Z)"
   ]
  },
  {
   "cell_type": "markdown",
   "id": "7e23ffda",
   "metadata": {},
   "source": [
    "#### 52. Consider a random vector with shape (100,2) representing coordinates, find point by point distances (★★☆)"
   ]
  },
  {
   "cell_type": "code",
   "execution_count": 26,
   "id": "9d07ad1d",
   "metadata": {},
   "outputs": [
    {
     "name": "stdout",
     "output_type": "stream",
     "text": [
      "[[0.         0.274545   0.58650424 0.64041449 0.55035119 0.29458746\n",
      "  0.71786006 0.52032261 0.43042922 0.55037054 0.31534634 0.75430391\n",
      "  0.5115597  0.19823703 0.69487176 0.38036162 0.56265435 0.31343082\n",
      "  0.53370232 0.57605312 0.13981795 0.3282413  0.68483731 0.12371044\n",
      "  0.21492746 0.57997533 0.17299494 0.44282448 0.0475938  0.71604005\n",
      "  0.31316143 0.34712199 0.33512439 0.53757288 0.81438481 0.25847368\n",
      "  0.5685815  0.37053984 0.45439186 0.51746156 0.73320995 0.34364912\n",
      "  0.17895914 0.58261199 0.16365407 0.31726227 0.18142852 0.47600655\n",
      "  0.188392   0.24486295 0.1476036  0.67313683 0.23326286 0.43431887\n",
      "  0.29546033 0.25905889 0.48769733 0.11701438 0.42722759 0.02481715\n",
      "  0.13956533 0.18326912 0.28279648 0.55028691 0.29133005 0.4097174\n",
      "  0.71831059 0.28179862 0.69891304 0.70655003 0.60242684 0.70173413\n",
      "  0.63086208 0.54367841 0.54957076 0.79748632 0.76114697 0.05691651\n",
      "  0.1508259  0.53928373 0.65731597 0.47360883 0.33136052 0.48310086\n",
      "  0.59860469 0.58628983 0.48592411 0.39164098 0.49029825 0.31416459\n",
      "  0.29406101 0.49171868 0.28384358 0.11921269 0.43421331 0.49360492\n",
      "  0.38935615 0.12234994 0.56238491 0.64378663]\n",
      " [0.274545   0.         0.85084638 0.87869157 0.78934855 0.53265241\n",
      "  0.97857215 0.68511517 0.66006104 0.70514401 0.50846142 0.9989288\n",
      "  0.74473146 0.22666368 0.96351436 0.33438104 0.7159726  0.14368705\n",
      "  0.70716301 0.79716814 0.33133726 0.53797169 0.89833275 0.23853678\n",
      "  0.43120418 0.82084377 0.25154561 0.67212751 0.26974533 0.95399941\n",
      "  0.56030339 0.46469538 0.29182116 0.74546571 1.07422137 0.13712352\n",
      "  0.76406474 0.58974571 0.62691976 0.72652165 0.95322163 0.47236815\n",
      "  0.17238935 0.82250918 0.11185031 0.24916391 0.41037678 0.32948371\n",
      "  0.32058294 0.25469621 0.42178257 0.93726142 0.41799132 0.46387131\n",
      "  0.23796596 0.51392499 0.75302463 0.27411244 0.53613628 0.29301072\n",
      "  0.33352764 0.33912555 0.47599855 0.53327697 0.54241111 0.68422471\n",
      "  0.99280882 0.38470087 0.94153954 0.97447892 0.87462242 0.94472133\n",
      "  0.8716628  0.79080193 0.72448119 1.04140038 0.99931401 0.32858223\n",
      "  0.37515479 0.61027741 0.9318275  0.74357658 0.56790812 0.5579712\n",
      "  0.87314969 0.79339473 0.75804556 0.44632484 0.75557739 0.49330976\n",
      "  0.36784859 0.72816507 0.50590583 0.20060737 0.68521745 0.52801243\n",
      "  0.51640071 0.15256884 0.81106844 0.91086243]\n",
      " [0.58650424 0.85084638 0.         0.18350776 0.52460148 0.33332878\n",
      "  0.46687904 0.73792177 0.25573293 0.77418989 0.41122347 0.59033692\n",
      "  0.20693267 0.67060834 0.37850755 0.91175978 0.7836802  0.83459781\n",
      "  0.40929811 0.25036096 0.62111434 0.58135781 0.30920347 0.68442577\n",
      "  0.57338912 0.1591866  0.63222527 0.53763425 0.61149354 0.60217423\n",
      "  0.47644762 0.74529327 0.74658678 0.63428228 0.53196372 0.78191993\n",
      "  0.68387083 0.32049653 0.69342168 0.62324981 0.30755989 0.52233221\n",
      "  0.75810775 0.16427067 0.73999737 0.87539129 0.55728579 0.91613296\n",
      "  0.56944035 0.79105972 0.44468217 0.08665868 0.62518705 0.89065855\n",
      "  0.74855269 0.46533257 0.09886724 0.65524947 0.55255648 0.56404663\n",
      "  0.52764063 0.54374119 0.42930079 1.01767353 0.31229757 0.24650973\n",
      "  0.26305587 0.57431706 0.19076417 0.3930047  0.10390518 0.56954488\n",
      "  0.16753841 0.13104113 0.40664167 0.62053173 0.62713835 0.52959993\n",
      "  0.57437738 0.90976109 0.22718945 0.12485008 0.30574034 0.86963213\n",
      "  0.19559667 0.65712423 0.28127138 0.63973074 0.35854871 0.64214279\n",
      "  0.77110283 0.20052553 0.5527007  0.69838553 0.44820488 0.92461325\n",
      "  0.51922592 0.70124638 0.48073501 0.37334398]\n",
      " [0.64041449 0.87869157 0.18350776 0.         0.69790704 0.34867187\n",
      "  0.65009865 0.89156504 0.21903961 0.92866154 0.3815107  0.77379016\n",
      "  0.13440327 0.67087104 0.56077901 1.00100347 0.9390115  0.83221398\n",
      "  0.2845884  0.10977481 0.70939117 0.71591008 0.12680404 0.75452735\n",
      "  0.68385041 0.06100789 0.63624945 0.69570347 0.67555247 0.78455476\n",
      "  0.61246254 0.8652495  0.71470797 0.79943443 0.71248082 0.7852975\n",
      "  0.84925839 0.29145119 0.84091582 0.78652437 0.12764205 0.46899522\n",
      "  0.81925589 0.05789402 0.77393254 0.95158912 0.6603984  0.87563711\n",
      "  0.56711222 0.8711042  0.51852515 0.19291328 0.73569421 1.00354861\n",
      "  0.73012003 0.58795798 0.22374729 0.7314951  0.47109829 0.61586194\n",
      "  0.54522356 0.54447758 0.41011297 1.13115593 0.34950816 0.39612077\n",
      "  0.43360472 0.54176351 0.06606201 0.57504753 0.28583549 0.75213411\n",
      "  0.01631607 0.10459827 0.27557991 0.80400134 0.81034648 0.58571585\n",
      "  0.66920728 1.04367477 0.40647539 0.27019582 0.31228452 0.99857928\n",
      "  0.37899996 0.8266306  0.45353419 0.57600771 0.53071916 0.76854157\n",
      "  0.87311278 0.15067287 0.67983354 0.75913591 0.60905478 1.04524277\n",
      "  0.44979393 0.73980883 0.65723533 0.55684906]\n",
      " [0.55035119 0.78934855 0.52460148 0.69790704 0.         0.56362266\n",
      "  0.23039508 0.26556693 0.62493817 0.2934939  0.66671961 0.21010426\n",
      "  0.64814702 0.74097721 0.275343   0.64297648 0.29877467 0.86152394\n",
      "  0.81439327 0.72205694 0.45802072 0.2587478  0.81344723 0.55116717\n",
      "  0.35819083 0.65300181 0.70793957 0.12024877 0.53188278 0.16597104\n",
      "  0.23724147 0.40990904 0.87250933 0.13032078 0.31130081 0.8077706\n",
      "  0.17344012 0.63207159 0.25749342 0.13025867 0.82552648 0.76929588\n",
      "  0.62477496 0.65843784 0.69464381 0.65857739 0.38054938 1.02477532\n",
      "  0.68754639 0.5854025  0.4492952  0.57217675 0.37864426 0.54450434\n",
      "  0.84064729 0.29290701 0.47838706 0.51525219 0.84316854 0.54638063\n",
      "  0.61946196 0.6668674  0.65525226 0.64844225 0.52245706 0.31596592\n",
      "  0.41040988 0.75828617 0.71527663 0.27625579 0.44321381 0.15559567\n",
      "  0.68166084 0.60736793 0.82148866 0.25217811 0.21128049 0.52064652\n",
      "  0.41589944 0.48544345 0.37555515 0.43074531 0.5743639  0.46942681\n",
      "  0.3569221  0.13642215 0.24451692 0.86867323 0.16718915 0.32157761\n",
      "  0.49524406 0.62735635 0.28384085 0.58879467 0.12517726 0.54483991\n",
      "  0.79806474 0.65678409 0.0540901  0.226034  ]\n",
      " [0.29458746 0.53265241 0.33332878 0.34867187 0.56362266 0.\n",
      "  0.63891151 0.6637479  0.13596722 0.70030613 0.10689064 0.72350784\n",
      "  0.21741175 0.33828318 0.58026691 0.66721537 0.71231239 0.50253752\n",
      "  0.27666515 0.28205288 0.3842723  0.46026215 0.39178658 0.41357313\n",
      "  0.3887022  0.28938442 0.30049522 0.50297784 0.33339782 0.70674891\n",
      "  0.37648381 0.57031566 0.41664818 0.6168862  0.7296134  0.4510324\n",
      "  0.66236493 0.08628766 0.60142333 0.59871356 0.43878394 0.22146486\n",
      "  0.47333712 0.29145715 0.4259929  0.61040905 0.3570027  0.58724754\n",
      "  0.23621716 0.53349523 0.19610746 0.41656776 0.43573723 0.69284058\n",
      "  0.41554613 0.32866353 0.24399233 0.39510364 0.28415927 0.269793\n",
      "  0.20013394 0.21069016 0.10792075 0.8176559  0.0417545  0.27692819\n",
      "  0.53929115 0.2494844  0.40987407 0.59490874 0.38659813 0.68135654\n",
      "  0.34043712 0.25817441 0.2890107  0.76423917 0.74626676 0.2423956\n",
      "  0.35416098 0.76298435 0.4822894  0.25492001 0.03680736 0.71123916\n",
      "  0.42437176 0.65831803 0.37679928 0.33647176 0.42694538 0.49137121\n",
      "  0.5544311  0.19840668 0.41392689 0.41379963 0.44155764 0.74336792\n",
      "  0.24013305 0.39123499 0.54701724 0.54415343]\n",
      " [0.71786006 0.97857215 0.46687904 0.65009865 0.23039508 0.63891151\n",
      "  0.         0.48963756 0.65293895 0.51309955 0.74555374 0.1329595\n",
      "  0.64598218 0.89067081 0.09387254 0.86761803 0.51619628 1.03015828\n",
      "  0.84012953 0.70768805 0.65324661 0.47462809 0.77608094 0.7460079\n",
      "  0.55707692 0.62197991 0.85377921 0.34164478 0.71058197 0.16947635\n",
      "  0.42037012 0.63705949 1.01152125 0.35186386 0.09661257 0.97439678\n",
      "  0.3844483  0.6849039  0.48760783 0.35672483 0.77099725 0.85981969\n",
      "  0.82396484 0.62737086 0.87533604 0.87601273 0.57097731 1.17499474\n",
      "  0.81795805 0.79834737 0.58937053 0.47984949 0.58802084 0.77443715\n",
      "  0.98895828 0.46467348 0.46579253 0.70921304 0.9210405  0.70775252\n",
      "  0.75262941 0.7938426  0.74417168 0.87863009 0.59807404 0.36216259\n",
      "  0.25175637 0.87119106 0.64582639 0.0827258  0.36451272 0.13874225\n",
      "  0.6342809  0.58392521 0.84261608 0.15538071 0.17524249 0.67629802\n",
      "  0.60538594 0.7127974  0.25036263 0.42412165 0.63629784 0.69927818\n",
      "  0.27134419 0.33794145 0.26231219 0.9716836  0.22942416 0.5426272\n",
      "  0.71706645 0.63009135 0.48813356 0.78008295 0.29681548 0.77508021\n",
      "  0.87808976 0.8350222  0.18484575 0.09834029]\n",
      " [0.52032261 0.68511517 0.73792177 0.89156504 0.26556693 0.6637479\n",
      "  0.48963756 0.         0.76445865 0.03738914 0.7489124  0.42620193\n",
      "  0.81136238 0.7163775  0.54090547 0.44557306 0.04880201 0.79303204\n",
      "  0.93887654 0.88897633 0.3864647  0.20664472 0.99253541 0.4614125\n",
      "  0.30850628 0.83800331 0.6933079  0.20113887 0.48279771 0.36668165\n",
      "  0.29053713 0.22527913 0.85331012 0.13779428 0.5577471  0.74723549\n",
      "  0.1132571  0.7467291  0.06637345 0.13532948 1.01674152 0.82654713\n",
      "  0.51322454 0.84304166 0.61758748 0.48915935 0.34449616 0.97778569\n",
      "  0.69940296 0.43878625 0.48845374 0.80058227 0.28868024 0.31654647\n",
      "  0.80911434 0.3350904  0.66855158 0.43425666 0.90938778 0.52854398\n",
      "  0.63624399 0.68638385 0.72689602 0.39897255 0.62892115 0.49643086\n",
      "  0.67053916 0.78739781 0.92230886 0.5416745  0.67487627 0.37808\n",
      "  0.87610474 0.79078193 0.94989647 0.45805767 0.40351222 0.51799818\n",
      "  0.3704416  0.22427216 0.62947529 0.6238495  0.68720925 0.22024674\n",
      "  0.60017893 0.16066417 0.46495024 0.90136899 0.39440355 0.20658516\n",
      "  0.32648935 0.78856836 0.25522499 0.50175426 0.29114372 0.29834708\n",
      "  0.86547233 0.58926546 0.31891208 0.49081671]\n",
      " [0.43042922 0.66006104 0.25573293 0.21903961 0.62493817 0.13596722\n",
      "  0.65293895 0.76445865 0.         0.8017076  0.16683615 0.75573781\n",
      "  0.08471894 0.45251662 0.57957361 0.80236446 0.81324508 0.61484678\n",
      "  0.19083642 0.14627856 0.51663558 0.56826579 0.25654013 0.54943622\n",
      "  0.5108122  0.163508   0.4174353  0.58643674 0.46930248 0.7494722\n",
      "  0.47397757 0.69435776 0.50560924 0.69916277 0.73534975 0.5669589\n",
      "  0.74727687 0.07370362 0.70565753 0.68268009 0.30282494 0.26946298\n",
      "  0.60900639 0.16436909 0.5564323  0.74635557 0.48173282 0.6717046\n",
      "  0.34859157 0.66908431 0.32536531 0.32678178 0.56024024 0.82250218\n",
      "  0.51609095 0.43456981 0.19617426 0.53029504 0.29719766 0.40561999\n",
      "  0.32688846 0.32560499 0.1928273  0.94846708 0.14998923 0.31154051\n",
      "  0.50239886 0.33123186 0.28323461 0.59473772 0.33777406 0.72059632\n",
      "  0.21320387 0.1446272  0.19676254 0.79333009 0.78452804 0.37831524\n",
      "  0.48305392 0.88359232 0.45321445 0.23062311 0.0994004  0.83373177\n",
      "  0.40249262 0.73584462 0.40297334 0.38544576 0.4690129  0.60824044\n",
      "  0.68581179 0.07042608 0.52503949 0.54962345 0.51209848 0.87062264\n",
      "  0.2635687  0.52344163 0.5978263  0.55468922]\n",
      " [0.55037054 0.70514401 0.77418989 0.92866154 0.2934939  0.70030613\n",
      "  0.51309955 0.03738914 0.8017076  0.         0.78461644 0.4418548\n",
      "  0.84875151 0.74521209 0.56837151 0.45146667 0.01242042 0.81681124\n",
      "  0.97568357 0.92636511 0.41464007 0.2419673  1.02988607 0.4860642\n",
      "  0.34062811 0.87523444 0.72317519 0.23681967 0.51157388 0.38189125\n",
      "  0.32774661 0.2413833  0.88187884 0.1634998  0.57716715 0.77222378\n",
      "  0.12979478 0.78352063 0.10016678 0.16444703 1.05394481 0.86082031\n",
      "  0.53416356 0.88028148 0.64174595 0.50063582 0.37682904 1.00304144\n",
      "  0.73132299 0.45545455 0.52346697 0.83604781 0.31753792 0.31606451\n",
      "  0.83674346 0.37165863 0.70553641 0.46043566 0.94392125 0.55952261\n",
      "  0.66889082 0.71891648 0.76220953 0.38784167 0.66573104 0.53331979\n",
      "  0.70140813 0.82009253 0.95903557 0.56843668 0.70988089 0.39600067\n",
      "  0.91317386 0.82801194 0.98679135 0.47137546 0.4162325  0.55024122\n",
      "  0.40145859 0.20793497 0.66172155 0.66068873 0.72405631 0.21317165\n",
      "  0.63388903 0.1777126  0.50002416 0.933888   0.42849396 0.23623391\n",
      "  0.34176394 0.82595728 0.29028825 0.52610561 0.32675423 0.29042435\n",
      "  0.90017793 0.61481829 0.34738591 0.51949027]\n",
      " [0.31534634 0.50846142 0.41122347 0.3815107  0.66671961 0.10689064\n",
      "  0.74555374 0.7489124  0.16683615 0.78461644 0.         0.83012001\n",
      "  0.24834596 0.29129716 0.68546001 0.69556869 0.79685525 0.45092431\n",
      "  0.2183752  0.29045684 0.43182334 0.54268094 0.38987749 0.43904563\n",
      "  0.45754358 0.32914689 0.2589554  0.5995512  0.36087552 0.81248265\n",
      "  0.46816333 0.63195289 0.33918403 0.71283376 0.83580614 0.40526903\n",
      "  0.7567536  0.09363372 0.68465465 0.69407529 0.44508962 0.117055\n",
      "  0.4848854  0.32949242 0.41204579 0.62917826 0.42289964 0.50660382\n",
      "  0.18904985 0.56005699 0.26322263 0.48854429 0.49950086 0.74154774\n",
      "  0.34954324 0.41613196 0.33244298 0.42887802 0.17768848 0.29176831\n",
      "  0.18588217 0.16934446 0.03361367 0.8620582  0.14839399 0.38373517\n",
      "  0.63642919 0.16491923 0.44701842 0.70021192 0.47817862 0.78750426\n",
      "  0.37749359 0.31097697 0.23423762 0.87097282 0.85240098 0.2749411\n",
      "  0.41221606 0.82732729 0.58125683 0.35157303 0.11395727 0.77337038\n",
      "  0.52467652 0.75589279 0.48357387 0.23466904 0.53345361 0.5643691\n",
      "  0.60065739 0.23699601 0.49464828 0.42930539 0.54330005 0.79681837\n",
      "  0.13333464 0.38434988 0.65215026 0.65041958]\n",
      " [0.75430391 0.9989288  0.59033692 0.77379016 0.21010426 0.72350784\n",
      "  0.1329595  0.42620193 0.75573781 0.4418548  0.83012001 0.\n",
      "  0.75819779 0.93993565 0.22642418 0.84365901 0.44207852 1.06715969\n",
      "  0.94577713 0.82401352 0.66771642 0.46805581 0.89856321 0.76099995\n",
      "  0.56799274 0.74158753 0.90521286 0.32972945 0.73886537 0.06002493\n",
      "  0.44232155 0.60913493 1.0679243  0.29575383 0.14501819 1.01268412\n",
      "  0.31341057 0.77920874 0.44154027 0.30744895 0.89691204 0.94036776\n",
      "  0.83487601 0.74705293 0.90268863 0.86498103 0.58922969 1.22506297\n",
      "  0.87811333 0.79387299 0.64152095 0.60959345 0.58848227 0.73344239\n",
      "  1.03957565 0.49524681 0.5777579  0.72493868 1.0076617  0.74827614\n",
      "  0.81067727 0.8556841  0.82429414 0.82496474 0.68181331 0.45000715\n",
      "  0.3847059  0.94107071 0.77352311 0.21568469 0.49021682 0.0546396\n",
      "  0.75773127 0.701132   0.94978669 0.04322904 0.04316223 0.72024146\n",
      "  0.62459996 0.64911166 0.38105816 0.53311935 0.72632153 0.64543869\n",
      "  0.39555923 0.26558994 0.35329534 1.04718651 0.29671758 0.52824443\n",
      "  0.69975281 0.74064256 0.49386209 0.79832275 0.3202424  0.72334279\n",
      "  0.96344688 0.86418478 0.19221871 0.21722341]\n",
      " [0.5115597  0.74473146 0.20693267 0.13440327 0.64814702 0.21741175\n",
      "  0.64598218 0.81136238 0.08471894 0.84875151 0.24834596 0.75819779\n",
      "  0.         0.5366242  0.56526015 0.87925962 0.85985669 0.69838098\n",
      "  0.20288404 0.07767221 0.59039959 0.6225632  0.18568161 0.62865561\n",
      "  0.57582746 0.08123163 0.50186522 0.62441978 0.54886962 0.75863929\n",
      "  0.52331563 0.75935309 0.58468607 0.73444271 0.7216246  0.65106703\n",
      "  0.78363916 0.15718029 0.75562673 0.71930894 0.22479645 0.34255695\n",
      "  0.69047487 0.08122573 0.64074296 0.82589496 0.549068   0.7484357\n",
      "  0.43280001 0.74719738 0.39828222 0.26385337 0.62660336 0.89214459\n",
      "  0.59776084 0.49010017 0.18064537 0.60779604 0.35677901 0.48681887\n",
      "  0.41144692 0.4100806  0.27612905 1.01902938 0.2240394  0.33263155\n",
      "  0.46762928 0.41073939 0.19908548 0.58033948 0.30309196 0.72805654\n",
      "  0.12925843 0.07768404 0.20147894 0.79323568 0.79033434 0.45817498\n",
      "  0.55374335 0.94469714 0.42530286 0.22533781 0.18063645 0.89666366\n",
      "  0.38173318 0.76749915 0.41245473 0.45460841 0.48496632 0.66829011\n",
      "  0.75774649 0.02305922 0.58210558 0.63072253 0.54385959 0.93770948\n",
      "  0.32924719 0.60732415 0.61508859 0.54811682]\n",
      " [0.19823703 0.22666368 0.67060834 0.67087104 0.74097721 0.33828318\n",
      "  0.89067081 0.7163775  0.45251662 0.74521209 0.29129716 0.93993565\n",
      "  0.5366242  0.         0.85554463 0.49340594 0.75737125 0.16425956\n",
      "  0.48123749 0.58168284 0.33065361 0.5264719  0.67858291 0.27393095\n",
      "  0.41306614 0.61594143 0.03921831 0.63791054 0.23365938 0.90538862\n",
      "  0.50457672 0.52873552 0.13710007 0.73528976 0.9870309  0.11444749\n",
      "  0.76680371 0.3794486  0.65089183 0.71515582 0.73519788 0.24572595\n",
      "  0.27213292 0.61688471 0.15748517 0.41172163 0.37963033 0.28530176\n",
      "  0.10398014 0.37004812 0.30138403 0.7546648  0.42782276 0.58698282\n",
      "  0.09972879 0.44811287 0.57756475 0.28980473 0.31228386 0.19629852\n",
      "  0.14724664 0.12812649 0.26100536 0.6866228  0.35925135 0.55175649\n",
      "  0.85197627 0.15827412 0.73565202 0.86852646 0.71331811 0.88878067\n",
      "  0.66567208 0.59156687 0.49858847 0.98313956 0.95002463 0.2203573\n",
      "  0.34878865 0.71179394 0.79172119 0.57892239 0.36968211 0.65542374\n",
      "  0.73188704 0.78390597 0.64175315 0.23483464 0.66128769 0.50979287\n",
      "  0.45627669 0.52261428 0.48174337 0.24095216 0.62054579 0.65077162\n",
      "  0.29010522 0.15430575 0.74786004 0.8084681 ]\n",
      " [0.69487176 0.96351436 0.37850755 0.56077901 0.275343   0.58026691\n",
      "  0.09387254 0.54090547 0.57957361 0.56837151 0.68546001 0.22642418\n",
      "  0.56526015 0.85554463 0.         0.88518821 0.57310486 1.00255539\n",
      "  0.76319349 0.62348307 0.6477956  0.49008705 0.6872792  0.73816451\n",
      "  0.55698517 0.53572963 0.81749258 0.36885512 0.69376959 0.25751783\n",
      "  0.41839472 0.66152738 0.96992407 0.40487269 0.15646404 0.94640511\n",
      "  0.44400357 0.61790997 0.52832003 0.40558215 0.67997879 0.80161503\n",
      "  0.81770584 0.5410392  0.85647289 0.8844953  0.56511678 1.13678774\n",
      "  0.7756035  0.80341093 0.55743833 0.38691682 0.59435592 0.80497216\n",
      "  0.95180791 0.45387792 0.38718995 0.70157658 0.8577827  0.68192202\n",
      "  0.71279527 0.75053449 0.68753317 0.91626499 0.54084119 0.3090408\n",
      "  0.1592784  0.8209092  0.55388387 0.01517249 0.27502335 0.22496163\n",
      "  0.54517637 0.49973594 0.76453979 0.24871168 0.26814128 0.64854531\n",
      "  0.59777404 0.75927348 0.15734227 0.34895641 0.57335013 0.73957796\n",
      "  0.18470823 0.40046758 0.21391331 0.91631803 0.20980335 0.56070759\n",
      "  0.73254879 0.5507966  0.49441728 0.76927827 0.30398367 0.81277355\n",
      "  0.81610473 0.81540759 0.22226821 0.05585537]\n",
      " [0.38036162 0.33438104 0.91175978 1.00100347 0.64297648 0.66721537\n",
      "  0.86761803 0.44557306 0.80236446 0.45146667 0.69556869 0.84365901\n",
      "  0.87925962 0.49340594 0.88518821 0.         0.45924539 0.475948\n",
      "  0.91381597 0.94860105 0.29266027 0.39532394 1.05883193 0.25670551\n",
      "  0.34624578 0.94001034 0.49533853 0.52621653 0.33618158 0.78825002\n",
      "  0.47555391 0.23452743 0.60367517 0.5520574  0.95385734 0.45387679\n",
      "  0.55048325 0.74781107 0.40783183 0.53779324 1.10377929 0.71053654\n",
      "  0.22276375 0.94340236 0.33827336 0.08594596 0.35585973 0.6638632\n",
      "  0.54456025 0.13551464 0.48250272 0.99495314 0.29871716 0.14720805\n",
      "  0.54891374 0.46014304 0.81602861 0.27211761 0.79003025 0.40436701\n",
      "  0.5144114  0.54919913 0.66277993 0.19954    0.65522641 0.68434549\n",
      "  0.96624578 0.63432513 1.05404858 0.89187033 0.8965351  0.7902022\n",
      "  0.98951331 0.89888422 0.92980077 0.88152843 0.8303998  0.42626871\n",
      "  0.33747173 0.29867228 0.90988456 0.78799842 0.70319564 0.25616644\n",
      "  0.85962346 0.5922174  0.71930812 0.72747483 0.68294705 0.32547429\n",
      "  0.15291478 0.857869   0.39420464 0.26924854 0.58122212 0.20460163\n",
      "  0.75741779 0.34076868 0.68307495 0.82934907]\n",
      " [0.56265435 0.7159726  0.7836802  0.9390115  0.29877467 0.71231239\n",
      "  0.51619628 0.04880201 0.81324508 0.01242042 0.79685525 0.44207852\n",
      "  0.85985669 0.75737125 0.57310486 0.45924539 0.         0.8282799\n",
      "  0.98757945 0.9374499  0.42676874 0.25423852 1.04073569 0.49772973\n",
      "  0.35303812 0.88580336 0.73543379 0.24608841 0.52374751 0.38206034\n",
      "  0.33933679 0.25181483 0.8940024  0.16847941 0.57862908 0.78388629\n",
      "  0.13192501 0.79542319 0.11251697 0.17075824 1.06445745 0.87321536\n",
      "  0.54520882 0.89086643 0.65330084 0.50974157 0.38924257 1.01472378\n",
      "  0.74371563 0.46572494 0.53579852 0.8449074  0.32975654 0.32234247\n",
      "  0.84876085 0.38365107 0.71575195 0.47231931 0.95630141 0.57187152\n",
      "  0.68130627 0.73132915 0.7745101  0.39062209 0.67762273 0.54344293\n",
      "  0.70765873 0.83250797 0.96894049 0.57286309 0.71844337 0.39712464\n",
      "  0.92348604 0.8385809  0.99863776 0.47072881 0.415461   0.56264843\n",
      "  0.41381984 0.20946595 0.66868891 0.67073875 0.73592854 0.2178791\n",
      "  0.6416721  0.17941342 0.50869105 0.94629892 0.43659036 0.24854133\n",
      "  0.35185714 0.83708587 0.30259984 0.53771545 0.33587832 0.29451835\n",
      "  0.91254496 0.62658486 0.35279503 0.5247966 ]\n",
      " [0.31343082 0.14368705 0.83459781 0.83221398 0.86152394 0.50253752\n",
      "  1.03015828 0.79303204 0.61484678 0.81681124 0.45092431 1.06715969\n",
      "  0.69838098 0.16425956 1.00255539 0.475948   0.8282799  0.\n",
      "  0.62472255 0.73969466 0.41505604 0.62449022 0.83242468 0.33181072\n",
      "  0.51136685 0.77834783 0.2023726  0.75008424 0.33013069 1.02748499\n",
      "  0.62509057 0.58160208 0.16301295 0.83604756 1.12676161 0.05617714\n",
      "  0.8607541  0.54136425 0.73101357 0.81631718 0.89044239 0.38593066\n",
      "  0.28796019 0.779093   0.17554283 0.39013701 0.48344096 0.19130527\n",
      "  0.26751928 0.38288848 0.44525713 0.91884472 0.51087264 0.59953423\n",
      "  0.11704203 0.57215151 0.74093875 0.3614011  0.43473236 0.32240655\n",
      "  0.3085149  0.29224651 0.42225613 0.67537616 0.52278718 0.70488088\n",
      "  1.00936246 0.29981184 0.89743998 1.01487423 0.87488419 1.01423728\n",
      "  0.8276238  0.75515605 0.64200629 1.11029012 1.07275078 0.35446796\n",
      "  0.44875533 0.74180507 0.94867614 0.74062442 0.53382856 0.68775206\n",
      "  0.88888252 0.88482796 0.79023566 0.33196285 0.80154787 0.59151235\n",
      "  0.49102935 0.6851729  0.58550605 0.29134761 0.74737035 0.66429832\n",
      "  0.4245185  0.20762607 0.87550466 0.95312748]\n",
      " [0.53370232 0.70716301 0.40929811 0.2845884  0.81439327 0.27666515\n",
      "  0.84012953 0.93887654 0.19083642 0.97568357 0.2183752  0.94577713\n",
      "  0.20288404 0.48123749 0.76319349 0.91381597 0.98757945 0.62472255\n",
      "  0.         0.17563913 0.64750795 0.7366127  0.22456494 0.65738641\n",
      "  0.66353787 0.26256139 0.45633062 0.76965369 0.57921204 0.94026849\n",
      "  0.64955195 0.84290709 0.48087027 0.88328931 0.91960838 0.58847142\n",
      "  0.9304765  0.19216708 0.87733229 0.86607614 0.2851744  0.23891884\n",
      "  0.70123945 0.25918591 0.61985139 0.84635233 0.63061401 0.62491161\n",
      "  0.38945003 0.7783199  0.46865642 0.45843089 0.70884166 0.95787774\n",
      "  0.51067173 0.60422615 0.37600674 0.64699444 0.2059332  0.51013924\n",
      "  0.40153506 0.37579929 0.25103885 1.07951096 0.30995684 0.5022497\n",
      "  0.67050238 0.3263141  0.34496913 0.77835124 0.50578052 0.91127583\n",
      "  0.29033811 0.2785073  0.01736852 0.98287002 0.97508315 0.49245505\n",
      "  0.62397787 1.03711449 0.62733997 0.416017   0.25170074 0.98435751\n",
      "  0.5816179  0.92177817 0.59351714 0.31901558 0.65980337 0.76754888\n",
      "  0.81731481 0.21365049 0.69053697 0.64676623 0.6991569  1.011766\n",
      "  0.20185751 0.59611465 0.78839429 0.74179547]\n",
      " [0.57605312 0.79716814 0.25036096 0.10977481 0.72205694 0.28205288\n",
      "  0.70768805 0.88897633 0.14627856 0.92636511 0.29045684 0.82401352\n",
      "  0.07767221 0.58168284 0.62348307 0.94860105 0.9374499  0.73969466\n",
      "  0.17563913 0.         0.66203213 0.70002693 0.11074551 0.69562217\n",
      "  0.65133456 0.09256959 0.54924447 0.70136792 0.61545028 0.82739066\n",
      "  0.60097723 0.83500958 0.61435997 0.81086592 0.77894002 0.6954047\n",
      "  0.86018939 0.20879713 0.83329789 0.79596416 0.15761868 0.36653878\n",
      "  0.75425257 0.08814141 0.69668302 0.89242691 0.62378104 0.77193901\n",
      "  0.47936755 0.81535958 0.47021434 0.28695986 0.70173395 0.96615657\n",
      "  0.63353889 0.56736204 0.24773442 0.67655461 0.36277621 0.55123611\n",
      "  0.46665581 0.45866389 0.32178475 1.09265052 0.29475392 0.40759077\n",
      "  0.51298621 0.4438472  0.17307869 0.63836325 0.35293028 0.79621674\n",
      "  0.11470983 0.12382953 0.16782258 0.85767701 0.85754218 0.52444665\n",
      "  0.62705209 1.02138471 0.47668742 0.29448527 0.24563655 0.97293712\n",
      "  0.43878    0.84320194 0.48338944 0.46965962 0.55744986 0.74504869\n",
      "  0.83055688 0.10062567 0.65926116 0.69515372 0.61998289 1.01276885\n",
      "  0.34380098 0.6653417  0.68734223 0.61081071]\n",
      " [0.13981795 0.33133726 0.62111434 0.70939117 0.45802072 0.3842723\n",
      "  0.65324661 0.3864647  0.51663558 0.41464007 0.43182334 0.66771642\n",
      "  0.59039959 0.33065361 0.6477956  0.29266027 0.42676874 0.41505604\n",
      "  0.64750795 0.66203213 0.         0.20997492 0.77274323 0.09347472\n",
      "  0.0998792  0.64846898 0.31013209 0.3411055  0.0972998  0.62274744\n",
      "  0.23288179 0.20823445 0.46723879 0.42116332 0.74770198 0.36546706\n",
      "  0.44607298 0.46853839 0.32165398 0.40153243 0.81518847 0.47731217\n",
      "  0.17078161 0.65200505 0.24137792 0.25612311 0.08276277 0.59417274\n",
      "  0.3276657  0.17099593 0.1921175  0.70538207 0.09799582 0.31042861\n",
      "  0.4226636  0.19447369 0.52442707 0.05723197 0.56163662 0.15456327\n",
      "  0.27352489 0.32051445 0.40179969 0.43370703 0.36728599 0.40353246\n",
      "  0.70169207 0.42055337 0.76160746 0.65738224 0.61339551 0.61344448\n",
      "  0.69759028 0.60671042 0.66225601 0.71011454 0.66808351 0.15892539\n",
      "  0.05115757 0.40229711 0.64240791 0.49846891 0.41884937 0.34662788\n",
      "  0.5877541  0.46988551 0.45570495 0.53129194 0.43800543 0.18023667\n",
      "  0.17046555 0.56850191 0.1747247  0.13089753 0.35708625 0.36502106\n",
      "  0.52172354 0.20756607 0.48101147 0.59319625]\n",
      " [0.3282413  0.53797169 0.58135781 0.71591008 0.2587478  0.46026215\n",
      "  0.47462809 0.20664472 0.56826579 0.2419673  0.54268094 0.46805581\n",
      "  0.6225632  0.5264719  0.49008705 0.39532394 0.25423852 0.62449022\n",
      "  0.7366127  0.70002693 0.20997492 0.         0.80710382 0.29993889\n",
      "  0.11421352 0.65884846 0.49955291 0.13851145 0.29775486 0.41904295\n",
      "  0.10498931 0.17628438 0.66323424 0.21166088 0.56404424 0.57382304\n",
      "  0.24034643 0.54463473 0.14198345 0.1918507  0.83707958 0.62035877\n",
      "  0.36938114 0.66353487 0.45134974 0.40189156 0.14687187 0.80027992\n",
      "  0.49850953 0.32683922 0.28182379 0.65488369 0.12110065 0.32469706\n",
      "  0.62318373 0.13370792 0.49902791 0.26588753 0.70294275 0.332385\n",
      "  0.43352744 0.48379189 0.52030566 0.44651885 0.42728189 0.33520758\n",
      "  0.58086497 0.58411876 0.75455344 0.49657943 0.53901855 0.41341702\n",
      "  0.701318   0.61216885 0.74832123 0.50928514 0.46399881 0.31724962\n",
      "  0.17854692 0.329135   0.52808793 0.45896976 0.48571498 0.28845935\n",
      "  0.48401063 0.26050438 0.34012262 0.69830079 0.29198324 0.07111236\n",
      "  0.24319698 0.59951577 0.04873087 0.33943718 0.18643648 0.34779313\n",
      "  0.6589237  0.41686662 0.29186711 0.43429125]\n",
      " [0.68483731 0.89833275 0.30920347 0.12680404 0.81344723 0.39178658\n",
      "  0.77608094 0.99253541 0.25654013 1.02988607 0.38987749 0.89856321\n",
      "  0.18568161 0.67858291 0.6872792  1.05883193 1.04073569 0.83242468\n",
      "  0.22456494 0.11074551 0.77274323 0.80710382 0.         0.80521315\n",
      "  0.76134787 0.16055594 0.64812208 0.80142944 0.72498301 0.90742202\n",
      "  0.70662027 0.94494044 0.69793623 0.90876328 0.83927099 0.7909045\n",
      "  0.95841453 0.31518102 0.93837433 0.89469982 0.06063087 0.45026199\n",
      "  0.86243579 0.1550908  0.80056465 1.00170715 0.73416802 0.84771502\n",
      "  0.57834318 0.9252818  0.58095718 0.31650714 0.81195646 1.07677334\n",
      "  0.72238789 0.67519462 0.33507824 0.7867281  0.42963487 0.6600371\n",
      "  0.57121164 0.55922191 0.42255666 1.20333852 0.40548077 0.50362048\n",
      "  0.55972473 0.5331657  0.15628919 0.70161436 0.41225802 0.87531014\n",
      "  0.14214272 0.20622736 0.2099901  0.92950696 0.93444949 0.63399327\n",
      "  0.73775235 1.13026509 0.53327224 0.3827104  0.35564233 1.08234252\n",
      "  0.50476772 0.93878053 0.57057231 0.54183917 0.64681463 0.8538442\n",
      "  0.94129952 0.20864836 0.7673229  0.80371962 0.71753369 1.12304857\n",
      "  0.42000122 0.77060325 0.77526396 0.68204818]\n",
      " [0.12371044 0.23853678 0.68442577 0.75452735 0.55116717 0.41357313\n",
      "  0.7460079  0.4614125  0.54943622 0.4860642  0.43904563 0.76099995\n",
      "  0.62865561 0.27393095 0.73816451 0.25670551 0.49772973 0.33181072\n",
      "  0.65738641 0.69562217 0.09347472 0.29993889 0.80521315 0.\n",
      "  0.1930077  0.69364395 0.26290105 0.43360503 0.0802468  0.71553637\n",
      "  0.32572571 0.25728806 0.40543467 0.50922174 0.84073531 0.28616012\n",
      "  0.53084559 0.49228778 0.39921096 0.48994462 0.85204377 0.46140657\n",
      "  0.07998945 0.69664049 0.15627036 0.19726291 0.17503426 0.51699553\n",
      "  0.29882865 0.12127386 0.24072062 0.7702692  0.18136538 0.31896686\n",
      "  0.35614322 0.28431934 0.58600084 0.03680313 0.54353111 0.14766805\n",
      "  0.26023223 0.29919149 0.40642384 0.42989834 0.40543018 0.48134016\n",
      "  0.78503947 0.39195105 0.81074938 0.74813661 0.68684516 0.70667135\n",
      "  0.74406335 0.6549495  0.67327628 0.80332139 0.76083443 0.17122013\n",
      "  0.14086156 0.43794052 0.72498684 0.56523896 0.45003611 0.38153544\n",
      "  0.66877987 0.55759447 0.54140944 0.49531508 0.52845526 0.26032078\n",
      "  0.18320914 0.60800261 0.26747656 0.04054883 0.45025199 0.38098979\n",
      "  0.50786139 0.12951608 0.5744802  0.68400664]\n",
      " [0.21492746 0.43120418 0.57338912 0.68385041 0.35819083 0.3887022\n",
      "  0.55707692 0.30850628 0.5108122  0.34062811 0.45754358 0.56799274\n",
      "  0.57582746 0.41306614 0.55698517 0.34624578 0.35303812 0.51136685\n",
      "  0.66353787 0.65133456 0.0998792  0.11421352 0.76134787 0.1930077\n",
      "  0.         0.62403955 0.3872487  0.24135902 0.18356351 0.52287442\n",
      "  0.13864195 0.18370793 0.55003892 0.32558167 0.65066794 0.46011811\n",
      "  0.35423216 0.47497706 0.24214503 0.30565409 0.79802728 0.52335085\n",
      "  0.26815056 0.62817349 0.33958578 0.33021471 0.03630924 0.68608854\n",
      "  0.39090672 0.24719028 0.1953071  0.65412657 0.05215186 0.32017683\n",
      "  0.50924615 0.11391207 0.48132067 0.15709223 0.60729008 0.22083113\n",
      "  0.32832236 0.37830022 0.43161585 0.4478829  0.36226057 0.33891435\n",
      "  0.62303817 0.47951459 0.73024224 0.56576024 0.55114193 0.5136684\n",
      "  0.67059528 0.5793433  0.67675905 0.61032472 0.56821448 0.20962409\n",
      "  0.06443487 0.37430497 0.56548297 0.44857495 0.41910795 0.32316578\n",
      "  0.51395371 0.374448   0.37547717 0.59326132 0.34821579 0.10794288\n",
      "  0.19871988 0.55301304 0.07498298 0.23076365 0.26026758 0.36213913\n",
      "  0.56451973 0.30391789 0.38222972 0.50168548]\n",
      " [0.57997533 0.82084377 0.1591866  0.06100789 0.65300181 0.28938442\n",
      "  0.62197991 0.83800331 0.163508   0.87523444 0.32914689 0.74158753\n",
      "  0.08123163 0.61594143 0.53572963 0.94001034 0.88580336 0.77834783\n",
      "  0.26256139 0.09256959 0.64846898 0.65884846 0.16055594 0.69364395\n",
      "  0.62403955 0.         0.58058999 0.64416536 0.61476547 0.74841474\n",
      "  0.55610234 0.80592623 0.66591724 0.75002317 0.69027894 0.73036852\n",
      "  0.79977387 0.2370364  0.78595683 0.73641583 0.17887471 0.42331545\n",
      "  0.75873012 0.00550316 0.71522455 0.89066515 0.60012663 0.82949067\n",
      "  0.51198315 0.81010946 0.4575246  0.1960399  0.67577752 0.94345807\n",
      "  0.67867618 0.52971619 0.17478378 0.67050423 0.43377741 0.55547674\n",
      "  0.48733378 0.48873742 0.35621829 1.07100851 0.28884607 0.34505131\n",
      "  0.42093925 0.49194328 0.12069639 0.55044336 0.26270716 0.71657157\n",
      "  0.05107144 0.04722282 0.25690629 0.7738252  0.77654569 0.52507799\n",
      "  0.6085125  0.98578116 0.38630053 0.22235498 0.25332168 0.94006694\n",
      "  0.35130315 0.77909568 0.41002403 0.53423651 0.48628099 0.71014229\n",
      "  0.81250854 0.09335602 0.62179803 0.69856223 0.55895706 0.98575207\n",
      "  0.40838061 0.68060603 0.61473082 0.52627392]\n",
      " [0.17299494 0.25154561 0.63222527 0.63624945 0.70793957 0.30049522\n",
      "  0.85377921 0.6933079  0.4174353  0.72317519 0.2589554  0.90521286\n",
      "  0.50186522 0.03921831 0.81749258 0.49533853 0.73543379 0.2023726\n",
      "  0.45633062 0.54924447 0.31013209 0.49955291 0.64812208 0.26290105\n",
      "  0.3872487  0.58058999 0.         0.60702366 0.21293354 0.87171321\n",
      "  0.4724296  0.51295646 0.16524052 0.70658386 0.95002951 0.150673\n",
      "  0.73951385 0.34488192 0.62738602 0.68643678 0.70394221 0.22580595\n",
      "  0.27258352 0.58168813 0.16798111 0.41626604 0.35283415 0.32131078\n",
      "  0.06990557 0.3673535  0.26500581 0.71653776 0.40576227 0.58039068\n",
      "  0.13520253 0.41548246 0.53879965 0.27419028 0.29863159 0.16727424\n",
      "  0.10803296 0.09185285 0.22756572 0.6847621  0.32053566 0.51305239\n",
      "  0.81281371 0.1417439  0.70066625 0.83056364 0.67418371 0.85446749\n",
      "  0.63062435 0.5551355  0.47359726 0.94838033 0.91615971 0.18784337\n",
      "  0.32354847 0.69984758 0.7525871  0.53979169 0.33253856 0.64336733\n",
      "  0.69275694 0.75499254 0.60362557 0.23388973 0.62451123 0.48704639\n",
      "  0.44609817 0.48723565 0.45379137 0.23385535 0.58651568 0.64328898\n",
      "  0.27181305 0.15488552 0.71335223 0.77079719]\n",
      " [0.44282448 0.67212751 0.53763425 0.69570347 0.12024877 0.50297784\n",
      "  0.34164478 0.20113887 0.58643674 0.23681967 0.5995512  0.32972945\n",
      "  0.62441978 0.63791054 0.36885512 0.52621653 0.24608841 0.75008424\n",
      "  0.76965369 0.70136792 0.3411055  0.13851145 0.80142944 0.43360503\n",
      "  0.24135902 0.64416536 0.60702366 0.         0.42000667 0.28205642\n",
      "  0.13726374 0.29571185 0.77226417 0.1139699  0.42812728 0.69740294\n",
      "  0.16093413 0.58001338 0.16692081 0.09642913 0.82209638 0.69310487\n",
      "  0.50586166 0.64935212 0.58033717 0.53889778 0.26672305 0.91883044\n",
      "  0.59403332 0.46517743 0.35912841 0.59944344 0.25876675 0.4364552\n",
      "  0.73694791 0.19472705 0.47197993 0.39819735 0.77145952 0.44168649\n",
      "  0.52630256 0.57547136 0.58328392 0.54793915 0.46408804 0.29959651\n",
      "  0.48084796 0.67151102 0.72360506 0.37319585 0.47395058 0.27509548\n",
      "  0.67996711 0.59705183 0.77890519 0.37123942 0.32729567 0.41933888\n",
      "  0.30169857 0.39881721 0.43511674 0.42617909 0.52037659 0.37326813\n",
      "  0.40160533 0.15656286 0.26405826 0.78444174 0.19582775 0.20238419\n",
      "  0.37672802 0.60212811 0.16639533 0.4719804  0.09000549 0.44470218\n",
      "  0.72634339 0.54360213 0.15689113 0.31432493]\n",
      " [0.0475938  0.26974533 0.61149354 0.67555247 0.53188278 0.33339782\n",
      "  0.71058197 0.48279771 0.46930248 0.51157388 0.36087552 0.73886537\n",
      "  0.54886962 0.23365938 0.69376959 0.33618158 0.52374751 0.33013069\n",
      "  0.57921204 0.61545028 0.0972998  0.29775486 0.72498301 0.0802468\n",
      "  0.18356351 0.61476547 0.21293354 0.42000667 0.         0.69784041\n",
      "  0.29664138 0.30187372 0.37051403 0.50908272 0.80666829 0.27753862\n",
      "  0.53733303 0.41211945 0.41748552 0.48911633 0.77198883 0.39122425\n",
      "  0.14672899 0.61765919 0.16493045 0.27711363 0.15361617 0.50252687\n",
      "  0.23464511 0.20110017 0.16693808 0.6978175  0.19417281 0.38673419\n",
      "  0.32717153 0.24647754 0.51270183 0.0694586  0.47474051 0.06929178\n",
      "  0.18714546 0.23055531 0.32869912 0.50311867 0.32613251 0.42022661\n",
      "  0.72769236 0.32830308 0.73251148 0.70476297 0.62017058 0.68546924\n",
      "  0.66535456 0.57678769 0.59489733 0.7818561  0.74316312 0.09100607\n",
      "  0.11957817 0.49282248 0.66698013 0.49481927 0.36990913 0.4365315\n",
      "  0.60927864 0.55794749 0.48926479 0.43699941 0.48608099 0.27622547\n",
      "  0.24648178 0.52838474 0.25633586 0.08691914 0.4205958  0.44605073\n",
      "  0.43694994 0.12542204 0.54817316 0.64120674]\n",
      " [0.71604005 0.95399941 0.60217423 0.78455476 0.16597104 0.70674891\n",
      "  0.16947635 0.36668165 0.7494722  0.38189125 0.81248265 0.06002493\n",
      "  0.75863929 0.90538862 0.25751783 0.78825002 0.38206034 1.02748499\n",
      "  0.94026849 0.82739066 0.62274744 0.41904295 0.90742202 0.71553637\n",
      "  0.52287442 0.74841474 0.87171321 0.28205642 0.69784041 0.\n",
      "  0.40288198 0.5538168  1.03570107 0.23797484 0.20197588 0.97367311\n",
      "  0.25370101 0.76744152 0.38401115 0.25072955 0.90973412 0.91993584\n",
      "  0.78780706 0.75391404 0.86038619 0.81216287 0.54621071 1.18974966\n",
      "  0.84841274 0.74286539 0.61041551 0.62938349 0.54006785 0.67555597\n",
      "  1.0051139  0.4578628  0.57971918 0.67993216 0.99012525 0.71156484\n",
      "  0.78051425 0.82685883 0.80436446 0.76559222 0.66501254 0.43921106\n",
      "  0.41657546 0.91538872 0.78924169 0.24929994 0.50560799 0.03332526\n",
      "  0.76832211 0.70608886 0.94533888 0.09334196 0.04537641 0.68506275\n",
      "  0.58152392 0.58926467 0.40481271 0.53354434 0.71252109 0.5862635\n",
      "  0.41091    0.20601751 0.3473513  1.02369355 0.28195947 0.47647483\n",
      "  0.64617848 0.73994364 0.44809363 0.75363807 0.28534783 0.66424514\n",
      "  0.94543693 0.8226791  0.16170388 0.23579506]\n",
      " [0.31316143 0.56030339 0.47644762 0.61246254 0.23724147 0.37648381\n",
      "  0.42037012 0.29053713 0.47397757 0.32774661 0.46816333 0.44232155\n",
      "  0.52331563 0.50457672 0.41839472 0.47555391 0.33933679 0.62509057\n",
      "  0.64955195 0.60097723 0.23288179 0.10498931 0.70662027 0.32572571\n",
      "  0.13864195 0.55610234 0.4724296  0.13726374 0.29664138 0.40288198\n",
      "  0.         0.27422895 0.63751333 0.24679119 0.51502098 0.57096109\n",
      "  0.28893925 0.45768242 0.23243833 0.22739199 0.73473341 0.5577413\n",
      "  0.40363215 0.56088931 0.46094974 0.46718376 0.1507177  0.78773268\n",
      "  0.45708556 0.3852126  0.22194571 0.55064268 0.17811664 0.42272389\n",
      "  0.60410622 0.05760228 0.39433263 0.28895271 0.63726787 0.30931453\n",
      "  0.38924253 0.43827768 0.4498991  0.54718532 0.33998896 0.23054379\n",
      "  0.49082757 0.53429721 0.65001116 0.42711851 0.43674705 0.389169\n",
      "  0.59768201 0.50919495 0.66015682 0.48537386 0.44801304 0.28462695\n",
      "  0.1854707  0.43403143 0.43520832 0.3539913  0.39793345 0.39320877\n",
      "  0.38735245 0.29238316 0.2447707  0.6473644  0.21015124 0.16823637\n",
      "  0.3233023  0.50035705 0.0825835  0.36052843 0.12491753 0.45047528\n",
      "  0.59230935 0.42203822 0.25163821 0.36305087]\n",
      " [0.34712199 0.46469538 0.74529327 0.8652495  0.40990904 0.57031566\n",
      "  0.63705949 0.22527913 0.69435776 0.2413833  0.63195289 0.60913493\n",
      "  0.75935309 0.52873552 0.66152738 0.23452743 0.25181483 0.58160208\n",
      "  0.84290709 0.83500958 0.20823445 0.17628438 0.94494044 0.25728806\n",
      "  0.18370793 0.80592623 0.51295646 0.29571185 0.30187372 0.5538168\n",
      "  0.27422895 0.         0.66225427 0.31846623 0.72119628 0.54029902\n",
      "  0.32101787 0.65654423 0.17698855 0.30362743 0.98096741 0.68479099\n",
      "  0.29530021 0.81018699 0.40865699 0.26578858 0.21337306 0.77064086\n",
      "  0.53546883 0.21414795 0.37472425 0.82248704 0.13459329 0.14877948\n",
      "  0.61341946 0.28049335 0.65716325 0.2391181  0.76921097 0.36278988\n",
      "  0.48157547 0.52874762 0.60371442 0.27324607 0.54539294 0.5023496\n",
      "  0.75709709 0.62862544 0.90954704 0.66696892 0.71085423 0.5557312\n",
      "  0.85162877 0.76065125 0.856684   0.64706254 0.59619628 0.36512787\n",
      "  0.2197389  0.19560246 0.70432215 0.62089829 0.60170482 0.14152306\n",
      "  0.65954681 0.36031357 0.51580174 0.7386667  0.46781418 0.10646373\n",
      "  0.10121244 0.73649615 0.19348764 0.29528869 0.36039615 0.18025714\n",
      "  0.72865401 0.38640702 0.45222016 0.60607887]\n",
      " [0.33512439 0.29182116 0.74658678 0.71470797 0.87250933 0.41664818\n",
      "  1.01152125 0.85331012 0.50560924 0.88187884 0.33918403 1.0679243\n",
      "  0.58468607 0.13710007 0.96992407 0.60367517 0.8940024  0.16301295\n",
      "  0.48087027 0.61435997 0.46723879 0.66323424 0.69793623 0.40543467\n",
      "  0.55003892 0.66591724 0.16524052 0.77226417 0.37051403 1.03570107\n",
      "  0.63751333 0.66225427 0.         0.87134729 1.10721621 0.15526515\n",
      "  0.90350346 0.43280705 0.78790968 0.85120238 0.75762354 0.24836533\n",
      "  0.39051363 0.66576491 0.26803878 0.51868798 0.51636247 0.1707227\n",
      "  0.19432411 0.49032266 0.42642588 0.826393   0.56467338 0.71017135\n",
      "  0.05506075 0.580432   0.66049971 0.42438926 0.28112406 0.33181837\n",
      "  0.2589383  0.21951344 0.3175815  0.80154383 0.44684193 0.66183573\n",
      "  0.95138361 0.17437863 0.78075929 0.9835049  0.80291214 1.01777062\n",
      "  0.71248531 0.65006887 0.4977572  1.11100708 1.07993856 0.35303172\n",
      "  0.48581813 0.84110955 0.8925216  0.66994202 0.44107994 0.78505738\n",
      "  0.83319638 0.91984896 0.75640734 0.17228237 0.78315557 0.64673118\n",
      "  0.58495999 0.57523348 0.61811063 0.36954174 0.75035866 0.77478204\n",
      "  0.27922042 0.27875098 0.87652149 0.9254964 ]\n",
      " [0.53757288 0.74546571 0.63428228 0.79943443 0.13032078 0.6168862\n",
      "  0.35186386 0.13779428 0.69916277 0.1634998  0.71283376 0.29575383\n",
      "  0.73444271 0.73528976 0.40487269 0.5520574  0.16847941 0.83604756\n",
      "  0.88328931 0.81086592 0.42116332 0.21166088 0.90876328 0.50922174\n",
      "  0.32558167 0.75002317 0.70658386 0.1139699  0.50908272 0.23797484\n",
      "  0.24679119 0.31846623 0.87134729 0.         0.42189179 0.78548247\n",
      "  0.04982671 0.69392296 0.14604174 0.0201471  0.92664107 0.80451457\n",
      "  0.57437472 0.75531142 0.66241787 0.58123443 0.35659655 1.01152359\n",
      "  0.69892494 0.51736966 0.46778455 0.68926904 0.32794151 0.43772\n",
      "  0.83302847 0.30288913 0.576096   0.47628596 0.8837157  0.53953184\n",
      "  0.63187668 0.68165642 0.69588456 0.53166281 0.57805683 0.40516692\n",
      "  0.54004221 0.77940726 0.82322309 0.40500174 0.56105092 0.24485592\n",
      "  0.7834534  0.70320147 0.8923676  0.33118225 0.27878908 0.52054306\n",
      "  0.38957688 0.36128971 0.50296156 0.52925218 0.63431238 0.35164751\n",
      "  0.47960248 0.04886651 0.35390223 0.89299442 0.27818026 0.2534065\n",
      "  0.41435524 0.71243114 0.25375228 0.54927883 0.19123588 0.42906273\n",
      "  0.83867789 0.6284252  0.18437979 0.35632108]\n",
      " [0.81438481 1.07422137 0.53196372 0.71248082 0.31130081 0.7296134\n",
      "  0.09661257 0.5577471  0.73534975 0.57716715 0.83580614 0.14501819\n",
      "  0.7216246  0.9870309  0.15646404 0.95385734 0.57862908 1.12676161\n",
      "  0.91960838 0.77894002 0.74770198 0.56404424 0.83927099 0.84073531\n",
      "  0.65066794 0.69027894 0.95002951 0.42812728 0.80666829 0.20197588\n",
      "  0.51502098 0.72119628 1.10721621 0.42189179 0.         1.07100678\n",
      "  0.44739981 0.7716018  0.5638371  0.42993632 0.82854424 0.95098265\n",
      "  0.9182363  0.69552595 0.97149969 0.96593509 0.66573815 1.27116835\n",
      "  0.9134212  0.8896571  0.68580057 0.53171571 0.67973188 0.8543338\n",
      "  1.08518114 0.5604983  0.54362011 0.80397054 1.00998935 0.80435721\n",
      "  0.84841896 0.88912423 0.83581024 0.95334502 0.68925395 0.45396596\n",
      "  0.28866012 0.96499433 0.70077448 0.14133511 0.42806338 0.18182285\n",
      "  0.69719442 0.65535883 0.92100231 0.13882289 0.18450335 0.77290602\n",
      "  0.70036879 0.78200972 0.30601244 0.5048584  0.72507921 0.77333154\n",
      "  0.34042089 0.39945711 0.35469622 1.06400121 0.32591505 0.63042294\n",
      "  0.8048487  0.70725662 0.580431   0.87528377 0.390663   0.85038582\n",
      "  0.96762371 0.93127681 0.2721812  0.18547823]\n",
      " [0.25847368 0.13712352 0.78191993 0.7852975  0.8077706  0.4510324\n",
      "  0.97439678 0.74723549 0.5669589  0.77222378 0.40526903 1.01268412\n",
      "  0.65106703 0.11444749 0.94640511 0.45387679 0.78388629 0.05617714\n",
      "  0.58847142 0.6954047  0.36546706 0.57382304 0.7909045  0.28616012\n",
      "  0.46011811 0.73036852 0.150673   0.69740294 0.27753862 0.97367311\n",
      "  0.57096109 0.54029902 0.15526515 0.78548247 1.07100678 0.\n",
      "  0.81153239 0.49388908 0.68425464 0.7656372  0.84808128 0.34996265\n",
      "  0.25150592 0.73132552 0.13167441 0.36812453 0.43114864 0.23086535\n",
      "  0.21838566 0.34982368 0.38908413 0.86662415 0.46238693 0.56928678\n",
      "  0.1009267  0.51748131 0.68751901 0.31350421 0.40648504 0.26669029\n",
      "  0.25468978 0.24208317 0.37533353 0.65306433 0.46972665 0.64884804\n",
      "  0.9536742  0.26217332 0.85009925 0.95874192 0.82029718 0.95995598\n",
      "  0.78011928 0.70564675 0.60583264 1.05584883 1.01888368 0.29845861\n",
      "  0.39683451 0.70745264 0.8929404  0.68616347 0.48321012 0.65247143\n",
      "  0.83316813 0.83432705 0.73405854 0.31127954 0.74565534 0.54379913\n",
      "  0.45350962 0.63703324 0.53370691 0.24626951 0.69267126 0.63422912\n",
      "  0.39134486 0.15832773 0.82083949 0.89704614]\n",
      " [0.5685815  0.76406474 0.68387083 0.84925839 0.17344012 0.66236493\n",
      "  0.3844483  0.1132571  0.74727687 0.12979478 0.7567536  0.31341057\n",
      "  0.78363916 0.76680371 0.44400357 0.55048325 0.13192501 0.8607541\n",
      "  0.9304765  0.86018939 0.44607298 0.24034643 0.95841453 0.53084559\n",
      "  0.35423216 0.79977387 0.73951385 0.16093413 0.53733303 0.25370101\n",
      "  0.28893925 0.32101787 0.90350346 0.04982671 0.44739981 0.81153239\n",
      "  0.         0.74046658 0.14403115 0.06460199 0.97645519 0.84599167\n",
      "  0.59191559 0.8050566  0.68592329 0.58663546 0.38717573 1.03950319\n",
      "  0.73531474 0.52803902 0.50764734 0.73814175 0.35000533 0.42735174\n",
      "  0.86345626 0.34355484 0.62590103 0.49948819 0.92606789 0.57224445\n",
      "  0.66893592 0.71899769 0.73883826 0.51218267 0.62404509 0.45485839\n",
      "  0.58370807 0.81781111 0.87295008 0.44300382 0.60972081 0.26645086\n",
      "  0.83327906 0.75292838 0.93980729 0.34481071 0.29026432 0.55531432\n",
      "  0.41866538 0.33580882 0.5486209  0.57907377 0.68074489 0.33344338\n",
      "  0.5271462  0.04804028 0.40324597 0.9317529  0.32715371 0.27102751\n",
      "  0.42041316 0.76155422 0.2858186  0.57128683 0.24089016 0.41154012\n",
      "  0.88116181 0.65355981 0.22720342 0.39761323]\n",
      " [0.37053984 0.58974571 0.32049653 0.29145119 0.63207159 0.08628766\n",
      "  0.6849039  0.7467291  0.07370362 0.78352063 0.09363372 0.77920874\n",
      "  0.15718029 0.3794486  0.61790997 0.74781107 0.79542319 0.54136425\n",
      "  0.19216708 0.20879713 0.46853839 0.54463473 0.31518102 0.49228778\n",
      "  0.47497706 0.2370364  0.34488192 0.58001338 0.41211945 0.76744152\n",
      "  0.45768242 0.65654423 0.43280705 0.69392296 0.7716018  0.49388908\n",
      "  0.74046658 0.         0.68519155 0.6762987  0.36627679 0.20193813\n",
      "  0.54742769 0.23772919 0.48804576 0.68778688 0.44326216 0.59986043\n",
      "  0.27566109 0.61315422 0.28210449 0.39592596 0.521979   0.77796774\n",
      "  0.44245233 0.41207326 0.24801061 0.47620023 0.24192049 0.34581445\n",
      "  0.25797958 0.25320982 0.11918336 0.90222759 0.1178163  0.32927396\n",
      "  0.55538444 0.2584959  0.35624513 0.6329398  0.39359961 0.74028893\n",
      "  0.28632316 0.21736178 0.20370112 0.81854031 0.80498803 0.32156015\n",
      "  0.43988342 0.84926693 0.50266686 0.27366243 0.05982257 0.79751252\n",
      "  0.44838488 0.73372828 0.42675482 0.31975856 0.48551813 0.57732555\n",
      "  0.63895382 0.14412483 0.49885509 0.48901983 0.51316936 0.82912487\n",
      "  0.20334374 0.45655166 0.61068644 0.5876686 ]\n",
      " [0.45439186 0.62691976 0.69342168 0.84091582 0.25749342 0.60142333\n",
      "  0.48760783 0.06637345 0.70565753 0.10016678 0.68465465 0.44154027\n",
      "  0.75562673 0.65089183 0.52832003 0.40783183 0.11251697 0.73101357\n",
      "  0.87733229 0.83329789 0.32165398 0.14198345 0.93837433 0.39921096\n",
      "  0.24214503 0.78595683 0.62738602 0.16692081 0.41748552 0.38401115\n",
      "  0.23243833 0.17698855 0.78790968 0.14604174 0.5638371  0.68425464\n",
      "  0.14403115 0.68519155 0.         0.13456209 0.9648272  0.76078627\n",
      "  0.45456527 0.79087699 0.55547101 0.44263595 0.27812292 0.91443526\n",
      "  0.63303391 0.38566041 0.42330447 0.7600154  0.22367654 0.29199047\n",
      "  0.74424155 0.27312662 0.61934523 0.37081402 0.84381085 0.46232255\n",
      "  0.56989801 0.62002798 0.66208592 0.39102244 0.56752375 0.44868502\n",
      "  0.64725384 0.72106288 0.8745721  0.53092907 0.63681376 0.38992139\n",
      "  0.82573657 0.73881953 0.88871992 0.47722158 0.42462176 0.45162483\n",
      "  0.30426365 0.23249405 0.60203709 0.57596238 0.62593297 0.21200586\n",
      "  0.56773476 0.18438563 0.42789207 0.83501662 0.36242895 0.14142328\n",
      "  0.27663656 0.73269505 0.19016012 0.43971103 0.25401077 0.28748968\n",
      "  0.80003235 0.52602205 0.30739552 0.47548995]\n",
      " [0.51746156 0.72652165 0.62324981 0.78652437 0.13025867 0.59871356\n",
      "  0.35672483 0.13532948 0.68268009 0.16444703 0.69407529 0.30744895\n",
      "  0.71930894 0.71515582 0.40558215 0.53779324 0.17075824 0.81631718\n",
      "  0.86607614 0.79596416 0.40153243 0.1918507  0.89469982 0.48994462\n",
      "  0.30565409 0.73641583 0.68643678 0.09642913 0.48911633 0.25072955\n",
      "  0.22739199 0.30362743 0.85120238 0.0201471  0.42993632 0.7656372\n",
      "  0.06460199 0.6762987  0.13456209 0.         0.91352074 0.78512747\n",
      "  0.55567644 0.74167272 0.6428466  0.56505929 0.33653153 0.99152043\n",
      "  0.67888219 0.5000423  0.44806376 0.67999276 0.30876904 0.42648577\n",
      "  0.81291974 0.28323504 0.56293525 0.4568228  0.86453126 0.51938639\n",
      "  0.61187499 0.66168153 0.67683625 0.52356274 0.56012206 0.39137175\n",
      "  0.53699961 0.75954264 0.8115292  0.40646357 0.55223354 0.25543202\n",
      "  0.77061139 0.68947765 0.87533251 0.3440715  0.2926126  0.50041646\n",
      "  0.36958774 0.35626414 0.49810158 0.51635507 0.6166201  0.34363401\n",
      "  0.47258846 0.06887348 0.34387868 0.87317845 0.26922631 0.23518488\n",
      "  0.39827783 0.69717413 0.23365612 0.5299297  0.17752486 0.42046788\n",
      "  0.81952214 0.60869112 0.18362214 0.35563452]\n",
      " [0.73320995 0.95322163 0.30755989 0.12764205 0.82552648 0.43878394\n",
      "  0.77099725 1.01674152 0.30282494 1.05394481 0.44508962 0.89691204\n",
      "  0.22479645 0.73519788 0.67997879 1.10377929 1.06445745 0.89044239\n",
      "  0.2851744  0.15761868 0.81518847 0.83707958 0.06063087 0.85204377\n",
      "  0.79802728 0.17887471 0.70394221 0.82209638 0.77198883 0.90973412\n",
      "  0.73473341 0.98096741 0.75762354 0.92664107 0.82854424 0.84808128\n",
      "  0.97645519 0.36627679 0.9648272  0.91352074 0.         0.50963631\n",
      "  0.91162541 0.17395651 0.85379974 1.0490898  0.77239747 0.90817575\n",
      "  0.63405514 0.97124501 0.62307262 0.29803525 0.84929708 1.11585232\n",
      "  0.78122733 0.70699873 0.35059001 0.8320489  0.49024071 0.70839582\n",
      "  0.62388863 0.61420651 0.4772455  1.24299545 0.44862002 0.52256254\n",
      "  0.54379162 0.5917066  0.12895507 0.69382698 0.4068677  0.87709148\n",
      "  0.14386751 0.22604965 0.27049407 0.92578509 0.93430629 0.68104058\n",
      "  0.77812465 1.16311289 0.52352538 0.39742913 0.40213411 1.11658322\n",
      "  0.50135644 0.95418849 0.58111387 0.60235307 0.65833733 0.88701041\n",
      "  0.98224957 0.24677699 0.799211   0.85237925 0.73600101 1.16016583\n",
      "  0.48015196 0.82280859 0.78459165 0.67968978]\n",
      " [0.34364912 0.47236815 0.52233221 0.46899522 0.76929588 0.22146486\n",
      "  0.85981969 0.82654713 0.26946298 0.86082031 0.117055   0.94036776\n",
      "  0.34255695 0.24572595 0.80161503 0.71053654 0.87321536 0.38593066\n",
      "  0.23891884 0.36653878 0.47731217 0.62035877 0.45026199 0.46140657\n",
      "  0.52335085 0.42331545 0.22580595 0.69310487 0.39122425 0.91993584\n",
      "  0.5577413  0.68479099 0.24836533 0.80451457 0.95098265 0.34996265\n",
      "  0.84599167 0.20193813 0.76078627 0.78512747 0.50963631 0.\n",
      "  0.48968714 0.42262609 0.39352328 0.63565557 0.48721299 0.40668763\n",
      "  0.16642995 0.57746547 0.3394942  0.59614269 0.55850911 0.77774359\n",
      "  0.27291923 0.50243805 0.44776044 0.4605028  0.08444956 0.32426585\n",
      "  0.20447385 0.16224408 0.11614127 0.89130311 0.26179508 0.49765717\n",
      "  0.75303155 0.088056   0.53500185 0.81629405 0.59366463 0.89615654\n",
      "  0.46788557 0.41297136 0.25624234 0.98178579 0.96090375 0.31983215\n",
      "  0.46929282 0.87957602 0.69817602 0.46839556 0.23098542 0.82393345\n",
      "  0.64171685 0.8495114  0.59752215 0.11826409 0.64384053 0.63122877\n",
      "  0.63770599 0.33608897 0.57163092 0.44179697 0.64451166 0.83724604\n",
      "  0.04691448 0.37606722 0.75862082 0.76550656]\n",
      " [0.17895914 0.17238935 0.75810775 0.81925589 0.62477496 0.47333712\n",
      "  0.82396484 0.51322454 0.60900639 0.53416356 0.4848854  0.83487601\n",
      "  0.69047487 0.27213292 0.81770584 0.22276375 0.54520882 0.28796019\n",
      "  0.70123945 0.75425257 0.17078161 0.36938114 0.86243579 0.07998945\n",
      "  0.26815056 0.75873012 0.27258352 0.50586166 0.14672899 0.78780706\n",
      "  0.40363215 0.29530021 0.39051363 0.57437472 0.9182363  0.25150592\n",
      "  0.59191559 0.54742769 0.45456527 0.55567644 0.91162541 0.48968714\n",
      "  0.         0.76142402 0.12282153 0.14615894 0.25340185 0.47867734\n",
      "  0.32328642 0.09981923 0.31343396 0.84435849 0.24841837 0.31986805\n",
      "  0.33717765 0.36383391 0.65935211 0.11620022 0.56804181 0.20366237\n",
      "  0.29972123 0.32988805 0.45142423 0.41454345 0.46992676 0.56024599\n",
      "  0.86474269 0.41187962 0.8773342  0.82754507 0.76422888 0.78035749\n",
      "  0.80955467 0.7218458  0.71773445 0.87683182 0.83294138 0.23382738\n",
      "  0.21997796 0.4559484  0.80459248 0.64066674 0.51013575 0.4010643\n",
      "  0.74814037 0.62200469 0.62138292 0.5051823  0.60793198 0.3215013\n",
      "  0.20309241 0.67067747 0.34117906 0.06034116 0.52757333 0.38464322\n",
      "  0.53659923 0.11830627 0.65036909 0.76338491]\n",
      " [0.58261199 0.82250918 0.16427067 0.05789402 0.65843784 0.29145715\n",
      "  0.62737086 0.84304166 0.16436909 0.88028148 0.32949242 0.74705293\n",
      "  0.08122573 0.61688471 0.5410392  0.94340236 0.89086643 0.779093\n",
      "  0.25918591 0.08814141 0.65200505 0.66353487 0.1550908  0.69664049\n",
      "  0.62817349 0.00550316 0.58168813 0.64935212 0.61765919 0.75391404\n",
      "  0.56088931 0.81018699 0.66576491 0.75531142 0.69552595 0.73132552\n",
      "  0.8050566  0.23772919 0.79087699 0.74167272 0.17395651 0.42262609\n",
      "  0.76142402 0.         0.71714207 0.89371533 0.60409532 0.82897248\n",
      "  0.51295181 0.81330857 0.46090041 0.19972659 0.67987387 0.94748261\n",
      "  0.67896182 0.53422772 0.18018617 0.67369187 0.4320364  0.55808057\n",
      "  0.48898221 0.48983797 0.35687901 1.07500856 0.29162863 0.35030256\n",
      "  0.42577579 0.49191313 0.11914517 0.55574294 0.26787274 0.72206763\n",
      "  0.04915472 0.05232049 0.25326184 0.77926229 0.78202945 0.52784691\n",
      "  0.61225862 0.99032443 0.391425   0.22777023 0.25526193 0.94450103\n",
      "  0.35664596 0.7844549  0.41549782 0.53307156 0.49173478 0.7146092\n",
      "  0.81630341 0.09455399 0.62633706 0.70128744 0.56422659 0.98996243\n",
      "  0.40711261 0.68269015 0.62020852 0.53170431]\n",
      " [0.16365407 0.11185031 0.73999737 0.77393254 0.69464381 0.4259929\n",
      "  0.87533604 0.61758748 0.5564323  0.64174595 0.41204579 0.90268863\n",
      "  0.64074296 0.15748517 0.85647289 0.33827336 0.65330084 0.17554283\n",
      "  0.61985139 0.69668302 0.24137792 0.45134974 0.80056465 0.15627036\n",
      "  0.33958578 0.71522455 0.16798111 0.58033717 0.16493045 0.86038619\n",
      "  0.46094974 0.40865699 0.26803878 0.66241787 0.97149969 0.13167441\n",
      "  0.68592329 0.48804576 0.55547101 0.6428466  0.85379974 0.39352328\n",
      "  0.12282153 0.71714207 0.         0.25512738 0.31418641 0.36212271\n",
      "  0.23070441 0.22258193 0.31031001 0.82651688 0.33591796 0.4426817\n",
      "  0.21441435 0.41140735 0.64192389 0.1864627  0.46616933 0.18132408\n",
      "  0.23006644 0.2446166  0.37873969 0.53442932 0.43327533 0.57323921\n",
      "  0.88181572 0.30952202 0.83581822 0.8678094  0.76277572 0.84901327\n",
      "  0.76622532 0.68355012 0.6369386  0.94556177 0.90575829 0.21687787\n",
      "  0.27891247 0.57747849 0.82080374 0.63185654 0.46190376 0.52210678\n",
      "  0.7619542  0.71107561 0.64899882 0.39222492 0.64994257 0.41613913\n",
      "  0.32251954 0.6232648  0.41440067 0.11583718 0.58527966 0.50746474\n",
      "  0.43972331 0.04133205 0.71258789 0.80457022]\n",
      " [0.31726227 0.24916391 0.87539129 0.95158912 0.65857739 0.61040905\n",
      "  0.87601273 0.48915935 0.74635557 0.50063582 0.62917826 0.86498103\n",
      "  0.82589496 0.41172163 0.8844953  0.08594596 0.50974157 0.39013701\n",
      "  0.84635233 0.89242691 0.25612311 0.40189156 1.00170715 0.19726291\n",
      "  0.33021471 0.89066515 0.41626604 0.53889778 0.27711363 0.81216287\n",
      "  0.46718376 0.26578858 0.51868798 0.58123443 0.96593509 0.36812453\n",
      "  0.58663546 0.68778688 0.44263595 0.56505929 1.0490898  0.63565557\n",
      "  0.14615894 0.89371533 0.25512738 0.         0.33102539 0.57856378\n",
      "  0.46922601 0.08520606 0.43548794 0.9603231  0.29014828 0.21986144\n",
      "  0.46380772 0.44185622 0.77779842 0.22134175 0.71339302 0.34197245\n",
      "  0.44492342 0.47604013 0.59588326 0.28548242 0.60266632 0.65903208\n",
      "  0.95247194 0.55682557 1.00729548 0.89246228 0.86946064 0.81065732\n",
      "  0.94097185 0.85151015 0.86271734 0.90465886 0.85578349 0.3680515\n",
      "  0.30585559 0.37070085 0.89421494 0.75373351 0.64697893 0.32268635\n",
      "  0.84106615 0.62481455 0.70503345 0.64644364 0.67732287 0.33709054\n",
      "  0.16688908 0.80526542 0.39027333 0.19993186 0.58231946 0.28215258\n",
      "  0.68255755 0.26143613 0.69375548 0.82880235]\n",
      " [0.18142852 0.41037678 0.55728579 0.6603984  0.38054938 0.3570027\n",
      "  0.57097731 0.34449616 0.48173282 0.37682904 0.42289964 0.58922969\n",
      "  0.549068   0.37963033 0.56511678 0.35585973 0.38924257 0.48344096\n",
      "  0.63061401 0.62378104 0.08276277 0.14687187 0.73416802 0.17503426\n",
      "  0.03630924 0.60012663 0.35283415 0.26672305 0.15361617 0.54621071\n",
      "  0.1507177  0.21337306 0.51636247 0.35659655 0.66573815 0.43114864\n",
      "  0.38717573 0.44326216 0.27812292 0.33653153 0.77239747 0.48721299\n",
      "  0.25340185 0.60409532 0.31418641 0.33102539 0.         0.65518649\n",
      "  0.35493255 0.24624123 0.16195787 0.6396171  0.07878589 0.3435411\n",
      "  0.4766547  0.11250699 0.46316278 0.13824728 0.57121511 0.18588237\n",
      "  0.29207385 0.34208868 0.39647707 0.47094568 0.33231859 0.32946872\n",
      "  0.62219214 0.44327328 0.70867745 0.57464685 0.54126658 0.53529405\n",
      "  0.64755358 0.5561943  0.64410009 0.63193936 0.59158489 0.17350976\n",
      "  0.03537337 0.40651654 0.56350262 0.43293457 0.38836433 0.35426685\n",
      "  0.51004291 0.40540385 0.37527472 0.55706854 0.35535287 0.14401601\n",
      "  0.21457782 0.52642624 0.10301076 0.21009714 0.27541981 0.38905795\n",
      "  0.52856431 0.27693376 0.40069215 0.51045907]\n",
      " [0.47600655 0.32948371 0.91613296 0.87563711 1.02477532 0.58724754\n",
      "  1.17499474 0.97778569 0.6717046  1.00304144 0.50660382 1.22506297\n",
      "  0.7484357  0.28530176 1.13678774 0.6638632  1.01472378 0.19130527\n",
      "  0.62491161 0.77193901 0.59417274 0.80027992 0.84771502 0.51699553\n",
      "  0.68608854 0.82949067 0.32131078 0.91883044 0.50252687 1.18974966\n",
      "  0.78773268 0.77064086 0.1707227  1.01152359 1.27116835 0.23086535\n",
      "  1.03950319 0.59986043 0.91443526 0.99152043 0.90817575 0.40668763\n",
      "  0.47867734 0.82897248 0.36212271 0.57856378 0.65518649 0.\n",
      "  0.36251258 0.57418947 0.58626285 0.99499686 0.6917536  0.7904508\n",
      "  0.18611672 0.73195278 0.8309706  0.54365198 0.41903555 0.4784231\n",
      "  0.42399788 0.3882913  0.48683217 0.86257886 0.61753549 0.82983162\n",
      "  1.12179088 0.34204089 0.94161203 1.15012585 0.97361365 1.17368155\n",
      "  0.87455109 0.81632149 0.64089422 1.26827835 1.23454625 0.50493639\n",
      "  0.62195085 0.93310714 1.06274453 0.84065885 0.61106686 0.87899254\n",
      "  1.00331135 1.06037903 0.922924   0.30598494 0.94579145 0.77357159\n",
      "  0.68173944 0.74046557 0.75819725 0.47713287 0.90536187 0.85511832\n",
      "  0.42906983 0.38852297 1.03291621 1.09111427]\n",
      " [0.188392   0.32058294 0.56944035 0.56711222 0.68754639 0.23621716\n",
      "  0.81795805 0.69940296 0.34859157 0.73132299 0.18904985 0.87811333\n",
      "  0.43280001 0.10398014 0.7756035  0.54456025 0.74371563 0.26751928\n",
      "  0.38945003 0.47936755 0.3276657  0.49850953 0.57834318 0.29882865\n",
      "  0.39090672 0.51198315 0.06990557 0.59403332 0.23464511 0.84841274\n",
      "  0.45708556 0.53546883 0.19432411 0.69892494 0.9134212  0.21838566\n",
      "  0.73531474 0.27566109 0.63303391 0.67888219 0.63405514 0.16642995\n",
      "  0.32328642 0.51295181 0.23070441 0.46922601 0.35493255 0.36251258\n",
      "  0.         0.41231232 0.23827862 0.65273549 0.41757341 0.6174051\n",
      "  0.18194248 0.39948423 0.47809607 0.30223285 0.24576343 0.17379775\n",
      "  0.06810003 0.02620338 0.15778676 0.72784703 0.26028458 0.46768653\n",
      "  0.76058285 0.09374258 0.63177645 0.78918107 0.6167364  0.82902375\n",
      "  0.56177558 0.48773398 0.40660965 0.92101085 0.89205443 0.181563\n",
      "  0.33031089 0.72744692 0.7010846  0.48258963 0.26651071 0.67117375\n",
      "  0.64147763 0.74647518 0.56209577 0.20389123 0.5902347  0.49596808\n",
      "  0.47905646 0.41864798 0.45078594 0.27654764 0.56360274 0.67848145\n",
      "  0.21333227 0.21020305 0.68785748 0.7312854 ]\n",
      " [0.24486295 0.25469621 0.79105972 0.8711042  0.5854025  0.53349523\n",
      "  0.79834737 0.43878625 0.66908431 0.45545455 0.56005699 0.79387299\n",
      "  0.74719738 0.37004812 0.80341093 0.13551464 0.46572494 0.38288848\n",
      "  0.7783199  0.81535958 0.17099593 0.32683922 0.9252818  0.12127386\n",
      "  0.24719028 0.81010946 0.3673535  0.46517743 0.20110017 0.74286539\n",
      "  0.3852126  0.21414795 0.49032266 0.51736966 0.8896571  0.34982368\n",
      "  0.52803902 0.61315422 0.38566041 0.5000423  0.97124501 0.57746547\n",
      "  0.09981923 0.81330857 0.22258193 0.08520606 0.24624123 0.57418947\n",
      "  0.41231232 0.         0.35334551 0.87576138 0.21038586 0.22012731\n",
      "  0.4369788  0.35762949 0.69374505 0.13962441 0.65807479 0.26893437\n",
      "  0.379421   0.41553743 0.52728934 0.3174129  0.52331254 0.57384448\n",
      "  0.86818168 0.50360238 0.92578854 0.81178228 0.78426869 0.73929951\n",
      "  0.86011643 0.7701308  0.79429109 0.83445081 0.78718361 0.29166553\n",
      "  0.22065301 0.35891775 0.80968972 0.66902388 0.56973805 0.3050582\n",
      "  0.7562321  0.56295462 0.62090895 0.60110395 0.59524454 0.26652932\n",
      "  0.11421854 0.72615819 0.31057867 0.13577136 0.50290315 0.28496768\n",
      "  0.62424509 0.21575367 0.61785302 0.74788542]\n",
      " [0.1476036  0.42178257 0.44468217 0.51852515 0.4492952  0.19610746\n",
      "  0.58937053 0.48845374 0.32536531 0.52346697 0.26322263 0.64152095\n",
      "  0.39828222 0.30138403 0.55743833 0.48250272 0.53579852 0.44525713\n",
      "  0.46865642 0.47021434 0.1921175  0.28182379 0.58095718 0.24072062\n",
      "  0.1953071  0.4575246  0.26500581 0.35912841 0.16693808 0.61041551\n",
      "  0.22194571 0.37472425 0.42642588 0.46778455 0.68580057 0.38908413\n",
      "  0.50764734 0.28210449 0.42330447 0.44806376 0.62307262 0.3394942\n",
      "  0.31343396 0.46090041 0.31031001 0.43548794 0.16195787 0.58626285\n",
      "  0.23827862 0.35334551 0.         0.53093049 0.24033179 0.49751321\n",
      "  0.40015122 0.16496381 0.34596293 0.2141987  0.42139506 0.1291458\n",
      "  0.17022919 0.21777729 0.23904565 0.62314759 0.17553581 0.26347336\n",
      "  0.57180924 0.31238598 0.57246896 0.56991662 0.45530954 0.59164827\n",
      "  0.50717832 0.41688496 0.48216842 0.68458886 0.65427631 0.093823\n",
      "  0.15824053 0.56846886 0.51077823 0.32816619 0.22897833 0.51598031\n",
      "  0.45174935 0.51408476 0.3450356  0.4254502  0.35995429 0.30131321\n",
      "  0.36047047 0.37641061 0.23324413 0.25385602 0.32537627 0.54730711\n",
      "  0.37719079 0.26924496 0.45038169 0.50872744]\n",
      " [0.67313683 0.93726142 0.08665868 0.19291328 0.57217675 0.41656776\n",
      "  0.47984949 0.80058227 0.32678178 0.83604781 0.48854429 0.60959345\n",
      "  0.26385337 0.7546648  0.38691682 0.99495314 0.8449074  0.91884472\n",
      "  0.45843089 0.28695986 0.70538207 0.65488369 0.31650714 0.7702692\n",
      "  0.65412657 0.1960399  0.71653776 0.59944344 0.6978175  0.62938349\n",
      "  0.55064268 0.82248704 0.826393   0.68926904 0.53171571 0.86662415\n",
      "  0.73814175 0.39592596 0.7600154  0.67999276 0.29803525 0.59614269\n",
      "  0.84435849 0.19972659 0.82651688 0.9603231  0.6396171  0.99499686\n",
      "  0.65273549 0.87576138 0.53093049 0.         0.70555576 0.96912225\n",
      "  0.83052212 0.54407353 0.18544786 0.74068177 0.61929009 0.65070295\n",
      "  0.61278873 0.62725786 0.50883882 1.09554551 0.39754497 0.32034616\n",
      "  0.24575713 0.65297666 0.16939497 0.40007237 0.12896597 0.59613316\n",
      "  0.18029241 0.18683349 0.45294251 0.63522544 0.64911552 0.61623685\n",
      "  0.65796955 0.98129315 0.22959524 0.20702434 0.38723417 0.94324967\n",
      "  0.22003256 0.7075735  0.33642979 0.71212189 0.4110895  0.71802911\n",
      "  0.85252065 0.26359397 0.62913315 0.78472787 0.50943869 1.00075903\n",
      "  0.58896807 0.78784352 0.52430744 0.39420094]\n",
      " [0.23326286 0.41799132 0.62518705 0.73569421 0.37864426 0.43573723\n",
      "  0.58802084 0.28868024 0.56024024 0.31753792 0.49950086 0.58848227\n",
      "  0.62660336 0.42782276 0.59435592 0.29871716 0.32975654 0.51087264\n",
      "  0.70884166 0.70173395 0.09799582 0.12110065 0.81195646 0.18136538\n",
      "  0.05215186 0.67577752 0.40576227 0.25876675 0.19417281 0.54006785\n",
      "  0.17811664 0.13459329 0.56467338 0.32794151 0.67973188 0.46238693\n",
      "  0.35000533 0.521979   0.22367654 0.30876904 0.84929708 0.55850911\n",
      "  0.24841837 0.67987387 0.33591796 0.29014828 0.07878589 0.6917536\n",
      "  0.41757341 0.21038586 0.24033179 0.70555576 0.         0.26809245\n",
      "  0.52057887 0.16306211 0.53340608 0.14950004 0.64287677 0.24406448\n",
      "  0.35856491 0.40757807 0.47216651 0.39579756 0.41099768 0.38911484\n",
      "  0.66786637 0.50876261 0.78234207 0.60232815 0.6011261  0.53385379\n",
      "  0.72251131 0.6312272  0.72246814 0.62997368 0.58506655 0.23967\n",
      "  0.08921665 0.32837463 0.61121453 0.50034656 0.46714561 0.27565355\n",
      "  0.56101879 0.37624713 0.42067795 0.62135228 0.38778872 0.08225326\n",
      "  0.14855682 0.60386028 0.1002928  0.22160179 0.2926267  0.31110758\n",
      "  0.60110084 0.30410774 0.40841522 0.53865455]\n",
      " [0.43431887 0.46387131 0.89065855 1.00354861 0.54450434 0.69284058\n",
      "  0.77443715 0.31654647 0.82250218 0.31606451 0.74154774 0.73344239\n",
      "  0.89214459 0.58698282 0.80497216 0.14720805 0.32234247 0.59953423\n",
      "  0.95787774 0.96615657 0.31042861 0.32469706 1.07677334 0.31896686\n",
      "  0.32017683 0.94345807 0.58039068 0.4364552  0.38673419 0.67555597\n",
      "  0.42272389 0.14877948 0.71017135 0.43772    0.8543338  0.56928678\n",
      "  0.42735174 0.77796774 0.29199047 0.42648577 1.11585232 0.77774359\n",
      "  0.31986805 0.94748261 0.4426817  0.21986144 0.3435411  0.7904508\n",
      "  0.6174051  0.22012731 0.49751321 0.96912225 0.26809245 0.\n",
      "  0.65703535 0.42537049 0.80054214 0.31731663 0.86085833 0.45497406\n",
      "  0.57387965 0.61621289 0.7108692  0.12770655 0.67251408 0.64953655\n",
      "  0.90503057 0.71077942 1.05041907 0.80961482 0.85901669 0.68190087\n",
      "  0.99047678 0.89915732 0.97267474 0.76855961 0.71529442 0.46690246\n",
      "  0.33945806 0.15187094 0.85275895 0.7659191  0.7264337  0.11010382\n",
      "  0.80830987 0.47241557 0.66453567 0.8137998  0.61529061 0.2552429\n",
      "  0.1410261  0.86961549 0.34129424 0.34678417 0.50681545 0.0649426\n",
      "  0.82363616 0.43351252 0.59053794 0.74997833]\n",
      " [0.29546033 0.23796596 0.74855269 0.73012003 0.84064729 0.41554613\n",
      "  0.98895828 0.80911434 0.51609095 0.83674346 0.34954324 1.03957565\n",
      "  0.59776084 0.09972879 0.95180791 0.54891374 0.84876085 0.11704203\n",
      "  0.51067173 0.63353889 0.4226636  0.62318373 0.72238789 0.35614322\n",
      "  0.50924615 0.67867618 0.13520253 0.73694791 0.32717153 1.0051139\n",
      "  0.60410622 0.61341946 0.05506075 0.83302847 1.08518114 0.1009267\n",
      "  0.86345626 0.44245233 0.74424155 0.81291974 0.78122733 0.27291923\n",
      "  0.33717765 0.67896182 0.21441435 0.46380772 0.4766547  0.18611672\n",
      "  0.18194248 0.4369788  0.40015122 0.83052212 0.52057887 0.65703535\n",
      "  0.         0.54775823 0.65892126 0.37719444 0.3179056  0.29528775\n",
      "  0.23944035 0.20814452 0.32402793 0.74703288 0.44181318 0.64599346\n",
      "  0.94213717 0.18981333 0.79592583 0.96500621 0.79852706 0.98848496\n",
      "  0.7267153  0.65926534 0.52785965 1.08277292 1.04975342 0.32006708\n",
      "  0.44481295 0.78970224 0.88242466 0.66446672 0.44330292 0.73384474\n",
      "  0.82272211 0.88175015 0.73789461 0.21542504 0.75970979 0.60282616\n",
      "  0.53368726 0.58642223 0.57928584 0.31910775 0.72026639 0.72176687\n",
      "  0.30939261 0.22782312 0.84753328 0.90558328]\n",
      " [0.25905889 0.51392499 0.46533257 0.58795798 0.29290701 0.32866353\n",
      "  0.46467348 0.3350904  0.43456981 0.37165863 0.41613196 0.49524681\n",
      "  0.49010017 0.44811287 0.45387792 0.46014304 0.38365107 0.57215151\n",
      "  0.60422615 0.56736204 0.19447369 0.13370792 0.67519462 0.28431934\n",
      "  0.11391207 0.52971619 0.41548246 0.19472705 0.24647754 0.4578628\n",
      "  0.05760228 0.28049335 0.580432   0.30288913 0.5604983  0.51748131\n",
      "  0.34355484 0.41207326 0.27312662 0.28323504 0.70699873 0.50243805\n",
      "  0.36383391 0.53422772 0.41140735 0.44185622 0.11250699 0.73195278\n",
      "  0.39948423 0.35762949 0.16496381 0.54407353 0.16306211 0.42537049\n",
      "  0.54775823 0.         0.37672755 0.24770106 0.58279898 0.2537082\n",
      "  0.33165298 0.38074604 0.39638895 0.5523492  0.29440022 0.22615515\n",
      "  0.51062118 0.47710665 0.63002393 0.46382006 0.43806796 0.4427885\n",
      "  0.57384381 0.48357788 0.61559763 0.53843345 0.50277706 0.22785762\n",
      "  0.14398798 0.45614122 0.45247154 0.34068388 0.35281644 0.41066938\n",
      "  0.40027129 0.34913015 0.2632801  0.59038179 0.24413697 0.18061072\n",
      "  0.31155999 0.46704099 0.09223479 0.31637341 0.17521928 0.46051884\n",
      "  0.53801375 0.371628   0.30336953 0.39970038]\n",
      " [0.48769733 0.75302463 0.09886724 0.22374729 0.47838706 0.24399233\n",
      "  0.46579253 0.66855158 0.19617426 0.70553641 0.33244298 0.5777579\n",
      "  0.18064537 0.57756475 0.38718995 0.81602861 0.71575195 0.74093875\n",
      "  0.37600674 0.24773442 0.52442707 0.49902791 0.33507824 0.58600084\n",
      "  0.48132067 0.17478378 0.53879965 0.47197993 0.51270183 0.57971918\n",
      "  0.39433263 0.65716325 0.66049971 0.576096   0.54362011 0.68751901\n",
      "  0.62590103 0.24801061 0.61934523 0.56293525 0.35059001 0.44776044\n",
      "  0.65935211 0.18018617 0.64192389 0.77779842 0.46316278 0.8309706\n",
      "  0.47809607 0.69374505 0.34596293 0.18544786 0.53340608 0.80054214\n",
      "  0.65892126 0.37672755 0.         0.55723343 0.4887353  0.46533051\n",
      "  0.43283793 0.45209013 0.34608023 0.9280291  0.21832249 0.17245205\n",
      "  0.30778001 0.49108746 0.2557951  0.40234607 0.14590611 0.54868263\n",
      "  0.20798743 0.1290154  0.37750379 0.61259975 0.61041627 0.43080282\n",
      "  0.47858787 0.82812999 0.25712953 0.04764526 0.22097105 0.78555374\n",
      "  0.2068279  0.60445287 0.23648604 0.56602452 0.31198512 0.55619107\n",
      "  0.67762591 0.16430589 0.46661822 0.59957898 0.38542164 0.8372462\n",
      "  0.45129145 0.60293219 0.44111687 0.36773318]\n",
      " [0.11701438 0.27411244 0.65524947 0.7314951  0.51525219 0.39510364\n",
      "  0.70921304 0.43425666 0.53029504 0.46043566 0.42887802 0.72493868\n",
      "  0.60779604 0.28980473 0.70157658 0.27211761 0.47231931 0.3614011\n",
      "  0.64699444 0.67655461 0.05723197 0.26588753 0.7867281  0.03680313\n",
      "  0.15709223 0.67050423 0.27419028 0.39819735 0.0694586  0.67993216\n",
      "  0.28895271 0.2391181  0.42438926 0.47628596 0.80397054 0.31350421\n",
      "  0.49948819 0.47620023 0.37081402 0.4568228  0.8320489  0.4605028\n",
      "  0.11620022 0.67369187 0.1864627  0.22134175 0.13824728 0.54365198\n",
      "  0.30223285 0.13962441 0.2141987  0.74068177 0.14950004 0.31731663\n",
      "  0.37719444 0.24770106 0.55723343 0.         0.54385117 0.13831628\n",
      "  0.25657943 0.29938763 0.3970623  0.43397256 0.38382326 0.44759285\n",
      "  0.75002528 0.39597194 0.78641133 0.7114904  0.65455179 0.67067418\n",
      "  0.72055507 0.63069389 0.66248726 0.76734523 0.72526109 0.15527186\n",
      "  0.10408372 0.42651697 0.69015163 0.53481611 0.43108676 0.37006892\n",
      "  0.63432968 0.52485668 0.50572142 0.50296205 0.491832   0.23035045\n",
      "  0.17732399 0.58665968 0.23186099 0.07381232 0.41353068 0.37696144\n",
      "  0.50632512 0.15521524 0.53798849 0.64734803]\n",
      " [0.42722759 0.53613628 0.55255648 0.47109829 0.84316854 0.28415927\n",
      "  0.9210405  0.90938778 0.29719766 0.94392125 0.17768848 1.0076617\n",
      "  0.35677901 0.31228386 0.8577827  0.79003025 0.95630141 0.43473236\n",
      "  0.2059332  0.36277621 0.56163662 0.70294275 0.42963487 0.54353111\n",
      "  0.60729008 0.43377741 0.29863159 0.77145952 0.47474051 0.99012525\n",
      "  0.63726787 0.76921097 0.28112406 0.8837157  1.00998935 0.40648504\n",
      "  0.92606789 0.24192049 0.84381085 0.86453126 0.49024071 0.08444956\n",
      "  0.56804181 0.4320364  0.46616933 0.71339302 0.57121511 0.41903555\n",
      "  0.24576343 0.65807479 0.42139506 0.61929009 0.64287677 0.86085833\n",
      "  0.3179056  0.58279898 0.4887353  0.54385117 0.         0.4082805\n",
      "  0.28848565 0.24466008 0.18849544 0.97320426 0.32584974 0.56013368\n",
      "  0.79650942 0.15693215 0.53571621 0.87270877 0.63334262 0.96519229\n",
      "  0.47291563 0.43258388 0.22185963 1.04838305 1.0300894  0.40428109\n",
      "  0.5536608  0.9639251  0.74446336 0.51556944 0.28492696 0.90823359\n",
      "  0.69028975 0.92801972 0.65973638 0.11345423 0.71105326 0.71521146\n",
      "  0.72115745 0.35572363 0.6542485  0.52230737 0.71910739 0.92077359\n",
      "  0.04519587 0.45232704 0.82963547 0.82500507]\n",
      " [0.02481715 0.29301072 0.56404663 0.61586194 0.54638063 0.269793\n",
      "  0.70775252 0.52854398 0.40561999 0.55952261 0.29176831 0.74827614\n",
      "  0.48681887 0.19629852 0.68192202 0.40436701 0.57187152 0.32240655\n",
      "  0.51013924 0.55123611 0.15456327 0.332385   0.6600371  0.14766805\n",
      "  0.22083113 0.55547674 0.16727424 0.44168649 0.06929178 0.71156484\n",
      "  0.30931453 0.36278988 0.33181837 0.53953184 0.80435721 0.26669029\n",
      "  0.57224445 0.34581445 0.46232255 0.51938639 0.70839582 0.32426585\n",
      "  0.20366237 0.55808057 0.18132408 0.34197245 0.18588237 0.4784231\n",
      "  0.17379775 0.26893437 0.1291458  0.65070295 0.24406448 0.45497406\n",
      "  0.29528775 0.2537082  0.46533051 0.13831628 0.4082805  0.\n",
      "  0.11980591 0.16596269 0.25946872 0.57226069 0.26696619 0.39251355\n",
      "  0.70093999 0.26613969 0.67455485 0.69389139 0.58216334 0.69623165\n",
      "  0.60639196 0.51943628 0.52590431 0.79150014 0.75648334 0.03557301\n",
      "  0.15812663 0.5563249  0.63991041 0.45239281 0.30657176 0.5003761\n",
      "  0.58089427 0.58803351 0.47145919 0.37768838 0.47924279 0.323472\n",
      "  0.31425582 0.46703196 0.28652206 0.14400958 0.42805486 0.51342883\n",
      "  0.3694802  0.14046392 0.55609126 0.63159284]\n",
      " [0.13956533 0.33352764 0.52764063 0.54522356 0.61946196 0.20013394\n",
      "  0.75262941 0.63624399 0.32688846 0.66889082 0.18588217 0.81067727\n",
      "  0.41144692 0.14724664 0.71279527 0.5144114  0.68130627 0.3085149\n",
      "  0.40153506 0.46665581 0.27352489 0.43352744 0.57121164 0.26023223\n",
      "  0.32832236 0.48733378 0.10803296 0.52630256 0.18714546 0.78051425\n",
      "  0.38924253 0.48157547 0.2589383  0.63187668 0.84841896 0.25468978\n",
      "  0.66893592 0.25797958 0.56989801 0.61187499 0.62388863 0.20447385\n",
      "  0.29972123 0.48898221 0.23006644 0.44492342 0.29207385 0.42399788\n",
      "  0.06810003 0.379421   0.17022919 0.61278873 0.35856491 0.57387965\n",
      "  0.23944035 0.33165298 0.43283793 0.25657943 0.28848565 0.11980591\n",
      "  0.         0.05026467 0.15227922 0.68929395 0.2153454  0.40655803\n",
      "  0.7048645  0.15120171 0.60802637 0.72612979 0.56661751 0.76134102\n",
      "  0.53813617 0.45808814 0.41801326 0.85363193 0.82424021 0.11915479\n",
      "  0.26992058 0.67575408 0.6447074  0.43227123 0.23470618 0.61992615\n",
      "  0.58489051 0.67923451 0.49892622 0.26513455 0.5242309  0.43485536\n",
      "  0.43350605 0.39465081 0.38541027 0.24579172 0.49559371 0.63292941\n",
      "  0.24988064 0.19949075 0.62012735 0.66733082]\n",
      " [0.18326912 0.33912555 0.54374119 0.54447758 0.6668674  0.21069016\n",
      "  0.7938426  0.68638385 0.32560499 0.71891648 0.16934446 0.8556841\n",
      "  0.4100806  0.12812649 0.75053449 0.54919913 0.73132915 0.29224651\n",
      "  0.37579929 0.45866389 0.32051445 0.48379189 0.55922191 0.29919149\n",
      "  0.37830022 0.48873742 0.09185285 0.57547136 0.23055531 0.82685883\n",
      "  0.43827768 0.52874762 0.21951344 0.68165642 0.88912423 0.24208317\n",
      "  0.71899769 0.25320982 0.62002798 0.66168153 0.61420651 0.16224408\n",
      "  0.32988805 0.48983797 0.2446166  0.47604013 0.34208868 0.3882913\n",
      "  0.02620338 0.41553743 0.21777729 0.62725786 0.40757807 0.61621289\n",
      "  0.20814452 0.38074604 0.45209013 0.29938763 0.24466008 0.16596269\n",
      "  0.05026467 0.         0.13698229 0.72907655 0.23416777 0.44232238\n",
      "  0.73447411 0.10132168 0.6088285  0.76417942 0.59055043 0.80699644\n",
      "  0.53878306 0.46357036 0.3927778  0.89849559 0.87028088 0.16881726\n",
      "  0.31928606 0.7221025  0.67502313 0.45639215 0.24158623 0.66604652\n",
      "  0.61543957 0.72887994 0.53720344 0.21499332 0.56658759 0.48453858\n",
      "  0.47670804 0.39538288 0.43566417 0.28006764 0.54251192 0.67634647\n",
      "  0.20884268 0.22054497 0.66595969 0.7065957 ]\n",
      " [0.28279648 0.47599855 0.42930079 0.41011297 0.65525226 0.10792075\n",
      "  0.74417168 0.72689602 0.1928273  0.76220953 0.03361367 0.82429414\n",
      "  0.27612905 0.26100536 0.68753317 0.66277993 0.7745101  0.42225613\n",
      "  0.25103885 0.32178475 0.40179969 0.52030566 0.42255666 0.40642384\n",
      "  0.43161585 0.35621829 0.22756572 0.58328392 0.32869912 0.80436446\n",
      "  0.4498991  0.60371442 0.3175815  0.69588456 0.83581024 0.37533353\n",
      "  0.73883826 0.11918336 0.66208592 0.67683625 0.4772455  0.11614127\n",
      "  0.45142423 0.35687901 0.37873969 0.59588326 0.39647707 0.48683217\n",
      "  0.15778676 0.52728934 0.23904565 0.50883882 0.47216651 0.7108692\n",
      "  0.32402793 0.39638895 0.34608023 0.3970623  0.18849544 0.25946872\n",
      "  0.15227922 0.13698229 0.         0.83066864 0.14673395 0.38207654\n",
      "  0.64611842 0.14526462 0.47520286 0.70209629 0.49085398 0.78031401\n",
      "  0.40536768 0.33525253 0.26711216 0.86566848 0.84510372 0.24397188\n",
      "  0.38416386 0.79926792 0.58964475 0.361178   0.12511241 0.74493827\n",
      "  0.53201736 0.73984066 0.4818637  0.22881005 0.52772299 0.53901834\n",
      "  0.56988031 0.26324742 0.47192686 0.39606603 0.53090224 0.76678224\n",
      "  0.14330102 0.35078725 0.64324975 0.65035058]\n",
      " [0.55028691 0.53327697 1.01767353 1.13115593 0.64844225 0.8176559\n",
      "  0.87863009 0.39897255 0.94846708 0.38784167 0.8620582  0.82496474\n",
      "  1.01902938 0.6866228  0.91626499 0.19954    0.39062209 0.67537616\n",
      "  1.07951096 1.09265052 0.43370703 0.44651885 1.20333852 0.42989834\n",
      "  0.4478829  1.07100851 0.6847621  0.54793915 0.50311867 0.76559222\n",
      "  0.54718532 0.27324607 0.80154383 0.53166281 0.95334502 0.65306433\n",
      "  0.51218267 0.90222759 0.39102244 0.52356274 1.24299545 0.89130311\n",
      "  0.41454345 1.07500856 0.53442932 0.28548242 0.47094568 0.86257886\n",
      "  0.72784703 0.3174129  0.62314759 1.09554551 0.39579756 0.12770655\n",
      "  0.74703288 0.5523492  0.9280291  0.43397256 0.97320426 0.57226069\n",
      "  0.68929395 0.72907655 0.83066864 0.         0.79851451 0.77554131\n",
      "  1.02364654 0.8200805  1.17812493 0.919829   0.98392863 0.7758869\n",
      "  1.11812519 1.02679565 1.09463836 0.85698307 0.80229543 0.58716917\n",
      "  0.46560424 0.18290485 0.97295762 0.89302311 0.85173527 0.18002505\n",
      "  0.93037314 0.55960093 0.78646953 0.91850632 0.73362686 0.37897313\n",
      "  0.26327626 0.9965765  0.46672775 0.45207376 0.62394459 0.10365685\n",
      "  0.93774919 0.53244956 0.6974697  0.86215014]\n",
      " [0.29133005 0.54241111 0.31229757 0.34950816 0.52245706 0.0417545\n",
      "  0.59807404 0.62892115 0.14998923 0.66573104 0.14839399 0.68181331\n",
      "  0.2240394  0.35925135 0.54084119 0.65522641 0.67762273 0.52278718\n",
      "  0.30995684 0.29475392 0.36728599 0.42728189 0.40548077 0.40543018\n",
      "  0.36226057 0.28884607 0.32053566 0.46408804 0.32613251 0.66501254\n",
      "  0.33998896 0.54539294 0.44684193 0.57805683 0.68925395 0.46972665\n",
      "  0.62404509 0.1178163  0.56752375 0.56012206 0.44862002 0.26179508\n",
      "  0.46992676 0.29162863 0.43327533 0.60266632 0.33231859 0.61753549\n",
      "  0.26028458 0.52331254 0.17553581 0.39754497 0.41099768 0.67251408\n",
      "  0.44181318 0.29440022 0.21832249 0.38382326 0.32584974 0.26696619\n",
      "  0.2153454  0.23416777 0.14673395 0.79851451 0.         0.23593165\n",
      "  0.50536789 0.28402002 0.40759213 0.55538345 0.35683818 0.63960218\n",
      "  0.33962997 0.25258738 0.32119742 0.72259753 0.70451236 0.23623213\n",
      "  0.33306473 0.73610583 0.44738528 0.22320378 0.05843714 0.6854261\n",
      "  0.38876928 0.61886788 0.33582094 0.37547828 0.38521885 0.46220013\n",
      "  0.53599749 0.20284588 0.38198013 0.40972913 0.40088761 0.72090789\n",
      "  0.28171535 0.39645056 0.50537058 0.50377684]\n",
      " [0.4097174  0.68422471 0.24650973 0.39612077 0.31596592 0.27692819\n",
      "  0.36216259 0.49643086 0.31154051 0.53331979 0.38373517 0.45000715\n",
      "  0.33263155 0.55175649 0.3090408  0.68434549 0.54344293 0.70488088\n",
      "  0.5022497  0.40759077 0.40353246 0.33520758 0.50362048 0.48134016\n",
      "  0.33891435 0.34505131 0.51305239 0.29959651 0.42022661 0.43921106\n",
      "  0.23054379 0.5023496  0.66183573 0.40516692 0.45396596 0.64884804\n",
      "  0.45485839 0.32927396 0.44868502 0.39137175 0.52256254 0.49765717\n",
      "  0.56024599 0.35030256 0.57323921 0.65903208 0.32946872 0.82983162\n",
      "  0.46768653 0.57384448 0.26347336 0.32034616 0.38911484 0.64953655\n",
      "  0.64599346 0.22615515 0.17245205 0.44759285 0.56013368 0.39251355\n",
      "  0.40655803 0.44232238 0.38207654 0.77554131 0.23593165 0.\n",
      "  0.30859323 0.512202   0.42614984 0.32306519 0.21225565 0.41136909\n",
      "  0.3804195  0.29811027 0.5082164  0.48967216 0.47592902 0.35729209\n",
      "  0.35321583 0.66327122 0.24760291 0.12747786 0.27669893 0.62365246\n",
      "  0.1891813  0.43583318 0.09989128 0.61004094 0.15766426 0.39768354\n",
      "  0.5374378  0.31155296 0.30889518 0.50430745 0.2139736  0.6804132\n",
      "  0.51667475 0.53200346 0.28635469 0.26867009]\n",
      " [0.71831059 0.99280882 0.26305587 0.43360472 0.41040988 0.53929115\n",
      "  0.25175637 0.67053916 0.50239886 0.70140813 0.63642919 0.3847059\n",
      "  0.46762928 0.85197627 0.1592784  0.96624578 0.70765873 1.00936246\n",
      "  0.67050238 0.51298621 0.70169207 0.58086497 0.55972473 0.78503947\n",
      "  0.62303817 0.42093925 0.81281371 0.48084796 0.72769236 0.41657546\n",
      "  0.49082757 0.75709709 0.95138361 0.54004221 0.28866012 0.9536742\n",
      "  0.58370807 0.55538444 0.64725384 0.53699961 0.54379162 0.75303155\n",
      "  0.86474269 0.42577579 0.88181572 0.95247194 0.62219214 1.12179088\n",
      "  0.76058285 0.86818168 0.57180924 0.24575713 0.66786637 0.90503057\n",
      "  0.94213717 0.51062118 0.30778001 0.75002528 0.79650942 0.70093999\n",
      "  0.7048645  0.73447411 0.64611842 1.02364654 0.50536789 0.30859323\n",
      "  0.         0.78861897 0.41508459 0.1690553  0.16537982 0.38380537\n",
      "  0.41925751 0.39364984 0.66873083 0.4035634  0.42690922 0.66561386\n",
      "  0.65054562 0.87958804 0.061032   0.28506277 0.52276691 0.85297883\n",
      "  0.12053894 0.54369956 0.24756206 0.8710605  0.2900456  0.6515215\n",
      "  0.81412913 0.45809996 0.57286871 0.81043787 0.399802   0.92174467\n",
      "  0.7587221  0.84059074 0.35650764 0.18969383]\n",
      " [0.28179862 0.38470087 0.57431706 0.54176351 0.75828617 0.2494844\n",
      "  0.87119106 0.78739781 0.33123186 0.82009253 0.16491923 0.94107071\n",
      "  0.41073939 0.15827412 0.8209092  0.63432513 0.83250797 0.29981184\n",
      "  0.3263141  0.4438472  0.42055337 0.58411876 0.5331657  0.39195105\n",
      "  0.47951459 0.49194328 0.1417439  0.67151102 0.32830308 0.91538872\n",
      "  0.53429721 0.62862544 0.17437863 0.77940726 0.96499433 0.26217332\n",
      "  0.81781111 0.2584959  0.72106288 0.75954264 0.5917066  0.088056\n",
      "  0.41187962 0.49191313 0.30952202 0.55682557 0.44327328 0.34204089\n",
      "  0.09374258 0.50360238 0.31238598 0.65297666 0.50876261 0.71077942\n",
      "  0.18981333 0.47710665 0.49108746 0.39597194 0.15693215 0.26613969\n",
      "  0.15120171 0.10132168 0.14526462 0.8200805  0.28402002 0.512202\n",
      "  0.78861897 0.         0.60773754 0.83510461 0.63537832 0.89398565\n",
      "  0.53901964 0.47570004 0.34367192 0.98344775 0.95800382 0.27012445\n",
      "  0.42058805 0.82103408 0.73117126 0.50439721 0.27023417 0.76479533\n",
      "  0.67274589 0.82613922 0.61046828 0.11418798 0.64763331 0.58585809\n",
      "  0.57272017 0.40091942 0.53578777 0.36811074 0.63324055 0.77207059\n",
      "  0.13183506 0.29554838 0.75379102 0.78037356]\n",
      " [0.69891304 0.94153954 0.19076417 0.06606201 0.71527663 0.40987407\n",
      "  0.64582639 0.92230886 0.28323461 0.95903557 0.44701842 0.77352311\n",
      "  0.19908548 0.73565202 0.55388387 1.05404858 0.96894049 0.89743998\n",
      "  0.34496913 0.17307869 0.76160746 0.75455344 0.15628919 0.81074938\n",
      "  0.73024224 0.12069639 0.70066625 0.72360506 0.73251148 0.78924169\n",
      "  0.65001116 0.90954704 0.78075929 0.82322309 0.70077448 0.85009925\n",
      "  0.87295008 0.35624513 0.8745721  0.8115292  0.12895507 0.53500185\n",
      "  0.8773342  0.11914517 0.83581822 1.00729548 0.70867745 0.94161203\n",
      "  0.63177645 0.92578854 0.57246896 0.16939497 0.78234207 1.05041907\n",
      "  0.79592583 0.63002393 0.2557951  0.78641133 0.53571621 0.67455485\n",
      "  0.60802637 0.6088285  0.47520286 1.17812493 0.40759213 0.42614984\n",
      "  0.41508459 0.60773754 0.         0.56745641 0.28379854 0.75628047\n",
      "  0.07005766 0.1558023  0.33464184 0.80103892 0.81186432 0.64351046\n",
      "  0.71964955 1.08352858 0.39680797 0.29869117 0.37394434 1.04018777\n",
      "  0.37867011 0.8472786  0.47148618 0.6414843  0.548909   0.81034809\n",
      "  0.92264868 0.21369264 0.72097681 0.81705952 0.63510511 1.08980284\n",
      "  0.51531618 0.80099883 0.67144811 0.55656813]\n",
      " [0.70655003 0.97447892 0.3930047  0.57504753 0.27625579 0.59490874\n",
      "  0.0827258  0.5416745  0.59473772 0.56843668 0.70021192 0.21568469\n",
      "  0.58033948 0.86852646 0.01517249 0.89187033 0.57286309 1.01487423\n",
      "  0.77835124 0.63836325 0.65738224 0.49657943 0.70161436 0.74813661\n",
      "  0.56576024 0.55044336 0.83056364 0.37319585 0.70476297 0.24929994\n",
      "  0.42711851 0.66696892 0.9835049  0.40500174 0.14133511 0.95874192\n",
      "  0.44300382 0.6329398  0.53092907 0.40646357 0.69382698 0.81629405\n",
      "  0.82754507 0.55574294 0.8678094  0.89246228 0.57464685 1.15012585\n",
      "  0.78918107 0.81178228 0.56991662 0.40007237 0.60232815 0.80961482\n",
      "  0.96500621 0.46382006 0.40234607 0.7114904  0.87270877 0.69389139\n",
      "  0.72612979 0.76417942 0.70209629 0.919829   0.55538345 0.32306519\n",
      "  0.1690553  0.83510461 0.56745641 0.         0.28939869 0.21717965\n",
      "  0.55948896 0.51464091 0.77967872 0.23638236 0.25786136 0.66068675\n",
      "  0.60756892 0.76118621 0.1706848  0.36412236 0.58821008 0.74255066\n",
      "  0.19958622 0.39876694 0.22720966 0.93085967 0.2197069  0.56695794\n",
      "  0.73940645 0.56592168 0.50221778 0.77963302 0.31097806 0.81625274\n",
      "  0.83097145 0.82680303 0.22391505 0.06418891]\n",
      " [0.60242684 0.87462242 0.10390518 0.28583549 0.44321381 0.38659813\n",
      "  0.36451272 0.67487627 0.33777406 0.70988089 0.47817862 0.49021682\n",
      "  0.30309196 0.71331811 0.27502335 0.8965351  0.71844337 0.87488419\n",
      "  0.50578052 0.35293028 0.61339551 0.53901855 0.41225802 0.68684516\n",
      "  0.55114193 0.26270716 0.67418371 0.47395058 0.62017058 0.50560799\n",
      "  0.43674705 0.71085423 0.80291214 0.56105092 0.42806338 0.82029718\n",
      "  0.60972081 0.39359961 0.63681376 0.55223354 0.4068677  0.59366463\n",
      "  0.76422888 0.26787274 0.76277572 0.86946064 0.54126658 0.97361365\n",
      "  0.6167364  0.78426869 0.45530954 0.12896597 0.6011261  0.85901669\n",
      "  0.79852706 0.43806796 0.14590611 0.65455179 0.63334262 0.58216334\n",
      "  0.56661751 0.59055043 0.49085398 0.98392863 0.35683818 0.21225565\n",
      "  0.16537982 0.63537832 0.28379854 0.28939869 0.         0.47258132\n",
      "  0.2701734  0.23090693 0.50452025 0.51898634 0.52817007 0.54667164\n",
      "  0.56375217 0.86161505 0.12375847 0.13439711 0.36594935 0.82598937\n",
      "  0.09487745 0.57868967 0.2099272  0.71192857 0.28303024 0.60497896\n",
      "  0.74956281 0.29288647 0.5177253  0.70632612 0.38414168 0.88668504\n",
      "  0.59666596 0.72240658 0.3954779  0.27303748]\n",
      " [0.70173413 0.94472133 0.56954488 0.75213411 0.15559567 0.68135654\n",
      "  0.13874225 0.37808    0.72059632 0.39600067 0.78750426 0.0546396\n",
      "  0.72805654 0.88878067 0.22496163 0.7902022  0.39712464 1.01423728\n",
      "  0.91127583 0.79621674 0.61344448 0.41341702 0.87531014 0.70667135\n",
      "  0.5136684  0.71657157 0.85446749 0.27509548 0.68546924 0.03332526\n",
      "  0.389169   0.5557312  1.01777062 0.24485592 0.18182285 0.95995598\n",
      "  0.26645086 0.74028893 0.38992139 0.25543202 0.87709148 0.89615654\n",
      "  0.78035749 0.72206763 0.84901327 0.81065732 0.53529405 1.17368155\n",
      "  0.82902375 0.73929951 0.59164827 0.59613316 0.53385379 0.68190087\n",
      "  0.98848496 0.4427885  0.54868263 0.67067418 0.96519229 0.69623165\n",
      "  0.76134102 0.80699644 0.78031401 0.7758869  0.63960218 0.41136909\n",
      "  0.38380537 0.89398565 0.75628047 0.21717965 0.47258132 0.\n",
      "  0.73591909 0.6745536  0.91605603 0.09668264 0.06491082 0.66874549\n",
      "  0.57066735 0.60199011 0.37150315 0.5027915  0.68603492 0.59601233\n",
      "  0.3778313  0.21841277 0.31783656 1.00130367 0.25500549 0.47380603\n",
      "  0.64564688 0.70961279 0.43942337 0.74412748 0.26832902 0.67367495\n",
      "  0.9206731  0.81070021 0.14126904 0.20247112]\n",
      " [0.63086208 0.8716628  0.16753841 0.01631607 0.68166084 0.34043712\n",
      "  0.6342809  0.87610474 0.21320387 0.91317386 0.37749359 0.75773127\n",
      "  0.12925843 0.66567208 0.54517637 0.98951331 0.92348604 0.8276238\n",
      "  0.29033811 0.11470983 0.69759028 0.701318   0.14214272 0.74406335\n",
      "  0.67059528 0.05107144 0.63062435 0.67996711 0.66535456 0.76832211\n",
      "  0.59768201 0.85162877 0.71248531 0.7834534  0.69719442 0.78011928\n",
      "  0.83327906 0.28632316 0.82573657 0.77061139 0.14386751 0.46788557\n",
      "  0.80955467 0.04915472 0.76622532 0.94097185 0.64755358 0.87455109\n",
      "  0.56177558 0.86011643 0.50717832 0.18029241 0.72251131 0.99047678\n",
      "  0.7267153  0.57384381 0.20798743 0.72055507 0.47291563 0.60639196\n",
      "  0.53813617 0.53878306 0.40536768 1.11812519 0.33962997 0.3804195\n",
      "  0.41925751 0.53901964 0.07005766 0.55948896 0.2701734  0.73591909\n",
      "  0.         0.09135962 0.28213475 0.78806902 0.7942098  0.57583676\n",
      "  0.65690197 1.02933404 0.39122956 0.25425766 0.30432507 0.98450909\n",
      "  0.36309997 0.81050387 0.43726772 0.57642587 0.51447185 0.75445228\n",
      "  0.86063365 0.14365833 0.66560647 0.74935687 0.59316804 1.0317072\n",
      "  0.45021698 0.73166587 0.64093187 0.54084427]\n",
      " [0.54367841 0.79080193 0.13104113 0.10459827 0.60736793 0.25817441\n",
      "  0.58392521 0.79078193 0.1446272  0.82801194 0.31097697 0.701132\n",
      "  0.07768404 0.59156687 0.49973594 0.89888422 0.8385809  0.75515605\n",
      "  0.2785073  0.12382953 0.60671042 0.61216885 0.20622736 0.6549495\n",
      "  0.5793433  0.04722282 0.5551355  0.59705183 0.57678769 0.70608886\n",
      "  0.50919495 0.76065125 0.65006887 0.70320147 0.65535883 0.70564675\n",
      "  0.75292838 0.21736178 0.73881953 0.68947765 0.22604965 0.41297136\n",
      "  0.7218458  0.05232049 0.68355012 0.85151015 0.5561943  0.81632149\n",
      "  0.48773398 0.7701308  0.41688496 0.18683349 0.6312272  0.89915732\n",
      "  0.65926534 0.48357788 0.1290154  0.63069389 0.43258388 0.51943628\n",
      "  0.45808814 0.46357036 0.33525253 1.02679565 0.25258738 0.29811027\n",
      "  0.39364984 0.47570004 0.1558023  0.51464091 0.23090693 0.6745536\n",
      "  0.09135962 0.         0.27560821 0.73433245 0.73526134 0.48802851\n",
      "  0.56567379 0.93948329 0.35441266 0.17665697 0.22351006 0.89412922\n",
      "  0.31505794 0.73266367 0.36523417 0.52739215 0.44098902 0.66411925\n",
      "  0.76932431 0.07731891 0.5755505  0.66154022 0.51206793 0.94065144\n",
      "  0.40315284 0.64783253 0.56995686 0.48722043]\n",
      " [0.54957076 0.72448119 0.40664167 0.27557991 0.82148866 0.2890107\n",
      "  0.84261608 0.94989647 0.19676254 0.98679135 0.23423762 0.94978669\n",
      "  0.20147894 0.49858847 0.76453979 0.92980077 0.99863776 0.64200629\n",
      "  0.01736852 0.16782258 0.66225601 0.74832123 0.2099901  0.67327628\n",
      "  0.67675905 0.25690629 0.47359726 0.77890519 0.59489733 0.94533888\n",
      "  0.66015682 0.856684   0.4977572  0.8923676  0.92100231 0.60583264\n",
      "  0.93980729 0.20370112 0.88871992 0.87533251 0.27049407 0.25624234\n",
      "  0.71773445 0.25326184 0.6369386  0.86271734 0.64410009 0.64089422\n",
      "  0.40660965 0.79429109 0.48216842 0.45294251 0.72246814 0.97267474\n",
      "  0.52785965 0.61559763 0.37750379 0.66248726 0.22185963 0.52590431\n",
      "  0.41801326 0.3927778  0.26711216 1.09463836 0.32119742 0.5082164\n",
      "  0.66873083 0.34367192 0.33464184 0.77967872 0.50452025 0.91605603\n",
      "  0.28213475 0.27560821 0.         0.98648447 0.97964238 0.50775146\n",
      "  0.63804404 1.05061247 0.62673764 0.41860125 0.26279025 0.99807252\n",
      "  0.58214452 0.93035457 0.59821952 0.33513817 0.6655403  0.78029439\n",
      "  0.83223407 0.21390901 0.70253277 0.66304423 0.70728288 1.02621833\n",
      "  0.21888873 0.61300569 0.79454847 0.74432929]\n",
      " [0.79748632 1.04140038 0.62053173 0.80400134 0.25217811 0.76423917\n",
      "  0.15538071 0.45805767 0.79333009 0.47137546 0.87097282 0.04322904\n",
      "  0.79323568 0.98313956 0.24871168 0.88152843 0.47072881 1.11029012\n",
      "  0.98287002 0.85767701 0.71011454 0.50928514 0.92950696 0.80332139\n",
      "  0.61032472 0.7738252  0.94838033 0.37123942 0.7818561  0.09334196\n",
      "  0.48537386 0.64706254 1.11100708 0.33118225 0.13882289 1.05584883\n",
      "  0.34481071 0.81854031 0.47722158 0.3440715  0.92578509 0.98178579\n",
      "  0.87683182 0.77926229 0.94556177 0.90465886 0.63193936 1.26827835\n",
      "  0.92101085 0.83445081 0.68458886 0.63522544 0.62997368 0.76855961\n",
      "  1.08277292 0.53843345 0.61259975 0.76734523 1.04838305 0.79150014\n",
      "  0.85363193 0.89849559 0.86566848 0.85698307 0.72259753 0.48967216\n",
      "  0.4035634  0.98344775 0.80103892 0.23638236 0.51898634 0.09668264\n",
      "  0.78806902 0.73433245 0.98648447 0.         0.05539034 0.76346645\n",
      "  0.66731261 0.67925084 0.40570203 0.5687328  0.76628949 0.67810476\n",
      "  0.42501573 0.29765551 0.39196022 1.08916662 0.33794582 0.56838624\n",
      "  0.73895025 0.77617657 0.53601652 0.84080844 0.3634601  0.75616876\n",
      "  1.00430603 0.90714456 0.23544775 0.24760377]\n",
      " [0.76114697 0.99931401 0.62713835 0.81034648 0.21128049 0.74626676\n",
      "  0.17524249 0.40351222 0.78452804 0.4162325  0.85240098 0.04316223\n",
      "  0.79033434 0.95002463 0.26814128 0.8303998  0.415461   1.07275078\n",
      "  0.97508315 0.85754218 0.66808351 0.46399881 0.93444949 0.76083443\n",
      "  0.56821448 0.77654569 0.91615971 0.32729567 0.74316312 0.04537641\n",
      "  0.44801304 0.59619628 1.07993856 0.27878908 0.18450335 1.01888368\n",
      "  0.29026432 0.80498803 0.42462176 0.2926126  0.93430629 0.96090375\n",
      "  0.83294138 0.78202945 0.90575829 0.85578349 0.59158489 1.23454625\n",
      "  0.89205443 0.78718361 0.65427631 0.64911552 0.58506655 0.71529442\n",
      "  1.04975342 0.50277706 0.61041627 0.72526109 1.0300894  0.75648334\n",
      "  0.82424021 0.87028088 0.84510372 0.80229543 0.70451236 0.47592902\n",
      "  0.42690922 0.95800382 0.81186432 0.25786136 0.52817007 0.06491082\n",
      "  0.7942098  0.73526134 0.97964238 0.05539034 0.         0.7297465\n",
      "  0.6268994  0.62414759 0.42141768 0.56499795 0.7508749  0.62369739\n",
      "  0.43331752 0.24347239 0.38157319 1.06569447 0.3198529  0.52068887\n",
      "  0.68952258 0.77222291 0.49341196 0.79897725 0.32965008 0.70178868\n",
      "  0.98555754 0.86803026 0.20437541 0.25536104]\n",
      " [0.05691651 0.32858223 0.52959993 0.58571585 0.52064652 0.2423956\n",
      "  0.67629802 0.51799818 0.37831524 0.55024122 0.2749411  0.72024146\n",
      "  0.45817498 0.2203573  0.64854531 0.42626871 0.56264843 0.35446796\n",
      "  0.49245505 0.52444665 0.15892539 0.31724962 0.63399327 0.17122013\n",
      "  0.20962409 0.52507799 0.18784337 0.41933888 0.09100607 0.68506275\n",
      "  0.28462695 0.36512787 0.35303172 0.52054306 0.77290602 0.29845861\n",
      "  0.55531432 0.32156015 0.45162483 0.50041646 0.68104058 0.31983215\n",
      "  0.23382738 0.52784691 0.21687787 0.3680515  0.17350976 0.50493639\n",
      "  0.181563   0.29166553 0.093823   0.61623685 0.23967    0.46690246\n",
      "  0.32006708 0.22785762 0.43080282 0.15527186 0.40428109 0.03557301\n",
      "  0.11915479 0.16881726 0.24397188 0.58716917 0.23623213 0.35729209\n",
      "  0.66561386 0.27012445 0.64351046 0.66068675 0.54667164 0.66874549\n",
      "  0.57583676 0.48802851 0.50775146 0.76346645 0.7297465  0.\n",
      "  0.15081534 0.56029285 0.60458205 0.41716405 0.27892993 0.50498416\n",
      "  0.54550226 0.56865131 0.43734619 0.38368217 0.44729783 0.31574742\n",
      "  0.32590844 0.43787675 0.26990175 0.17355297 0.40042647 0.52325753\n",
      "  0.36352894 0.1760368  0.52804721 0.59871693]\n",
      " [0.1508259  0.37515479 0.57437738 0.66920728 0.41589944 0.35416098\n",
      "  0.60538594 0.3704416  0.48305392 0.40145859 0.41221606 0.62459996\n",
      "  0.55374335 0.34878865 0.59777404 0.33747173 0.41381984 0.44875533\n",
      "  0.62397787 0.62705209 0.05115757 0.17854692 0.73775235 0.14086156\n",
      "  0.06443487 0.6085125  0.32354847 0.30169857 0.11957817 0.58152392\n",
      "  0.1854707  0.2197389  0.48581813 0.38957688 0.70036879 0.39683451\n",
      "  0.41866538 0.43988342 0.30426365 0.36958774 0.77812465 0.46929282\n",
      "  0.21997796 0.61225862 0.27891247 0.30585559 0.03537337 0.62195085\n",
      "  0.33031089 0.22065301 0.15824053 0.65796955 0.08921665 0.33945806\n",
      "  0.44481295 0.14398798 0.47858787 0.10408372 0.5536608  0.15812663\n",
      "  0.26992058 0.31928606 0.38416386 0.46560424 0.33306473 0.35321583\n",
      "  0.65054562 0.42058805 0.71964955 0.60756892 0.56375217 0.57066735\n",
      "  0.65690197 0.56567379 0.63804404 0.66731261 0.6268994  0.15081534\n",
      "  0.         0.41516267 0.5912986  0.45094527 0.38721117 0.36119572\n",
      "  0.53678179 0.43843622 0.40457199 0.53368584 0.38798106 0.16566815\n",
      "  0.20420141 0.53143251 0.13687275 0.17506875 0.3103286  0.38924402\n",
      "  0.51193572 0.24190953 0.43593194 0.54340712]\n",
      " [0.53928373 0.61027741 0.90976109 1.04367477 0.48544345 0.76298435\n",
      "  0.7127974  0.22427216 0.88359232 0.20793497 0.82732729 0.64911166\n",
      "  0.94469714 0.71179394 0.75927348 0.29867228 0.20946595 0.74180507\n",
      "  1.03711449 1.02138471 0.40229711 0.329135   1.13026509 0.43794052\n",
      "  0.37430497 0.98578116 0.69984758 0.39881721 0.49282248 0.58926467\n",
      "  0.43403143 0.19560246 0.84110955 0.36128971 0.78200972 0.70745264\n",
      "  0.33580882 0.84926693 0.23249405 0.35626414 1.16311289 0.87957602\n",
      "  0.4559484  0.99032443 0.57747849 0.37070085 0.40651654 0.93310714\n",
      "  0.72744692 0.35891775 0.56846886 0.98129315 0.32837463 0.15187094\n",
      "  0.78970224 0.45614122 0.82812999 0.42651697 0.9639251  0.5563249\n",
      "  0.67575408 0.7221025  0.79926792 0.18290485 0.73610583 0.66327122\n",
      "  0.87958804 0.82103408 1.08352858 0.76118621 0.86161505 0.60199011\n",
      "  1.02933404 0.93948329 1.05061247 0.67925084 0.62414759 0.56029285\n",
      "  0.41516267 0.         0.83353675 0.7879827  0.79328531 0.05648195\n",
      "  0.79716635 0.38379319 0.65523638 0.92937779 0.59319163 0.27642199\n",
      "  0.25615077 0.92167591 0.36398754 0.47181623 0.48353441 0.09880777\n",
      "  0.92376164 0.56236182 0.53727728 0.70717184]\n",
      " [0.65731597 0.9318275  0.22718945 0.40647539 0.37555515 0.4822894\n",
      "  0.25036263 0.62947529 0.45321445 0.66172155 0.58125683 0.38105816\n",
      "  0.42530286 0.79172119 0.15734227 0.90988456 0.66868891 0.94867614\n",
      "  0.62733997 0.47668742 0.64240791 0.52808793 0.53327224 0.72498684\n",
      "  0.56548297 0.38630053 0.7525871  0.43511674 0.66698013 0.40481271\n",
      "  0.43520832 0.70432215 0.8925216  0.50296156 0.30601244 0.8929404\n",
      "  0.5486209  0.50266686 0.60203709 0.49810158 0.52352538 0.69817602\n",
      "  0.80459248 0.391425   0.82080374 0.89421494 0.56350262 1.06274453\n",
      "  0.7010846  0.80968972 0.51077823 0.22959524 0.61121453 0.85275895\n",
      "  0.88242466 0.45247154 0.25712953 0.69015163 0.74446336 0.63991041\n",
      "  0.6447074  0.67502313 0.58964475 0.97295762 0.44738528 0.24760291\n",
      "  0.061032   0.73117126 0.39680797 0.1706848  0.12375847 0.37150315\n",
      "  0.39122956 0.35441266 0.62673764 0.40570203 0.42141768 0.60458205\n",
      "  0.5912986  0.83353675 0.         0.22986106 0.46733484 0.80466758\n",
      "  0.05984302 0.51125786 0.19060252 0.81588569 0.24063267 0.5982384\n",
      "  0.75826355 0.41377345 0.51762398 0.74998577 0.35078935 0.87181741\n",
      "  0.70568325 0.77958484 0.32279048 0.16941731]\n",
      " [0.47360883 0.74357658 0.12485008 0.27019582 0.43074531 0.25492001\n",
      "  0.42412165 0.6238495  0.23062311 0.66068873 0.35157303 0.53311935\n",
      "  0.22533781 0.57892239 0.34895641 0.78799842 0.67073875 0.74062442\n",
      "  0.416017   0.29448527 0.49846891 0.45896976 0.3827104  0.56523896\n",
      "  0.44857495 0.22235498 0.53979169 0.42617909 0.49481927 0.53354434\n",
      "  0.3539913  0.62089829 0.66994202 0.52925218 0.5048584  0.68616347\n",
      "  0.57907377 0.27366243 0.57596238 0.51635507 0.39742913 0.46839556\n",
      "  0.64066674 0.22777023 0.63185654 0.75373351 0.43293457 0.84065885\n",
      "  0.48258963 0.66902388 0.32816619 0.20702434 0.50034656 0.7659191\n",
      "  0.66446672 0.34068388 0.04764526 0.53481611 0.51556944 0.45239281\n",
      "  0.43227123 0.45639215 0.361178   0.89302311 0.22320378 0.12747786\n",
      "  0.28506277 0.50439721 0.29869117 0.36412236 0.13439711 0.5027915\n",
      "  0.25425766 0.17665697 0.41860125 0.5687328  0.56499795 0.41716405\n",
      "  0.45094527 0.7879827  0.22986106 0.         0.23776635 0.74668648\n",
      "  0.17472251 0.55711172 0.18910733 0.5862418  0.26436591 0.51833383\n",
      "  0.64644831 0.2075315  0.42877034 0.58163029 0.33893546 0.80048469\n",
      "  0.47615648 0.59194334 0.39361717 0.32579611]\n",
      " [0.33136052 0.56790812 0.30574034 0.31228452 0.5743639  0.03680736\n",
      "  0.63629784 0.68720925 0.0994004  0.72405631 0.11395727 0.72632153\n",
      "  0.18063645 0.36968211 0.57335013 0.70319564 0.73592854 0.53382856\n",
      "  0.25170074 0.24563655 0.41884937 0.48571498 0.35564233 0.45003611\n",
      "  0.41910795 0.25332168 0.33253856 0.52037659 0.36990913 0.71252109\n",
      "  0.39793345 0.60170482 0.44107994 0.63431238 0.72507921 0.48321012\n",
      "  0.68074489 0.05982257 0.62593297 0.6166201  0.40213411 0.23098542\n",
      "  0.51013575 0.25526193 0.46190376 0.64697893 0.38836433 0.61106686\n",
      "  0.26651071 0.56973805 0.22897833 0.38723417 0.46714561 0.7264337\n",
      "  0.44330292 0.35281644 0.22097105 0.43108676 0.28492696 0.30657176\n",
      "  0.23470618 0.24158623 0.12511241 0.85173527 0.05843714 0.27669893\n",
      "  0.52276691 0.27023417 0.37394434 0.58821008 0.36594935 0.68603492\n",
      "  0.30432507 0.22351006 0.26279025 0.76628949 0.7508749  0.27892993\n",
      "  0.38721117 0.79328531 0.46733484 0.23776635 0.         0.7421742\n",
      "  0.41073153 0.67437575 0.37569197 0.34855126 0.43102952 0.52003822\n",
      "  0.58866574 0.16182913 0.44033492 0.4505731  0.45450323 0.7760608\n",
      "  0.24276344 0.42752437 0.55451478 0.54008496]\n",
      " [0.48310086 0.5579712  0.86963213 0.99857928 0.46942681 0.71123916\n",
      "  0.69927818 0.22024674 0.83373177 0.21317165 0.77337038 0.64543869\n",
      "  0.89666366 0.65542374 0.73957796 0.25616644 0.2178791  0.68775206\n",
      "  0.98435751 0.97293712 0.34662788 0.28845935 1.08234252 0.38153544\n",
      "  0.32316578 0.94006694 0.64336733 0.37326813 0.4365315  0.5862635\n",
      "  0.39320877 0.14152306 0.78505738 0.35164751 0.77333154 0.65247143\n",
      "  0.33344338 0.79751252 0.21200586 0.34363401 1.11658322 0.82393345\n",
      "  0.4010643  0.94450103 0.52210678 0.32268635 0.35426685 0.87899254\n",
      "  0.67117375 0.3050582  0.51598031 0.94324967 0.27565355 0.11010382\n",
      "  0.73384474 0.41066938 0.78555374 0.37006892 0.90823359 0.5003761\n",
      "  0.61992615 0.66604652 0.74493827 0.18002505 0.6854261  0.62365246\n",
      "  0.85297883 0.76479533 1.04018777 0.74255066 0.82598937 0.59601233\n",
      "  0.98450909 0.89412922 0.99807252 0.67810476 0.62369739 0.50498416\n",
      "  0.36119572 0.05648195 0.80466758 0.74668648 0.7421742  0.\n",
      "  0.76552974 0.38046629 0.62234667 0.87296597 0.56409081 0.23005866\n",
      "  0.20016081 0.8736981  0.31921787 0.41564034 0.45389957 0.07810054\n",
      "  0.86830015 0.5063402  0.51930652 0.68614789]\n",
      " [0.59860469 0.87314969 0.19559667 0.37899996 0.3569221  0.42437176\n",
      "  0.27134419 0.60017893 0.40249262 0.63388903 0.52467652 0.39555923\n",
      "  0.38173318 0.73188704 0.18470823 0.85962346 0.6416721  0.88888252\n",
      "  0.5816179  0.43878    0.5877541  0.48401063 0.50476772 0.66877987\n",
      "  0.51395371 0.35130315 0.69275694 0.40160533 0.60927864 0.41091\n",
      "  0.38735245 0.65954681 0.83319638 0.47960248 0.34042089 0.83316813\n",
      "  0.5271462  0.44838488 0.56773476 0.47258846 0.50135644 0.64171685\n",
      "  0.74814037 0.35664596 0.7619542  0.84106615 0.51004291 1.00331135\n",
      "  0.64147763 0.7562321  0.45174935 0.22003256 0.56101879 0.80830987\n",
      "  0.82272211 0.40027129 0.2068279  0.63432968 0.69028975 0.58089427\n",
      "  0.58489051 0.61543957 0.53201736 0.93037314 0.38876928 0.1891813\n",
      "  0.12053894 0.67274589 0.37867011 0.19958622 0.09487745 0.3778313\n",
      "  0.36309997 0.31505794 0.58214452 0.42501573 0.43331752 0.54550226\n",
      "  0.53678179 0.79716635 0.05984302 0.17472251 0.41073153 0.76552974\n",
      "  0.         0.49328191 0.14390539 0.75908013 0.20596893 0.5531075\n",
      "  0.70894934 0.36825332 0.46992494 0.6929019  0.31391095 0.83042193\n",
      "  0.65071637 0.72078311 0.30691079 0.17833585]\n",
      " [0.58628983 0.79339473 0.65712423 0.8266306  0.13642215 0.65831803\n",
      "  0.33794145 0.16066417 0.73584462 0.1777126  0.75589279 0.26558994\n",
      "  0.76749915 0.78390597 0.40046758 0.5922174  0.17941342 0.88482796\n",
      "  0.92177817 0.84320194 0.46988551 0.26050438 0.93878053 0.55759447\n",
      "  0.374448   0.77909568 0.75499254 0.15656286 0.55794749 0.20601751\n",
      "  0.29238316 0.36031357 0.91984896 0.04886651 0.39945711 0.83432705\n",
      "  0.04804028 0.73372828 0.18438563 0.06887348 0.95418849 0.8495114\n",
      "  0.62200469 0.7844549  0.71107561 0.62481455 0.40540385 1.06037903\n",
      "  0.74647518 0.56295462 0.51408476 0.7075735  0.37624713 0.47241557\n",
      "  0.88175015 0.34913015 0.60445287 0.52485668 0.92801972 0.58803351\n",
      "  0.67923451 0.72887994 0.73984066 0.55960093 0.61886788 0.43583318\n",
      "  0.54369956 0.82613922 0.8472786  0.39876694 0.57868967 0.21841277\n",
      "  0.81050387 0.73266367 0.93035457 0.29765551 0.24347239 0.56865131\n",
      "  0.43843622 0.38379319 0.51125786 0.55711172 0.67437575 0.38046629\n",
      "  0.49328191 0.         0.37586663 0.93951022 0.29861728 0.30063587\n",
      "  0.45801153 0.74584603 0.30251273 0.59772457 0.22413094 0.45851862\n",
      "  0.88290574 0.67721182 0.1884696  0.35587111]\n",
      " [0.48592411 0.75804556 0.28127138 0.45353419 0.24451692 0.37679928\n",
      "  0.26231219 0.46495024 0.40297334 0.50002416 0.48357387 0.35329534\n",
      "  0.41245473 0.64175315 0.21391331 0.71930812 0.50869105 0.79023566\n",
      "  0.59351714 0.48338944 0.45570495 0.34012262 0.57057231 0.54140944\n",
      "  0.37547717 0.41002403 0.60362557 0.26405826 0.48926479 0.3473513\n",
      "  0.2447707  0.51580174 0.75640734 0.35390223 0.35469622 0.73405854\n",
      "  0.40324597 0.42675482 0.42789207 0.34387868 0.58111387 0.59752215\n",
      "  0.62138292 0.41549782 0.64899882 0.70503345 0.37527472 0.922924\n",
      "  0.56209577 0.62090895 0.3450356  0.33642979 0.42067795 0.66453567\n",
      "  0.73789461 0.2632801  0.23648604 0.50572142 0.65973638 0.47145919\n",
      "  0.49892622 0.53720344 0.4818637  0.78646953 0.33582094 0.09989128\n",
      "  0.24756206 0.61046828 0.47148618 0.22720966 0.2099272  0.31783656\n",
      "  0.43726772 0.36523417 0.59821952 0.39196022 0.38157319 0.43734619\n",
      "  0.40457199 0.65523638 0.19060252 0.18910733 0.37569197 0.62234667\n",
      "  0.14390539 0.37586663 0.         0.70956916 0.07748327 0.40940353\n",
      "  0.56767179 0.39317987 0.32729095 0.5690894  0.17438993 0.68662826\n",
      "  0.61641808 0.60770389 0.20474046 0.16995944]\n",
      " [0.39164098 0.44632484 0.63973074 0.57600771 0.86867323 0.33647176\n",
      "  0.9716836  0.90136899 0.38544576 0.933888   0.23466904 1.04718651\n",
      "  0.45460841 0.23483464 0.91631803 0.72747483 0.94629892 0.33196285\n",
      "  0.31901558 0.46965962 0.53129194 0.69830079 0.54183917 0.49531508\n",
      "  0.59326132 0.53423651 0.23388973 0.78444174 0.43699941 1.02369355\n",
      "  0.6473644  0.7386667  0.17228237 0.89299442 1.06400121 0.31127954\n",
      "  0.9317529  0.31975856 0.83501662 0.87317845 0.60235307 0.11826409\n",
      "  0.5051823  0.53307156 0.39222492 0.64644364 0.55706854 0.30598494\n",
      "  0.20389123 0.60110395 0.4254502  0.71212189 0.62135228 0.8137998\n",
      "  0.21542504 0.59038179 0.56602452 0.50296205 0.11345423 0.37768838\n",
      "  0.26513455 0.21499332 0.22881005 0.91850632 0.37547828 0.61004094\n",
      "  0.8710605  0.11418798 0.6414843  0.93085967 0.71192857 1.00130367\n",
      "  0.57642587 0.52739215 0.33513817 1.08916662 1.06569447 0.38368217\n",
      "  0.53368584 0.92937779 0.81588569 0.5862418  0.34855126 0.87296597\n",
      "  0.75908013 0.93951022 0.70956916 0.         0.7518182  0.69920451\n",
      "  0.67801087 0.45011898 0.64997575 0.4676502  0.74349853 0.87627978\n",
      "  0.12622761 0.38688413 0.86199161 0.87862623]\n",
      " [0.49029825 0.75557739 0.35854871 0.53071916 0.16718915 0.42694538\n",
      "  0.22942416 0.39440355 0.4690129  0.42849396 0.53345361 0.29671758\n",
      "  0.48496632 0.66128769 0.20980335 0.68294705 0.43659036 0.80154787\n",
      "  0.65980337 0.55744986 0.43800543 0.29198324 0.64681463 0.52845526\n",
      "  0.34821579 0.48628099 0.62451123 0.19582775 0.48608099 0.28195947\n",
      "  0.21015124 0.46781418 0.78315557 0.27818026 0.32591505 0.74565534\n",
      "  0.32715371 0.48551813 0.36242895 0.26922631 0.65833733 0.64384053\n",
      "  0.60793198 0.49173478 0.64994257 0.67732287 0.35535287 0.94579145\n",
      "  0.5902347  0.59524454 0.35995429 0.4110895  0.38778872 0.61529061\n",
      "  0.75970979 0.24413697 0.31198512 0.491832   0.71105326 0.47924279\n",
      "  0.5242309  0.56658759 0.52772299 0.73362686 0.38521885 0.15766426\n",
      "  0.2900456  0.64763331 0.548909   0.2197069  0.28303024 0.25500549\n",
      "  0.51447185 0.44098902 0.6655403  0.33794582 0.3198529  0.44729783\n",
      "  0.38798106 0.59319163 0.24063267 0.26436591 0.43102952 0.56409081\n",
      "  0.20596893 0.29861728 0.07748327 0.7518182  0.         0.36300283\n",
      "  0.53006145 0.46491303 0.2890746  0.55999118 0.11019319 0.63190071\n",
      "  0.6667671  0.60917674 0.1301319  0.15564911]\n",
      " [0.31416459 0.49330976 0.64214279 0.76854157 0.32157761 0.49137121\n",
      "  0.5426272  0.20658516 0.60824044 0.23623391 0.5643691  0.52824443\n",
      "  0.66829011 0.50979287 0.56070759 0.32547429 0.24854133 0.59151235\n",
      "  0.76754888 0.74504869 0.18023667 0.07111236 0.8538442  0.26032078\n",
      "  0.10794288 0.71014229 0.48704639 0.20238419 0.27622547 0.47647483\n",
      "  0.16823637 0.10646373 0.64673118 0.2534065  0.63042294 0.54379913\n",
      "  0.27102751 0.57732555 0.14142328 0.23518488 0.88701041 0.63122877\n",
      "  0.3215013  0.7146092  0.41613913 0.33709054 0.14401601 0.77357159\n",
      "  0.49596808 0.26652932 0.30131321 0.71802911 0.08225326 0.2552429\n",
      "  0.60282616 0.18061072 0.55619107 0.23035045 0.71521146 0.323472\n",
      "  0.43485536 0.48453858 0.53901834 0.37897313 0.46220013 0.39768354\n",
      "  0.6515215  0.58585809 0.81034809 0.56695794 0.60497896 0.47380603\n",
      "  0.75445228 0.66411925 0.78029439 0.56838624 0.52068887 0.31574742\n",
      "  0.16566815 0.27642199 0.5982384  0.51833383 0.52003822 0.23005866\n",
      "  0.5531075  0.30063587 0.40940353 0.69920451 0.36300283 0.\n",
      "  0.17451254 0.64526453 0.08960736 0.30085253 0.2573889  0.28273878\n",
      "  0.67246212 0.38547262 0.35860306 0.50496164]\n",
      " [0.29406101 0.36784859 0.77110283 0.87311278 0.49524406 0.5544311\n",
      "  0.71706645 0.32648935 0.68581179 0.34176394 0.60065739 0.69975281\n",
      "  0.75774649 0.45627669 0.73254879 0.15291478 0.35185714 0.49102935\n",
      "  0.81731481 0.83055688 0.17046555 0.24319698 0.94129952 0.18320914\n",
      "  0.19871988 0.81250854 0.44609817 0.37672802 0.24648178 0.64617848\n",
      "  0.3233023  0.10121244 0.58495999 0.41435524 0.8048487  0.45350962\n",
      "  0.42041316 0.63895382 0.27663656 0.39827783 0.98224957 0.63770599\n",
      "  0.20309241 0.81630341 0.32251954 0.16688908 0.21457782 0.68173944\n",
      "  0.47905646 0.11421854 0.36047047 0.85252065 0.14855682 0.1410261\n",
      "  0.53368726 0.31155999 0.67762591 0.17732399 0.72115745 0.31425582\n",
      "  0.43350605 0.47670804 0.56988031 0.26327626 0.53599749 0.5374378\n",
      "  0.81412913 0.57272017 0.92264868 0.73940645 0.74956281 0.64564688\n",
      "  0.86063365 0.76932431 0.83223407 0.73895025 0.68952258 0.32590844\n",
      "  0.20420141 0.25615077 0.75826355 0.64644831 0.58866574 0.20016081\n",
      "  0.70894934 0.45801153 0.56767179 0.67801087 0.53006145 0.17451254\n",
      "  0.         0.73551104 0.2415306  0.21576595 0.42856698 0.19963844\n",
      "  0.68337779 0.30621586 0.53311338 0.67669773]\n",
      " [0.49171868 0.72816507 0.20052553 0.15067287 0.62735635 0.19840668\n",
      "  0.63009135 0.78856836 0.07042608 0.82595728 0.23699601 0.74064256\n",
      "  0.02305922 0.52261428 0.5507966  0.857869   0.83708587 0.6851729\n",
      "  0.21365049 0.10062567 0.56850191 0.59951577 0.20864836 0.60800261\n",
      "  0.55301304 0.09335602 0.48723565 0.60212811 0.52838474 0.73994364\n",
      "  0.50035705 0.73649615 0.57523348 0.71243114 0.70725662 0.63703324\n",
      "  0.76155422 0.14412483 0.73269505 0.69717413 0.24677699 0.33608897\n",
      "  0.67067747 0.09455399 0.6232648  0.80526542 0.52642624 0.74046557\n",
      "  0.41864798 0.72615819 0.37641061 0.26359397 0.60386028 0.86961549\n",
      "  0.58642223 0.46704099 0.16430589 0.58665968 0.35572363 0.46703196\n",
      "  0.39465081 0.39538288 0.26324742 0.9965765  0.20284588 0.31155296\n",
      "  0.45809996 0.40091942 0.21369264 0.56592168 0.29288647 0.70961279\n",
      "  0.14365833 0.07731891 0.21390901 0.77617657 0.77222291 0.43787675\n",
      "  0.53143251 0.92167591 0.41377345 0.2075315  0.16182913 0.8736981\n",
      "  0.36825332 0.74584603 0.39317987 0.45011898 0.46491303 0.64526453\n",
      "  0.73551104 0.         0.55904863 0.61078339 0.52204306 0.91495773\n",
      "  0.32584715 0.58927418 0.59503957 0.53199217]\n",
      " [0.28384358 0.50590583 0.5527007  0.67983354 0.28384085 0.41392689\n",
      "  0.48813356 0.25522499 0.52503949 0.29028825 0.49464828 0.49386209\n",
      "  0.58210558 0.48174337 0.49441728 0.39420464 0.30259984 0.58550605\n",
      "  0.69053697 0.65926116 0.1747247  0.04873087 0.7673229  0.26747656\n",
      "  0.07498298 0.62179803 0.45379137 0.16639533 0.25633586 0.44809363\n",
      "  0.0825835  0.19348764 0.61811063 0.25375228 0.580431   0.53370691\n",
      "  0.2858186  0.49885509 0.19016012 0.23365612 0.799211   0.57163092\n",
      "  0.34117906 0.62633706 0.41440067 0.39027333 0.10301076 0.75819725\n",
      "  0.45078594 0.31057867 0.23324413 0.62913315 0.1002928  0.34129424\n",
      "  0.57928584 0.09223479 0.46661822 0.23186099 0.6542485  0.28652206\n",
      "  0.38541027 0.43566417 0.47192686 0.46672775 0.38198013 0.30889518\n",
      "  0.57286871 0.53578777 0.72097681 0.50221778 0.5177253  0.43942337\n",
      "  0.66560647 0.5755505  0.70253277 0.53601652 0.49341196 0.26990175\n",
      "  0.13687275 0.36398754 0.51762398 0.42877034 0.44033492 0.31921787\n",
      "  0.46992494 0.30251273 0.32729095 0.64997575 0.2890746  0.08960736\n",
      "  0.2415306  0.55904863 0.         0.30561603 0.19234485 0.37194479\n",
      "  0.61026522 0.37832026 0.31005848 0.43865769]\n",
      " [0.11921269 0.20060737 0.69838553 0.75913591 0.58879467 0.41379963\n",
      "  0.78008295 0.50175426 0.54962345 0.52610561 0.42930539 0.79832275\n",
      "  0.63072253 0.24095216 0.76927827 0.26924854 0.53771545 0.29134761\n",
      "  0.64676623 0.69515372 0.13089753 0.33943718 0.80371962 0.04054883\n",
      "  0.23076365 0.69856223 0.23385535 0.4719804  0.08691914 0.75363807\n",
      "  0.36052843 0.29528869 0.36954174 0.54927883 0.87528377 0.24626951\n",
      "  0.57128683 0.48901983 0.43971103 0.5299297  0.85237925 0.44179697\n",
      "  0.06034116 0.70128744 0.11583718 0.19993186 0.21009714 0.47713287\n",
      "  0.27654764 0.13577136 0.25385602 0.78472787 0.22160179 0.34678417\n",
      "  0.31910775 0.31637341 0.59957898 0.07381232 0.52230737 0.14400958\n",
      "  0.24579172 0.28006764 0.39606603 0.45207376 0.40972913 0.50430745\n",
      "  0.81043787 0.36811074 0.81705952 0.77963302 0.70632612 0.74412748\n",
      "  0.74935687 0.66154022 0.66304423 0.84080844 0.79897725 0.17355297\n",
      "  0.17506875 0.47181623 0.74998577 0.58163029 0.4505731  0.41564034\n",
      "  0.6929019  0.59772457 0.5690894  0.4676502  0.55999118 0.30085253\n",
      "  0.21576595 0.61078339 0.30561603 0.         0.48539734 0.41014157\n",
      "  0.48861227 0.09134862 0.61069583 0.71563768]\n",
      " [0.43421331 0.68521745 0.44820488 0.60905478 0.12517726 0.44155764\n",
      "  0.29681548 0.29114372 0.51209848 0.32675423 0.54330005 0.3202424\n",
      "  0.54385959 0.62054579 0.30398367 0.58122212 0.33587832 0.74737035\n",
      "  0.6991569  0.61998289 0.35708625 0.18643648 0.71753369 0.45025199\n",
      "  0.26026758 0.55895706 0.58651568 0.09000549 0.4205958  0.28534783\n",
      "  0.12491753 0.36039615 0.75035866 0.19123588 0.390663   0.69267126\n",
      "  0.24089016 0.51316936 0.25401077 0.17752486 0.73600101 0.64451166\n",
      "  0.52757333 0.56422659 0.58527966 0.58231946 0.27541981 0.90536187\n",
      "  0.56360274 0.50290315 0.32537627 0.50943869 0.2926267  0.50681545\n",
      "  0.72026639 0.17521928 0.38542164 0.41353068 0.71910739 0.42805486\n",
      "  0.49559371 0.54251192 0.53090224 0.62394459 0.40088761 0.2139736\n",
      "  0.399802   0.63324055 0.63510511 0.31097806 0.38414168 0.26832902\n",
      "  0.59316804 0.51206793 0.70728288 0.3634601  0.32965008 0.40042647\n",
      "  0.3103286  0.48353441 0.35078935 0.33893546 0.45450323 0.45389957\n",
      "  0.31391095 0.22413094 0.17438993 0.74349853 0.11019319 0.2573889\n",
      "  0.42856698 0.52204306 0.19234485 0.48539734 0.         0.52194421\n",
      "  0.67395143 0.54599867 0.12817214 0.24813561]\n",
      " [0.49360492 0.52801243 0.92461325 1.04524277 0.54483991 0.74336792\n",
      "  0.77508021 0.29834708 0.87062264 0.29042435 0.79681837 0.72334279\n",
      "  0.93770948 0.65077162 0.81277355 0.20460163 0.29451835 0.66429832\n",
      "  1.011766   1.01276885 0.36502106 0.34779313 1.12304857 0.38098979\n",
      "  0.36213913 0.98575207 0.64328898 0.44470218 0.44605073 0.66424514\n",
      "  0.45047528 0.18025714 0.77478204 0.42906273 0.85038582 0.63422912\n",
      "  0.41154012 0.82912487 0.28748968 0.42046788 1.16016583 0.83724604\n",
      "  0.38464322 0.98996243 0.50746474 0.28215258 0.38905795 0.85511832\n",
      "  0.67848145 0.28496768 0.54730711 1.00075903 0.31110758 0.0649426\n",
      "  0.72176687 0.46051884 0.8372462  0.37696144 0.92077359 0.51342883\n",
      "  0.63292941 0.67634647 0.76678224 0.10365685 0.72090789 0.6804132\n",
      "  0.92174467 0.77207059 1.08980284 0.81625274 0.88668504 0.67367495\n",
      "  1.0317072  0.94065144 1.02621833 0.75616876 0.70178868 0.52325753\n",
      "  0.38924402 0.09880777 0.87181741 0.80048469 0.7760608  0.07810054\n",
      "  0.83042193 0.45851862 0.68662826 0.87627978 0.63190071 0.28273878\n",
      "  0.19963844 0.91495773 0.37194479 0.41014157 0.52194421 0.\n",
      "  0.88280555 0.49766772 0.59381394 0.7587718 ]\n",
      " [0.38935615 0.51640071 0.51922592 0.44979393 0.79806474 0.24013305\n",
      "  0.87808976 0.86547233 0.2635687  0.90017793 0.13333464 0.96344688\n",
      "  0.32924719 0.29010522 0.81610473 0.75741779 0.91254496 0.4245185\n",
      "  0.20185751 0.34380098 0.52172354 0.6589237  0.42000122 0.50786139\n",
      "  0.56451973 0.40838061 0.27181305 0.72634339 0.43694994 0.94543693\n",
      "  0.59230935 0.72865401 0.27922042 0.83867789 0.96762371 0.39134486\n",
      "  0.88116181 0.20334374 0.80003235 0.81952214 0.48015196 0.04691448\n",
      "  0.53659923 0.40711261 0.43972331 0.68255755 0.52856431 0.42906983\n",
      "  0.21333227 0.62424509 0.37719079 0.58896807 0.60110084 0.82363616\n",
      "  0.30939261 0.53801375 0.45129145 0.50632512 0.04519587 0.3694802\n",
      "  0.24988064 0.20884268 0.14330102 0.93774919 0.28171535 0.51667475\n",
      "  0.7587221  0.13183506 0.51531618 0.83097145 0.59666596 0.9206731\n",
      "  0.45021698 0.40315284 0.21888873 1.00430603 0.98555754 0.36352894\n",
      "  0.51193572 0.92376164 0.70568325 0.47615648 0.24276344 0.86830015\n",
      "  0.65071637 0.88290574 0.61641808 0.12622761 0.6667671  0.67246212\n",
      "  0.68337779 0.32584715 0.61026522 0.48861227 0.67395143 0.88280555\n",
      "  0.         0.42282249 0.78481088 0.78243263]\n",
      " [0.12234994 0.15256884 0.70124638 0.73980883 0.65678409 0.39123499\n",
      "  0.8350222  0.58926546 0.52344163 0.61481829 0.38434988 0.86418478\n",
      "  0.60732415 0.15430575 0.81540759 0.34076868 0.62658486 0.20762607\n",
      "  0.59611465 0.6653417  0.20756607 0.41686662 0.77060325 0.12951608\n",
      "  0.30391789 0.68060603 0.15488552 0.54360213 0.12542204 0.8226791\n",
      "  0.42203822 0.38640702 0.27875098 0.6284252  0.93127681 0.15832773\n",
      "  0.65355981 0.45655166 0.52602205 0.60869112 0.82280859 0.37606722\n",
      "  0.11830627 0.68269015 0.04133205 0.26143613 0.27693376 0.38852297\n",
      "  0.21020305 0.21575367 0.26924496 0.78784352 0.30410774 0.43351252\n",
      "  0.22782312 0.371628   0.60293219 0.15521524 0.45232704 0.14046392\n",
      "  0.19949075 0.22054497 0.35078725 0.53244956 0.39645056 0.53200346\n",
      "  0.84059074 0.29554838 0.80099883 0.82680303 0.72240658 0.81070021\n",
      "  0.73166587 0.64783253 0.61300569 0.90714456 0.86803026 0.1760368\n",
      "  0.24190953 0.56236182 0.77958484 0.59194334 0.42752437 0.5063402\n",
      "  0.72078311 0.67721182 0.60770389 0.38688413 0.60917674 0.38547262\n",
      "  0.30621586 0.58927418 0.37832026 0.09134862 0.54599867 0.49766772\n",
      "  0.42282249 0.         0.6735935  0.76363899]\n",
      " [0.56238491 0.81106844 0.48073501 0.65723533 0.0540901  0.54701724\n",
      "  0.18484575 0.31891208 0.5978263  0.34738591 0.65215026 0.19221871\n",
      "  0.61508859 0.74786004 0.22226821 0.68307495 0.35279503 0.87550466\n",
      "  0.78839429 0.68734223 0.48101147 0.29186711 0.77526396 0.5744802\n",
      "  0.38222972 0.61473082 0.71335223 0.15689113 0.54817316 0.16170388\n",
      "  0.25163821 0.45222016 0.87652149 0.18437979 0.2721812  0.82083949\n",
      "  0.22720342 0.61068644 0.30739552 0.18362214 0.78459165 0.75862082\n",
      "  0.65036909 0.62020852 0.71258789 0.69375548 0.40069215 1.03291621\n",
      "  0.68785748 0.61785302 0.45038169 0.52430744 0.40841522 0.59053794\n",
      "  0.84753328 0.30336953 0.44111687 0.53798849 0.82963547 0.55609126\n",
      "  0.62012735 0.66595969 0.64324975 0.6974697  0.50537058 0.28635469\n",
      "  0.35650764 0.75379102 0.67144811 0.22391505 0.3954779  0.14126904\n",
      "  0.64093187 0.56995686 0.79454847 0.23544775 0.20437541 0.52804721\n",
      "  0.43593194 0.53727728 0.32279048 0.39361717 0.55451478 0.51930652\n",
      "  0.30691079 0.1884696  0.20474046 0.86199161 0.1301319  0.35860306\n",
      "  0.53311338 0.59503957 0.31005848 0.61069583 0.12817214 0.59381394\n",
      "  0.78481088 0.6735935  0.         0.17211243]\n",
      " [0.64378663 0.91086243 0.37334398 0.55684906 0.226034   0.54415343\n",
      "  0.09834029 0.49081671 0.55468922 0.51949027 0.65041958 0.21722341\n",
      "  0.54811682 0.8084681  0.05585537 0.82934907 0.5247966  0.95312748\n",
      "  0.74179547 0.61081071 0.59319625 0.43429125 0.68204818 0.68400664\n",
      "  0.50168548 0.52627392 0.77079719 0.31432493 0.64120674 0.23579506\n",
      "  0.36305087 0.60607887 0.9254964  0.35632108 0.18547823 0.89704614\n",
      "  0.39761323 0.5876686  0.47548995 0.35563452 0.67968978 0.76550656\n",
      "  0.76338491 0.53170431 0.80457022 0.82880235 0.51045907 1.09111427\n",
      "  0.7312854  0.74788542 0.50872744 0.39420094 0.53865455 0.74997833\n",
      "  0.90558328 0.39970038 0.36773318 0.64734803 0.82500507 0.63159284\n",
      "  0.66733082 0.7065957  0.65035058 0.86215014 0.50377684 0.26867009\n",
      "  0.18969383 0.78037356 0.55656813 0.06418891 0.27303748 0.20247112\n",
      "  0.54084427 0.48722043 0.74432929 0.24760377 0.25536104 0.59871693\n",
      "  0.54340712 0.70717184 0.16941731 0.32579611 0.54008496 0.68614789\n",
      "  0.17833585 0.35587111 0.16995944 0.87862623 0.15564911 0.50496164\n",
      "  0.67669773 0.53199217 0.43865769 0.71563768 0.24813561 0.7587718\n",
      "  0.78243263 0.76363899 0.17211243 0.        ]]\n"
     ]
    }
   ],
   "source": [
    "Z = np.random.rand(100, 2)\n",
    "X, Y = np.atleast_2d(Z[:, 0], Z[:, 1])\n",
    "D = np.sqrt((X - X.T)**2 + (Y - Y.T)**2)\n",
    "print(D)"
   ]
  },
  {
   "cell_type": "markdown",
   "id": "8a2a9157",
   "metadata": {},
   "source": [
    "#### 53. How to convert a float (32 bits) array into an integer (32 bits) array in place?"
   ]
  },
  {
   "cell_type": "code",
   "execution_count": 27,
   "id": "4ffd9601",
   "metadata": {},
   "outputs": [
    {
     "name": "stdout",
     "output_type": "stream",
     "text": [
      "[10 98 98 76 39 81 93 10 75 27]\n"
     ]
    }
   ],
   "source": [
    "Z = (np.random.rand(10) * 100).astype(np.float32)\n",
    "Z = Z.astype(np.int32, copy=False)\n",
    "print(Z)"
   ]
  },
  {
   "cell_type": "markdown",
   "id": "10b38393",
   "metadata": {},
   "source": [
    "#### 54. How to read the following file? (★★☆)\n",
    "```\n",
    "1, 2, 3, 4, 5\n",
    "6,  ,  , 7, 8\n",
    " ,  , 9,10,11\n",
    "```"
   ]
  },
  {
   "cell_type": "code",
   "execution_count": 29,
   "id": "29f152f2",
   "metadata": {},
   "outputs": [
    {
     "name": "stdout",
     "output_type": "stream",
     "text": [
      "[[ 1.  2.  3.  4.  5.]\n",
      " [ 6. nan nan  7.  8.]\n",
      " [nan nan  9. 10. 11.]]\n"
     ]
    }
   ],
   "source": [
    "from io import StringIO\n",
    "\n",
    "s = StringIO(\"1, 2, 3, 4, 5\\n6, , , 7, 8\\n , , 9,10,11\")\n",
    "Z = np.genfromtxt(s, delimiter=\",\")\n",
    "print(Z)"
   ]
  },
  {
   "cell_type": "markdown",
   "id": "72ac7927",
   "metadata": {},
   "source": [
    "#### 55. What is the equivalent of enumerate for numpy arrays? (★★☆)"
   ]
  },
  {
   "cell_type": "code",
   "execution_count": 30,
   "id": "3de613a5",
   "metadata": {},
   "outputs": [
    {
     "name": "stdout",
     "output_type": "stream",
     "text": [
      "(0, 0) 0\n",
      "(0, 1) 1\n",
      "(0, 2) 2\n",
      "(1, 0) 3\n",
      "(1, 1) 4\n",
      "(1, 2) 5\n",
      "(2, 0) 6\n",
      "(2, 1) 7\n",
      "(2, 2) 8\n"
     ]
    }
   ],
   "source": [
    "Z = np.arange(9).reshape(3, 3)\n",
    "for index, value in np.ndenumerate(Z):\n",
    "    print(index, value)"
   ]
  },
  {
   "cell_type": "markdown",
   "id": "db66e31f",
   "metadata": {},
   "source": [
    "#### 56. Generate a generic 2D Gaussian-like array (★★☆)"
   ]
  },
  {
   "cell_type": "code",
   "execution_count": 31,
   "id": "60673f97",
   "metadata": {},
   "outputs": [
    {
     "name": "stdout",
     "output_type": "stream",
     "text": [
      "(0, 0) 0\n",
      "(0, 1) 1\n",
      "(0, 2) 2\n",
      "(1, 0) 3\n",
      "(1, 1) 4\n",
      "(1, 2) 5\n",
      "(2, 0) 6\n",
      "(2, 1) 7\n",
      "(2, 2) 8\n"
     ]
    }
   ],
   "source": [
    "Z = np.arange(9).reshape(3, 3)\n",
    "for index, value in np.ndenumerate(Z):\n",
    "    print(index, value)"
   ]
  },
  {
   "cell_type": "markdown",
   "id": "6997c220",
   "metadata": {},
   "source": [
    "#### 57. How to randomly place p elements in a 2D array? (★★☆)"
   ]
  },
  {
   "cell_type": "code",
   "execution_count": 32,
   "id": "81ac5c03",
   "metadata": {},
   "outputs": [
    {
     "name": "stdout",
     "output_type": "stream",
     "text": [
      "[[0.36787944 0.44822088 0.51979489 0.57375342 0.60279818 0.60279818\n",
      "  0.57375342 0.51979489 0.44822088 0.36787944]\n",
      " [0.44822088 0.54610814 0.63331324 0.69905581 0.73444367 0.73444367\n",
      "  0.69905581 0.63331324 0.54610814 0.44822088]\n",
      " [0.51979489 0.63331324 0.73444367 0.81068432 0.85172308 0.85172308\n",
      "  0.81068432 0.73444367 0.63331324 0.51979489]\n",
      " [0.57375342 0.69905581 0.81068432 0.89483932 0.9401382  0.9401382\n",
      "  0.89483932 0.81068432 0.69905581 0.57375342]\n",
      " [0.60279818 0.73444367 0.85172308 0.9401382  0.98773022 0.98773022\n",
      "  0.9401382  0.85172308 0.73444367 0.60279818]\n",
      " [0.60279818 0.73444367 0.85172308 0.9401382  0.98773022 0.98773022\n",
      "  0.9401382  0.85172308 0.73444367 0.60279818]\n",
      " [0.57375342 0.69905581 0.81068432 0.89483932 0.9401382  0.9401382\n",
      "  0.89483932 0.81068432 0.69905581 0.57375342]\n",
      " [0.51979489 0.63331324 0.73444367 0.81068432 0.85172308 0.85172308\n",
      "  0.81068432 0.73444367 0.63331324 0.51979489]\n",
      " [0.44822088 0.54610814 0.63331324 0.69905581 0.73444367 0.73444367\n",
      "  0.69905581 0.63331324 0.54610814 0.44822088]\n",
      " [0.36787944 0.44822088 0.51979489 0.57375342 0.60279818 0.60279818\n",
      "  0.57375342 0.51979489 0.44822088 0.36787944]]\n"
     ]
    }
   ],
   "source": [
    "X, Y = np.meshgrid(np.linspace(-1, 1, 10), np.linspace(-1, 1, 10))\n",
    "D = np.sqrt(X**2 + Y**2)\n",
    "sigma, mu = 1.0, 0.0\n",
    "G = np.exp(-( (D - mu)**2 / (2.0 * sigma**2) ))\n",
    "print(G)"
   ]
  },
  {
   "cell_type": "markdown",
   "id": "c168fd87",
   "metadata": {},
   "source": [
    "#### 58. Subtract the mean of each row of a matrix (★★☆)"
   ]
  },
  {
   "cell_type": "code",
   "execution_count": 33,
   "id": "4158b357",
   "metadata": {},
   "outputs": [
    {
     "name": "stdout",
     "output_type": "stream",
     "text": [
      "[[ 0.19648331  0.53396177  0.27990996 -0.145637    0.39661839 -0.40668759\n",
      "  -0.16310077 -0.14420766 -0.27038664 -0.27695375]\n",
      " [ 0.16672194 -0.35386007  0.24216436  0.3550017  -0.42720173  0.42864867\n",
      "   0.17687209 -0.45869957  0.14848017 -0.27812756]\n",
      " [-0.27915305 -0.14219665  0.1543859  -0.4288204  -0.15143406  0.1369107\n",
      "  -0.19001943  0.30155155  0.51493894  0.0838365 ]\n",
      " [ 0.29324298 -0.12883431  0.10376037 -0.12766844 -0.33051497  0.07709553\n",
      "   0.12207436  0.01857562 -0.359908    0.33217688]\n",
      " [ 0.2534616   0.27973531  0.01369881 -0.46554825  0.08900006 -0.2361507\n",
      "   0.10244341  0.31559108  0.05123313 -0.40346444]]\n"
     ]
    }
   ],
   "source": [
    "X = np.random.rand(5, 10)\n",
    "Y = X - X.mean(axis=1, keepdims=True)\n",
    "print(Y)"
   ]
  },
  {
   "cell_type": "markdown",
   "id": "f74204b8",
   "metadata": {},
   "source": [
    "#### 59. How to sort an array by the nth column? (★★☆)"
   ]
  },
  {
   "cell_type": "code",
   "execution_count": 34,
   "id": "665d7fb2",
   "metadata": {},
   "outputs": [
    {
     "name": "stdout",
     "output_type": "stream",
     "text": [
      "Before:\n",
      " [[8 5 1 0 5]\n",
      " [3 0 6 8 9]\n",
      " [5 0 8 8 2]\n",
      " [9 6 5 5 8]\n",
      " [7 9 2 3 0]]\n",
      "After:\n",
      " [[3 0 6 8 9]\n",
      " [5 0 8 8 2]\n",
      " [8 5 1 0 5]\n",
      " [9 6 5 5 8]\n",
      " [7 9 2 3 0]]\n"
     ]
    }
   ],
   "source": [
    "Z = np.random.randint(0, 10, (5, 5))\n",
    "print(\"Before:\\n\", Z)\n",
    "Z = Z[Z[:, 1].argsort()]\n",
    "print(\"After:\\n\", Z)"
   ]
  },
  {
   "cell_type": "markdown",
   "id": "26b46ba2",
   "metadata": {},
   "source": [
    "#### 60. How to tell if a given 2D array has null columns? (★★☆)"
   ]
  },
  {
   "cell_type": "code",
   "execution_count": 35,
   "id": "0420e879",
   "metadata": {},
   "outputs": [
    {
     "name": "stdout",
     "output_type": "stream",
     "text": [
      "False\n"
     ]
    }
   ],
   "source": [
    "Z = np.random.randint(0, 2, (10, 10))\n",
    "print((~Z.any(axis=0)).any()) "
   ]
  },
  {
   "cell_type": "markdown",
   "id": "a7c73eaf",
   "metadata": {},
   "source": [
    "#### 61. Find the nearest value from a given value in an array (★★☆)"
   ]
  },
  {
   "cell_type": "code",
   "execution_count": 36,
   "id": "e00ee9c8",
   "metadata": {},
   "outputs": [
    {
     "name": "stdout",
     "output_type": "stream",
     "text": [
      "[[0 1 2]\n",
      " [1 2 3]\n",
      " [2 3 4]]\n"
     ]
    }
   ],
   "source": [
    "Z = np.random.uniform(0, 1, 10)\n",
    "val = 0.5\n",
    "print(Z[np.abs(Z - val).argmin()])\n"
   ]
  },
  {
   "cell_type": "markdown",
   "id": "016f9f8f",
   "metadata": {},
   "source": [
    "#### 62. Considering two arrays with shape (1,3) and (3,1), how to compute their sum using an iterator? (★★☆)"
   ]
  },
  {
   "cell_type": "code",
   "execution_count": 38,
   "id": "5d73e1b3",
   "metadata": {},
   "outputs": [
    {
     "name": "stdout",
     "output_type": "stream",
     "text": [
      "[[0 1 2]\n",
      " [1 2 3]\n",
      " [2 3 4]]\n"
     ]
    }
   ],
   "source": [
    "A = np.arange(3).reshape(1, 3)\n",
    "B = np.arange(3).reshape(3, 1)\n",
    "it = np.nditer([A, B, None])\n",
    "for x, y, z in it:\n",
    "    z[...] = x + y\n",
    "print(it.operands[2])"
   ]
  },
  {
   "cell_type": "markdown",
   "id": "5d04eec4",
   "metadata": {},
   "source": [
    "#### 63. Create an array class that has a name attribute (★★☆)"
   ]
  },
  {
   "cell_type": "code",
   "execution_count": 37,
   "id": "ddb2a215",
   "metadata": {},
   "outputs": [
    {
     "name": "stdout",
     "output_type": "stream",
     "text": [
      "my_array\n"
     ]
    }
   ],
   "source": [
    "class NamedArray(np.ndarray):\n",
    "    def __new__(cls, array, name=\"no name\"):\n",
    "        obj = np.asarray(array).view(cls)\n",
    "        obj.name = name\n",
    "        return obj\n",
    "    def __array_finalize__(self, obj):\n",
    "        if obj is None: return\n",
    "        self.name = getattr(obj, 'name', \"no name\")\n",
    "\n",
    "Z = NamedArray(np.arange(10), \"my_array\")\n",
    "print(Z.name)"
   ]
  },
  {
   "cell_type": "markdown",
   "id": "9efcd2a7",
   "metadata": {},
   "source": [
    "#### 64. Consider a given vector, how to add 1 to each element indexed by a second vector (be careful with repeated indices)? (★★★)"
   ]
  },
  {
   "cell_type": "code",
   "execution_count": 2,
   "id": "4ed538af",
   "metadata": {},
   "outputs": [
    {
     "name": "stdout",
     "output_type": "stream",
     "text": [
      "[1. 4. 4. 3. 3. 3. 3. 3. 2. 4.]\n"
     ]
    }
   ],
   "source": [
    "Z = np.ones(10)\n",
    "I = np.random.randint(0, len(Z), 20)\n",
    "np.add.at(Z, I, 1)\n",
    "print(Z)"
   ]
  },
  {
   "cell_type": "markdown",
   "id": "9215bb59",
   "metadata": {},
   "source": [
    "#### 65. How to accumulate elements of a vector (X) to an array (F) based on an index list (I)? (★★★)"
   ]
  },
  {
   "cell_type": "code",
   "execution_count": 3,
   "id": "74f5d129",
   "metadata": {},
   "outputs": [
    {
     "name": "stdout",
     "output_type": "stream",
     "text": [
      "[0. 7. 0. 6. 5. 0. 0. 0. 0. 3.]\n"
     ]
    }
   ],
   "source": [
    "X = [1, 2, 3, 4, 5, 6]\n",
    "I = [1, 3, 9, 3, 4, 1]\n",
    "F = np.bincount(I, X)\n",
    "print(F)"
   ]
  },
  {
   "cell_type": "markdown",
   "id": "a0ea705d",
   "metadata": {},
   "source": [
    "#### 66. Considering a (w,h,3) image of (dtype=ubyte), compute the number of unique colors (★★☆)"
   ]
  },
  {
   "cell_type": "code",
   "execution_count": 4,
   "id": "6a800287",
   "metadata": {},
   "outputs": [
    {
     "name": "stdout",
     "output_type": "stream",
     "text": [
      "256\n"
     ]
    }
   ],
   "source": [
    "w, h = 16, 16\n",
    "I = np.random.randint(0, 256, (w, h, 3), dtype=np.uint8)\n",
    "F = I.reshape(-1, 3)\n",
    "n_colors = len(np.unique(F, axis=0))\n",
    "print(n_colors)"
   ]
  },
  {
   "cell_type": "markdown",
   "id": "39363678",
   "metadata": {},
   "source": [
    "#### 67. Considering a four dimensions array, how to get sum over the last two axis at once? (★★★)"
   ]
  },
  {
   "cell_type": "code",
   "execution_count": 5,
   "id": "f4102915",
   "metadata": {},
   "outputs": [
    {
     "name": "stdout",
     "output_type": "stream",
     "text": [
      "256\n"
     ]
    }
   ],
   "source": [
    "w, h = 16, 16\n",
    "I = np.random.randint(0, 256, (w, h, 3), dtype=np.uint8)\n",
    "F = I.reshape(-1, 3)\n",
    "n_colors = len(np.unique(F, axis=0))\n",
    "print(n_colors)"
   ]
  },
  {
   "cell_type": "markdown",
   "id": "8d0566f6",
   "metadata": {},
   "source": [
    "#### 68. Considering a one-dimensional vector D, how to compute means of subsets of D using a vector S of same size describing subset  indices? (★★★)"
   ]
  },
  {
   "cell_type": "code",
   "execution_count": 6,
   "id": "b698d7c6",
   "metadata": {},
   "outputs": [
    {
     "name": "stdout",
     "output_type": "stream",
     "text": [
      "[0.40134695 0.49339412 0.61253258 0.47253585 0.66971471 0.30362089\n",
      " 0.44206079 0.48648087 0.40848073 0.46751468]\n"
     ]
    }
   ],
   "source": [
    "D = np.random.rand(100)\n",
    "S = np.random.randint(0, 10, 100)\n",
    "mean = np.bincount(S, weights=D) / np.bincount(S)\n",
    "print(mean)"
   ]
  },
  {
   "cell_type": "markdown",
   "id": "c5f95a28",
   "metadata": {},
   "source": [
    "#### 69. How to get the diagonal of a dot product? (★★★)"
   ]
  },
  {
   "cell_type": "code",
   "execution_count": 7,
   "id": "5ff048b9",
   "metadata": {},
   "outputs": [
    {
     "name": "stdout",
     "output_type": "stream",
     "text": [
      "[0.56156787 1.02035344 0.54635325]\n"
     ]
    }
   ],
   "source": [
    "A = np.random.rand(3, 3)\n",
    "B = np.random.rand(3, 3)\n",
    "diag = np.sum(A * B.T, axis=1)\n",
    "print(diag)"
   ]
  },
  {
   "cell_type": "markdown",
   "id": "9926d135",
   "metadata": {},
   "source": [
    "#### 70. Consider the vector [1, 2, 3, 4, 5], how to build a new vector with 3 consecutive zeros interleaved between each value? (★★★)"
   ]
  },
  {
   "cell_type": "code",
   "execution_count": 8,
   "id": "b3309bfc",
   "metadata": {},
   "outputs": [
    {
     "name": "stdout",
     "output_type": "stream",
     "text": [
      "[1 0 0 0 2 0 0 0 3 0 0 0 4 0 0 0 5]\n"
     ]
    }
   ],
   "source": [
    "Z = np.array([1, 2, 3, 4, 5])\n",
    "nz = 3\n",
    "Z0 = np.zeros(len(Z) + (len(Z)-1)*nz, dtype=int)\n",
    "Z0[::nz+1] = Z\n",
    "print(Z0)"
   ]
  },
  {
   "cell_type": "markdown",
   "id": "77faa124",
   "metadata": {},
   "source": [
    "#### 71. Consider an array of dimension (5,5,3), how to multiply it by an array with dimensions (5,5)? (★★★)"
   ]
  },
  {
   "cell_type": "code",
   "execution_count": 9,
   "id": "f632f202",
   "metadata": {},
   "outputs": [
    {
     "name": "stdout",
     "output_type": "stream",
     "text": [
      "[[[2. 2. 2.]\n",
      "  [2. 2. 2.]\n",
      "  [2. 2. 2.]\n",
      "  [2. 2. 2.]\n",
      "  [2. 2. 2.]]\n",
      "\n",
      " [[2. 2. 2.]\n",
      "  [2. 2. 2.]\n",
      "  [2. 2. 2.]\n",
      "  [2. 2. 2.]\n",
      "  [2. 2. 2.]]\n",
      "\n",
      " [[2. 2. 2.]\n",
      "  [2. 2. 2.]\n",
      "  [2. 2. 2.]\n",
      "  [2. 2. 2.]\n",
      "  [2. 2. 2.]]\n",
      "\n",
      " [[2. 2. 2.]\n",
      "  [2. 2. 2.]\n",
      "  [2. 2. 2.]\n",
      "  [2. 2. 2.]\n",
      "  [2. 2. 2.]]\n",
      "\n",
      " [[2. 2. 2.]\n",
      "  [2. 2. 2.]\n",
      "  [2. 2. 2.]\n",
      "  [2. 2. 2.]\n",
      "  [2. 2. 2.]]]\n"
     ]
    }
   ],
   "source": [
    "A = np.ones((5, 5, 3))\n",
    "B = 2 * np.ones((5, 5))\n",
    "print(A * B[:, :, None])"
   ]
  },
  {
   "cell_type": "markdown",
   "id": "56aa0c3d",
   "metadata": {},
   "source": [
    "#### 72. How to swap two rows of an array? (★★★)"
   ]
  },
  {
   "cell_type": "code",
   "execution_count": 10,
   "id": "efe16b12",
   "metadata": {},
   "outputs": [
    {
     "name": "stdout",
     "output_type": "stream",
     "text": [
      "[[ 5  6  7  8  9]\n",
      " [ 0  1  2  3  4]\n",
      " [10 11 12 13 14]\n",
      " [15 16 17 18 19]\n",
      " [20 21 22 23 24]]\n"
     ]
    }
   ],
   "source": [
    "A = np.arange(25).reshape(5, 5)\n",
    "A[[0, 1]] = A[[1, 0]]\n",
    "print(A)"
   ]
  },
  {
   "cell_type": "markdown",
   "id": "1068d7cd",
   "metadata": {},
   "source": [
    "#### 73. Consider a set of 10 triplets describing 10 triangles (with shared vertices), find the set of unique line segments composing all the  triangles (★★★)"
   ]
  },
  {
   "cell_type": "code",
   "execution_count": 11,
   "id": "e391b049",
   "metadata": {},
   "outputs": [
    {
     "name": "stdout",
     "output_type": "stream",
     "text": [
      "[[ 9 16]\n",
      " [ 9 92]\n",
      " [13 18]\n",
      " [13 39]\n",
      " [16 92]\n",
      " [18 39]\n",
      " [23 89]\n",
      " [23 98]\n",
      " [26 26]\n",
      " [26 70]\n",
      " [32 60]\n",
      " [32 86]\n",
      " [33 70]\n",
      " [33 94]\n",
      " [34 69]\n",
      " [34 96]\n",
      " [41 58]\n",
      " [41 93]\n",
      " [43 84]\n",
      " [43 97]\n",
      " [58 93]\n",
      " [60 86]\n",
      " [69 96]\n",
      " [70 94]\n",
      " [73 81]\n",
      " [73 95]\n",
      " [81 95]\n",
      " [84 97]\n",
      " [89 98]]\n"
     ]
    }
   ],
   "source": [
    "triangles = np.random.randint(0, 100, (10, 3))\n",
    "edges = np.sort(np.concatenate([triangles[:, [0, 1]],\n",
    "                                triangles[:, [1, 2]],\n",
    "                                triangles[:, [2, 0]]]), axis=1)\n",
    "edges = np.unique(edges, axis=0)\n",
    "print(edges)"
   ]
  },
  {
   "cell_type": "markdown",
   "id": "bcc34f27",
   "metadata": {},
   "source": [
    "#### 74. Given a sorted array C that corresponds to a bincount, how to produce an array A such that np.bincount(A) == C? (★★★)"
   ]
  },
  {
   "cell_type": "code",
   "execution_count": 12,
   "id": "beb8e3e8",
   "metadata": {},
   "outputs": [
    {
     "name": "stdout",
     "output_type": "stream",
     "text": [
      "[1 1 2 3 3 3]\n"
     ]
    }
   ],
   "source": [
    "C = np.bincount([1, 1, 2, 3, 3, 3])\n",
    "A = np.repeat(np.arange(len(C)), C)\n",
    "print(A)"
   ]
  },
  {
   "cell_type": "markdown",
   "id": "b365cc6c",
   "metadata": {},
   "source": [
    "#### 75. How to compute averages using a sliding window over an array? (★★★)"
   ]
  },
  {
   "cell_type": "code",
   "execution_count": 13,
   "id": "e0831ba1",
   "metadata": {},
   "outputs": [
    {
     "name": "stdout",
     "output_type": "stream",
     "text": [
      "[ 1.  2.  3.  4.  5.  6.  7.  8.  9. 10. 11. 12. 13. 14. 15. 16. 17. 18.]\n"
     ]
    }
   ],
   "source": [
    "def moving_average(a, n=3):\n",
    "    ret = np.cumsum(a, dtype=float)\n",
    "    ret[n:] = ret[n:] - ret[:-n]\n",
    "    return ret[n - 1:] / n\n",
    "\n",
    "Z = np.arange(20)\n",
    "print(moving_average(Z, n=3))"
   ]
  },
  {
   "cell_type": "markdown",
   "id": "91c854ca",
   "metadata": {},
   "source": [
    "#### 76. Consider a one-dimensional array Z, build a two-dimensional array whose first row is (Z[0],Z[1],Z[2]) and each subsequent row is  shifted by 1 (last row should be (Z[-3],Z[-2],Z[-1]) (★★★)"
   ]
  },
  {
   "cell_type": "code",
   "execution_count": 14,
   "id": "1ac36aad",
   "metadata": {},
   "outputs": [
    {
     "name": "stdout",
     "output_type": "stream",
     "text": [
      "[[0 1 2]\n",
      " [1 2 3]\n",
      " [2 3 4]\n",
      " [3 4 5]\n",
      " [4 5 6]\n",
      " [5 6 7]\n",
      " [6 7 8]\n",
      " [7 8 9]]\n"
     ]
    }
   ],
   "source": [
    "Z = np.arange(10)\n",
    "print(np.lib.stride_tricks.sliding_window_view(Z, window_shape=3))"
   ]
  },
  {
   "cell_type": "markdown",
   "id": "cbd50313",
   "metadata": {},
   "source": [
    "#### 77. How to negate a boolean, or to change the sign of a float inplace? (★★★)"
   ]
  },
  {
   "cell_type": "code",
   "execution_count": 15,
   "id": "7c3b7ab3",
   "metadata": {},
   "outputs": [
    {
     "name": "stdout",
     "output_type": "stream",
     "text": [
      "[False  True False]\n",
      "[-1  2 -3]\n"
     ]
    }
   ],
   "source": [
    "Z = np.array([True, False, True])\n",
    "Z = ~Z\n",
    "print(Z)\n",
    "\n",
    "F = np.array([1, -2, 3])\n",
    "F *= -1\n",
    "print(F)"
   ]
  },
  {
   "cell_type": "markdown",
   "id": "94a6cb93",
   "metadata": {},
   "source": [
    "#### 78. Consider 2 sets of points P0,P1 describing lines (2d) and a point p, how to compute distance from p to each line i (P0[i],P1[i])? (★★★)"
   ]
  },
  {
   "cell_type": "code",
   "execution_count": 16,
   "id": "705f9fa8",
   "metadata": {},
   "outputs": [
    {
     "name": "stdout",
     "output_type": "stream",
     "text": [
      "[0.94153597 0.53173045 0.59575731 0.26105794 0.01658633 0.54761783\n",
      " 0.67241306 0.15396415 0.18895721 0.67799903]\n"
     ]
    }
   ],
   "source": [
    "def distance_point_to_line(P0, P1, p):\n",
    "    T = P1 - P0\n",
    "    L = np.sum((T)**2, axis=1)\n",
    "    u = np.sum((p - P0) * T, axis=1) / L\n",
    "    d = np.linalg.norm(P0 + u[:, None] * T - p, axis=1)\n",
    "    return d\n",
    "\n",
    "P0 = np.random.rand(10, 2)\n",
    "P1 = np.random.rand(10, 2)\n",
    "p = np.random.rand(2)\n",
    "print(distance_point_to_line(P0, P1, p))"
   ]
  },
  {
   "cell_type": "markdown",
   "id": "7a7b065f",
   "metadata": {},
   "source": [
    "#### 79. Consider 2 sets of points P0,P1 describing lines (2d) and a set of points P, how to compute distance from each point j (P[j]) to each line i (P0[i],P1[i])? (★★★)"
   ]
  },
  {
   "cell_type": "code",
   "execution_count": 17,
   "id": "a76a1e2a",
   "metadata": {},
   "outputs": [
    {
     "name": "stdout",
     "output_type": "stream",
     "text": [
      "[[0.3060195  0.18637991 0.34761692 0.03614964 0.00622925 0.20693168\n",
      "  0.26814596 0.44605297 0.00725536 0.01002418]\n",
      " [0.02681416 0.60476626 0.27594598 0.02386152 0.55113895 0.75243521\n",
      "  0.74256947 0.03156635 0.09335563 0.33520668]\n",
      " [0.3913974  0.0384787  0.22888502 0.16617957 0.07552866 0.32042448\n",
      "  0.04308236 0.49931057 0.10446928 0.00189056]\n",
      " [0.32720934 0.02055813 0.77702405 0.56841017 0.2057393  0.27586979\n",
      "  0.20796802 0.1859704  0.5614118  0.38373545]\n",
      " [0.5979029  0.01973954 0.16612751 0.48402289 0.01948242 0.2101755\n",
      "  0.07843713 0.63833161 0.41256466 0.20233047]]\n"
     ]
    }
   ],
   "source": [
    "P0 = np.random.rand(5, 2)\n",
    "P1 = np.random.rand(5, 2)\n",
    "P = np.random.rand(10, 2)\n",
    "\n",
    "dists = np.empty((len(P0), len(P)))\n",
    "for i in range(len(P0)):\n",
    "    T = P1[i] - P0[i]\n",
    "    L = np.sum(T**2)\n",
    "    u = np.dot(P - P0[i], T) / L\n",
    "    proj = P0[i] + u[:, None] * T\n",
    "    dists[i] = np.linalg.norm(P - proj, axis=1)\n",
    "\n",
    "print(dists)"
   ]
  },
  {
   "cell_type": "markdown",
   "id": "a4a22eac",
   "metadata": {},
   "source": [
    "#### 80. Consider an arbitrary array, write a function that extracts a subpart with a fixed shape and centered on a given element (pad with a `fill` value when necessary) (★★★)"
   ]
  },
  {
   "cell_type": "code",
   "execution_count": 18,
   "id": "3d0a25fa",
   "metadata": {},
   "outputs": [
    {
     "name": "stdout",
     "output_type": "stream",
     "text": [
      "[[6 3 3 7 8]\n",
      " [3 7 8 0 0]\n",
      " [5 1 6 9 4]\n",
      " [8 6 7 7 8]\n",
      " [9 8 1 3 6]]\n",
      "[[7 8 0]\n",
      " [1 6 9]\n",
      " [6 7 7]]\n"
     ]
    }
   ],
   "source": [
    "def extract_subarray(Z, center, shape, fill=0):\n",
    "    output = np.full(shape, fill)\n",
    "    Z = np.pad(Z, [(s//2, s//2) for s in shape], constant_values=fill)\n",
    "    c = [c + s//2 for c, s in zip(center, shape)]\n",
    "    slices = tuple(slice(c[i] - shape[i]//2, c[i] + shape[i]//2 + 1) for i in range(len(shape)))\n",
    "    return Z[slices]\n",
    "\n",
    "Z = np.random.randint(0, 10, (5, 5))\n",
    "print(Z)\n",
    "print(extract_subarray(Z, (2, 2), (3, 3)))"
   ]
  },
  {
   "cell_type": "markdown",
   "id": "3e056709",
   "metadata": {},
   "source": [
    "#### 81. Consider an array Z = [1,2,3,4,5,6,7,8,9,10,11,12,13,14], how to generate an array R = [[1,2,3,4], [2,3,4,5], [3,4,5,6], ..., [11,12,13,14]]? (★★★)"
   ]
  },
  {
   "cell_type": "code",
   "execution_count": 19,
   "id": "16e69f8c",
   "metadata": {},
   "outputs": [
    {
     "name": "stdout",
     "output_type": "stream",
     "text": [
      "[[ 1  2  3  4]\n",
      " [ 2  3  4  5]\n",
      " [ 3  4  5  6]\n",
      " [ 4  5  6  7]\n",
      " [ 5  6  7  8]\n",
      " [ 6  7  8  9]\n",
      " [ 7  8  9 10]\n",
      " [ 8  9 10 11]\n",
      " [ 9 10 11 12]\n",
      " [10 11 12 13]\n",
      " [11 12 13 14]]\n"
     ]
    }
   ],
   "source": [
    "Z = np.arange(1, 15)\n",
    "R = np.lib.stride_tricks.sliding_window_view(Z, 4)\n",
    "print(R)"
   ]
  },
  {
   "cell_type": "markdown",
   "id": "df30b27a",
   "metadata": {},
   "source": [
    "#### 82. Compute a matrix rank (★★★)"
   ]
  },
  {
   "cell_type": "code",
   "execution_count": 20,
   "id": "a1d0d2cb",
   "metadata": {},
   "outputs": [
    {
     "name": "stdout",
     "output_type": "stream",
     "text": [
      "10\n"
     ]
    }
   ],
   "source": [
    "Z = np.random.rand(10, 10)\n",
    "rank = np.linalg.matrix_rank(Z)\n",
    "print(rank)"
   ]
  },
  {
   "cell_type": "markdown",
   "id": "f03b141d",
   "metadata": {},
   "source": [
    "#### 83. How to find the most frequent value in an array?"
   ]
  },
  {
   "cell_type": "code",
   "execution_count": 21,
   "id": "4ba555c9",
   "metadata": {},
   "outputs": [
    {
     "name": "stdout",
     "output_type": "stream",
     "text": [
      "9\n"
     ]
    }
   ],
   "source": [
    "Z = np.random.randint(0, 10, 50)\n",
    "most_freq = np.bincount(Z).argmax()\n",
    "print(most_freq)"
   ]
  },
  {
   "cell_type": "markdown",
   "id": "eccb13af",
   "metadata": {},
   "source": [
    "#### 84. Extract all the contiguous 3x3 blocks from a random 10x10 matrix (★★★)"
   ]
  },
  {
   "cell_type": "code",
   "execution_count": 22,
   "id": "c0fa657e",
   "metadata": {},
   "outputs": [
    {
     "name": "stdout",
     "output_type": "stream",
     "text": [
      "3\n"
     ]
    }
   ],
   "source": [
    "Z = np.random.randint(0, 10, 50)\n",
    "most_freq = np.bincount(Z).argmax()\n",
    "print(most_freq)"
   ]
  },
  {
   "cell_type": "markdown",
   "id": "1e955525",
   "metadata": {},
   "source": [
    "#### 85. Create a 2D array subclass such that Z[i,j] == Z[j,i] (★★★)"
   ]
  },
  {
   "cell_type": "code",
   "execution_count": 23,
   "id": "4b640a43",
   "metadata": {},
   "outputs": [
    {
     "name": "stdout",
     "output_type": "stream",
     "text": [
      "(8, 8, 3, 3)\n"
     ]
    }
   ],
   "source": [
    "Z = np.random.rand(10, 10)\n",
    "block3x3 = np.lib.stride_tricks.sliding_window_view(Z, (3, 3))\n",
    "print(block3x3.shape)"
   ]
  },
  {
   "cell_type": "markdown",
   "id": "24891de6",
   "metadata": {},
   "source": [
    "#### 86. Consider a set of p matrices with shape (n,n) and a set of p vectors with shape (n,1). How to compute the sum of of the p matrix products at once? (result has shape (n,1)) (★★★)"
   ]
  },
  {
   "cell_type": "code",
   "execution_count": 24,
   "id": "3be310a0",
   "metadata": {},
   "outputs": [
    {
     "name": "stdout",
     "output_type": "stream",
     "text": [
      "[[2.48802341]\n",
      " [3.25350156]\n",
      " [2.71265001]]\n"
     ]
    }
   ],
   "source": [
    "p, n = 5, 3\n",
    "M = np.random.rand(p, n, n)\n",
    "V = np.random.rand(p, n, 1)\n",
    "S = np.einsum('ijk,ikl->jl', M, V)\n",
    "print(S)"
   ]
  },
  {
   "cell_type": "markdown",
   "id": "c250f782",
   "metadata": {},
   "source": [
    "#### 87. Consider a 16x16 array, how to get the block-sum (block size is 4x4)? (★★★)"
   ]
  },
  {
   "cell_type": "code",
   "execution_count": 25,
   "id": "090b56b5",
   "metadata": {},
   "outputs": [
    {
     "name": "stdout",
     "output_type": "stream",
     "text": [
      "[[6.88243215 8.58469014 9.65156745 8.70925156]\n",
      " [7.52716293 5.66711153 8.68678622 6.80882665]\n",
      " [6.40726201 8.0410058  8.7971409  7.29811774]\n",
      " [6.47519344 7.97211714 8.33449271 7.82917726]]\n"
     ]
    }
   ],
   "source": [
    "Z = np.random.rand(16, 16)\n",
    "block_sum = Z.reshape(4, 4, 4, 4).sum(axis=(2, 3))\n",
    "print(block_sum)"
   ]
  },
  {
   "cell_type": "markdown",
   "id": "48064219",
   "metadata": {},
   "source": [
    "#### 88. How to implement the Game of Life using numpy arrays? (★★★)"
   ]
  },
  {
   "cell_type": "code",
   "execution_count": 26,
   "id": "4c9bd070",
   "metadata": {},
   "outputs": [
    {
     "name": "stdout",
     "output_type": "stream",
     "text": [
      "[[0 0 0 0 0 0 0 0 0 0]\n",
      " [0 0 0 0 0 0 0 1 0 0]\n",
      " [0 0 0 0 0 0 0 1 1 0]\n",
      " [0 1 0 0 0 0 0 1 0 0]\n",
      " [0 1 0 0 0 0 0 0 1 0]\n",
      " [0 1 0 1 0 0 0 1 0 0]\n",
      " [0 0 0 0 0 0 0 0 0 0]\n",
      " [0 1 1 1 0 0 0 0 0 0]\n",
      " [0 0 0 0 0 0 0 0 0 0]\n",
      " [0 0 0 0 0 0 0 0 0 0]]\n"
     ]
    }
   ],
   "source": [
    "def iterate(Z):\n",
    "    N = (Z[0:-2,0:-2] + Z[0:-2,1:-1] + Z[0:-2,2:] +\n",
    "         Z[1:-1,0:-2] +               Z[1:-1,2:] +\n",
    "         Z[2:  ,0:-2] + Z[2:  ,1:-1] + Z[2:  ,2:])\n",
    "    birth = (N == 3) & (Z[1:-1,1:-1] == 0)\n",
    "    survive = ((N == 2) | (N == 3)) & (Z[1:-1,1:-1] == 1)\n",
    "    Z[...] = 0\n",
    "    Z[1:-1,1:-1][birth | survive] = 1\n",
    "    return Z\n",
    "\n",
    "Z = np.random.randint(0, 2, (10, 10))\n",
    "iterate(Z)\n",
    "print(Z)"
   ]
  },
  {
   "cell_type": "markdown",
   "id": "3ad7c2e9",
   "metadata": {},
   "source": [
    "#### 89. How to get the n largest values of an array (★★★)"
   ]
  },
  {
   "cell_type": "code",
   "execution_count": 27,
   "id": "8d1dd580",
   "metadata": {},
   "outputs": [
    {
     "name": "stdout",
     "output_type": "stream",
     "text": [
      "[0.98506118 0.98248701 0.98096448 0.94953273 0.93892378]\n"
     ]
    }
   ],
   "source": [
    "Z = np.random.rand(100)\n",
    "n = 5\n",
    "print(Z[np.argpartition(-Z, n)[:n]])"
   ]
  },
  {
   "cell_type": "markdown",
   "id": "3a64b152",
   "metadata": {},
   "source": [
    "#### 90. Given an arbitrary number of vectors, build the cartesian product (every combination of every item) (★★★)"
   ]
  },
  {
   "cell_type": "code",
   "execution_count": 28,
   "id": "e1bd5177",
   "metadata": {},
   "outputs": [
    {
     "name": "stdout",
     "output_type": "stream",
     "text": [
      "[[1 3 5]\n",
      " [1 4 5]\n",
      " [2 3 5]\n",
      " [2 4 5]\n",
      " [1 3 6]\n",
      " [1 4 6]\n",
      " [2 3 6]\n",
      " [2 4 6]]\n"
     ]
    }
   ],
   "source": [
    "def cartesian_product(*arrays):\n",
    "    return np.array(np.meshgrid(*arrays)).T.reshape(-1, len(arrays))\n",
    "\n",
    "print(cartesian_product([1, 2], [3, 4], [5, 6]))"
   ]
  },
  {
   "cell_type": "markdown",
   "id": "2d4144aa",
   "metadata": {},
   "source": [
    "#### 91. How to create a record array from a regular array? (★★★)"
   ]
  },
  {
   "cell_type": "code",
   "execution_count": 29,
   "id": "d66e2085",
   "metadata": {},
   "outputs": [
    {
     "name": "stdout",
     "output_type": "stream",
     "text": [
      "[[(1., 1.) (2., 2.)]\n",
      " [(3., 3.) (4., 4.)]]\n"
     ]
    }
   ],
   "source": [
    "Z = np.array([[1, 2.0], [3, 4.0]], dtype='f8,f8')\n",
    "print(Z)"
   ]
  },
  {
   "cell_type": "markdown",
   "id": "3712ad1d",
   "metadata": {},
   "source": [
    "#### 92. Consider a large vector Z, compute Z to the power of 3 using 3 different methods (★★★)"
   ]
  },
  {
   "cell_type": "code",
   "execution_count": 30,
   "id": "5627fa7c",
   "metadata": {},
   "outputs": [
    {
     "name": "stdout",
     "output_type": "stream",
     "text": [
      "[  0   1   8  27  64 125 216 343 512 729]\n",
      "[  0   1   8  27  64 125 216 343 512 729]\n",
      "[  0   1   8  27  64 125 216 343 512 729]\n"
     ]
    }
   ],
   "source": [
    "Z = np.arange(10)\n",
    "print(Z ** 3)\n",
    "print(np.power(Z, 3))\n",
    "print(np.multiply(Z, Z*Z))"
   ]
  },
  {
   "cell_type": "markdown",
   "id": "7aadddea",
   "metadata": {},
   "source": [
    "#### 93. Consider two arrays A and B of shape (8,3) and (2,2). How to find rows of A that contain elements of each row of B regardless of the order of the elements in B? (★★★)"
   ]
  },
  {
   "cell_type": "code",
   "execution_count": 31,
   "id": "2d2bcb22",
   "metadata": {},
   "outputs": [
    {
     "name": "stdout",
     "output_type": "stream",
     "text": [
      "[[4 0 1]\n",
      " [1 4 0]\n",
      " [1 4 0]\n",
      " [2 1 4]]\n"
     ]
    }
   ],
   "source": [
    "A = np.random.randint(0, 5, (8, 3))\n",
    "B = np.random.randint(0, 5, (2, 2))\n",
    "\n",
    "mask = np.array([np.all(np.isin(b, row)) for row in A for b in B]).reshape(len(A), len(B))\n",
    "rows = A[np.any(mask, axis=1)]\n",
    "print(rows)"
   ]
  },
  {
   "cell_type": "markdown",
   "id": "ce2e0ef6",
   "metadata": {},
   "source": [
    "#### 94. Considering a 10x3 matrix, extract rows with unequal values (e.g. [2,2,3]) (★★★)"
   ]
  },
  {
   "cell_type": "code",
   "execution_count": 32,
   "id": "94b79a35",
   "metadata": {},
   "outputs": [
    {
     "name": "stdout",
     "output_type": "stream",
     "text": [
      "[[2 3 3]\n",
      " [4 1 3]\n",
      " [4 2 0]\n",
      " [2 0 2]\n",
      " [0 3 3]\n",
      " [1 4 1]\n",
      " [3 4 1]\n",
      " [2 3 0]\n",
      " [0 4 1]]\n"
     ]
    }
   ],
   "source": [
    "Z = np.random.randint(0, 5, (10, 3))\n",
    "print(Z[~(Z[:, 0] == Z[:, 1]) | ~(Z[:, 1] == Z[:, 2])])"
   ]
  },
  {
   "cell_type": "markdown",
   "id": "fac5263a",
   "metadata": {},
   "source": [
    "#### 95. Convert a vector of ints into a matrix binary representation (★★★)"
   ]
  },
  {
   "cell_type": "code",
   "execution_count": 33,
   "id": "62291895",
   "metadata": {},
   "outputs": [
    {
     "name": "stdout",
     "output_type": "stream",
     "text": [
      "[[0 0 0 0 0 0 0 0]\n",
      " [1 0 0 0 0 0 0 0]\n",
      " [0 1 0 0 0 0 0 0]\n",
      " [1 1 0 0 0 0 0 0]\n",
      " [0 0 1 0 0 0 0 0]\n",
      " [1 0 1 0 0 0 0 0]\n",
      " [0 1 1 0 0 0 0 0]\n",
      " [1 1 1 0 0 0 0 0]\n",
      " [0 0 0 1 0 0 0 0]\n",
      " [1 0 0 1 0 0 0 0]]\n"
     ]
    }
   ],
   "source": [
    "Z = np.arange(10)\n",
    "print(((Z[:, None] & (1 << np.arange(8))) > 0).astype(int))"
   ]
  },
  {
   "cell_type": "markdown",
   "id": "85bcb763",
   "metadata": {},
   "source": [
    "#### 96. Given a two dimensional array, how to extract unique rows? (★★★)"
   ]
  },
  {
   "cell_type": "code",
   "execution_count": 38,
   "id": "c348ae06",
   "metadata": {},
   "outputs": [
    {
     "name": "stdout",
     "output_type": "stream",
     "text": [
      "[[0 0 0]\n",
      " [0 0 1]\n",
      " [0 1 1]\n",
      " [1 0 1]\n",
      " [1 1 1]]\n"
     ]
    }
   ],
   "source": [
    "Z = np.random.randint(0, 2, (10, 3))\n",
    "print(np.unique(Z, axis=0))"
   ]
  },
  {
   "cell_type": "markdown",
   "id": "5d35d3f8",
   "metadata": {},
   "source": [
    "#### 97. Considering 2 vectors A & B, write the einsum equivalent of inner, outer, sum, and mul function (★★★)"
   ]
  },
  {
   "cell_type": "code",
   "execution_count": 37,
   "id": "7f04a281",
   "metadata": {},
   "outputs": [
    {
     "name": "stdout",
     "output_type": "stream",
     "text": [
      "11\n",
      "[[3 4]\n",
      " [6 8]]\n",
      "3\n",
      "[3 8]\n"
     ]
    }
   ],
   "source": [
    "A = np.array([1, 2])\n",
    "B = np.array([3, 4])\n",
    "\n",
    "print(np.einsum('i,i->', A, B))    # Inner product\n",
    "print(np.einsum('i,j->ij', A, B))  # Outer product\n",
    "print(np.einsum('i->', A))         # Sum\n",
    "print(np.einsum('i,i->i', A, B))   "
   ]
  },
  {
   "cell_type": "markdown",
   "id": "fd4cd346",
   "metadata": {},
   "source": [
    "#### 98. Considering a path described by two vectors (X,Y), how to sample it using equidistant samples (★★★)?"
   ]
  },
  {
   "cell_type": "code",
   "execution_count": 36,
   "id": "65790a2b",
   "metadata": {},
   "outputs": [
    {
     "name": "stdout",
     "output_type": "stream",
     "text": [
      "[0.56859942 0.6221602  0.67572098 0.72928175 0.78284253 0.83640331\n",
      " 0.88996409 0.94352487 0.99708565 1.05064643 1.10420721 1.15776799\n",
      " 1.21132877 1.26488955 1.31845033 1.37201111 1.42557189 1.48001852\n",
      " 1.53739405 1.59476958 1.65214511 1.70952064 1.76689617 1.8242717\n",
      " 1.88164723 1.93902276 1.99639829 2.05377382 2.11114934 2.16852487\n",
      " 2.2259004  2.28327593 2.34065146 2.39145211 2.44167134 2.48058561\n",
      " 2.49866437 2.51674314 2.5348219  2.55290067 2.57097943 2.59890174\n",
      " 2.6485499  2.69819806 2.74784622 2.79749438 2.84714255 2.89679071\n",
      " 2.94643887 2.99608703 3.04573519 3.09538335 3.14503151 3.19467968\n",
      " 3.24432784 3.293976   3.34362416 3.39327232 3.44292048 3.49540587\n",
      " 3.54798643 3.600567   3.65314756 3.70572812 3.75830868 3.81088924\n",
      " 3.86346981 3.91605037 3.96863093 4.02121149 4.06595092 4.10939974\n",
      " 4.15284857 4.19629739 4.23974622 4.28319504 4.32664387 4.37009269\n",
      " 4.41354151 4.45699034 4.50043916 4.54388799 4.55502947 4.56249639\n",
      " 4.5699633  4.57743022 4.58489713 4.60524131 4.62577625 4.64631119\n",
      " 4.66684613 4.68738108 4.70791602 4.72845096 4.7489859  4.76952085\n",
      " 4.79005579 4.81059073 4.83112567 4.85166062] [0.222819   0.25814153 0.29346406 0.32878659 0.36410912 0.39943165\n",
      " 0.43475418 0.47007671 0.50539923 0.54072176 0.57604429 0.61136682\n",
      " 0.64668935 0.68201188 0.71733441 0.75265694 0.78797947 0.82176735\n",
      " 0.85048123 0.8791951  0.90790898 0.93662286 0.96533674 0.99405062\n",
      " 1.0227645  1.05147838 1.08019226 1.10890613 1.13762001 1.16633389\n",
      " 1.19504777 1.22376165 1.25247553 1.29149498 1.33142577 1.37896422\n",
      " 1.44052392 1.50208361 1.56364331 1.62520301 1.68676271 1.74179908\n",
      " 1.78243771 1.82307634 1.86371497 1.9043536  1.94499223 1.98563086\n",
      " 2.02626949 2.06690812 2.10754675 2.14818538 2.18882401 2.22946264\n",
      " 2.27010127 2.3107399  2.35137853 2.39201716 2.43265579 2.46954727\n",
      " 2.50631305 2.54307884 2.57984462 2.6166104  2.65337618 2.69014196\n",
      " 2.72690774 2.76367352 2.8004393  2.83720508 2.88293766 2.93014611\n",
      " 2.97735456 3.02456301 3.07177146 3.11897991 3.16618836 3.21339681\n",
      " 3.26060527 3.30781372 3.35502217 3.40223062 3.46426755 3.52799104\n",
      " 3.59171453 3.65543802 3.71916152 3.77998891 3.8407734  3.90155789\n",
      " 3.96234238 4.02312687 4.08391136 4.14469585 4.20548035 4.26626484\n",
      " 4.32704933 4.38783382 4.44861831 4.5094028 ]\n"
     ]
    }
   ],
   "source": [
    "X = np.cumsum(np.random.rand(10))\n",
    "Y = np.cumsum(np.random.rand(10))\n",
    "dist = np.sqrt(np.diff(X)**2 + np.diff(Y)**2)\n",
    "dist = np.insert(np.cumsum(dist), 0, 0)\n",
    "alpha = np.linspace(0, dist[-1], 100)\n",
    "X_out = np.interp(alpha, dist, X)\n",
    "Y_out = np.interp(alpha, dist, Y)\n",
    "print(X_out, Y_out)"
   ]
  },
  {
   "cell_type": "markdown",
   "id": "5f0572af",
   "metadata": {},
   "source": [
    "#### 99. Given an integer n and a 2D array X, select from X the rows which can be interpreted as draws from a multinomial distribution with n degrees, i.e., the rows which only contain integers and which sum to n. (★★★)"
   ]
  },
  {
   "cell_type": "code",
   "execution_count": 40,
   "id": "fcea30b6",
   "metadata": {},
   "outputs": [
    {
     "name": "stdout",
     "output_type": "stream",
     "text": [
      "[[1 1 2 2 4]\n",
      " [2 3 3 1 1]\n",
      " [4 3 2 0 1]\n",
      " [4 1 3 1 1]\n",
      " [1 1 4 1 3]\n",
      " [4 3 2 1 0]\n",
      " [2 2 1 2 3]\n",
      " [1 4 3 1 1]\n",
      " [3 3 0 0 4]\n",
      " [0 3 4 0 3]\n",
      " [1 0 4 3 2]\n",
      " [4 4 0 2 0]\n",
      " [1 1 2 4 2]]\n"
     ]
    }
   ],
   "source": [
    "n = 10\n",
    "X = np.random.randint(0, 5, (100, 5))\n",
    "print(X[X.sum(axis=1) == n])"
   ]
  },
  {
   "cell_type": "markdown",
   "id": "0c86dfd0",
   "metadata": {},
   "source": [
    "#### 100. Compute bootstrapped 95% confidence intervals for the mean of a 1D array X (i.e., resample the elements of an array with replacement N times, compute the mean of each sample, and then compute percentiles over the means). (★★★)"
   ]
  },
  {
   "cell_type": "code",
   "execution_count": 34,
   "id": "05e1d7f9",
   "metadata": {},
   "outputs": [
    {
     "name": "stdout",
     "output_type": "stream",
     "text": [
      "[0.48085842 0.58841378]\n"
     ]
    }
   ],
   "source": [
    "X = np.random.rand(100)\n",
    "N = 1000\n",
    "means = [np.mean(np.random.choice(X, size=X.size, replace=True)) for _ in range(N)]\n",
    "conf_int = np.percentile(means, [2.5, 97.5])\n",
    "print(conf_int)"
   ]
  }
 ],
 "metadata": {
  "kernelspec": {
   "display_name": "Python 3 (ipykernel)",
   "language": "python",
   "name": "python3"
  },
  "language_info": {
   "codemirror_mode": {
    "name": "ipython",
    "version": 3
   },
   "file_extension": ".py",
   "mimetype": "text/x-python",
   "name": "python",
   "nbconvert_exporter": "python",
   "pygments_lexer": "ipython3",
   "version": "3.11.0"
  }
 },
 "nbformat": 4,
 "nbformat_minor": 5
}
